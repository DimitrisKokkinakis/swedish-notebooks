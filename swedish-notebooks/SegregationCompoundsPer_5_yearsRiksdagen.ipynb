{
  "nbformat": 4,
  "nbformat_minor": 0,
  "metadata": {
    "colab": {
      "provenance": []
    },
    "kernelspec": {
      "name": "python3",
      "display_name": "Python 3"
    },
    "language_info": {
      "name": "python"
    }
  },
  "cells": [
    {
      "cell_type": "markdown",
      "source": [
        "#### 2025-01-21: De vanligaste (>3 förekomster under hela perioden) av sammansättningar med *segregation* som efterled, i *Riksdagens öppna data*. Period: 1970–2024. Grafen är interaktiv.\""
      ],
      "metadata": {
        "id": "38voJMnATbz9"
      }
    },
    {
      "cell_type": "code",
      "execution_count": 67,
      "metadata": {
        "id": "QkoeiijUTBp9"
      },
      "outputs": [],
      "source": [
        "# Import necessary libraries\n",
        "import pandas as pd\n",
        "import plotly.graph_objects as go\n",
        "\n",
        "# Data preparation\n",
        "# Create a dictionary containing the data for occurrences of the \"COMPOUND\" terms over time spans\n",
        "data = {\n",
        "    \"COMPOUND\": [\"arbetsgivarsegregation\", \"arbetsmarknadssegregation\", \"boendesegregation\",\n",
        "                 \"bostadssegregation\", \"desegregation\", \"kunskapssegregation\", \"könssegregation\",\n",
        "                 \"skolsegregation\", \"språksegregation\", \"utbildningssegregation\", \"ålderssegregation\"],\n",
        "    \"1970-1974\": [0,0,2,9,0,0,0,1,0,0,0],\n",
        "    \"1975-1979\": [0,0,4,17,0,0,1,0,0,0,1],\n",
        "    \"1980-1984\": [0,0,9,4,0,0,0,0,0,0,1],\n",
        "    \"1985-1989\": [0,0,2,3,0,0,0,0,0,0,0],\n",
        "    \"1990-1994\": [0,0,6,6,0,1,3,1,0,0,0],\n",
        "    \"1995-1999\": [0,0,53,29,1,0,2,0,0,0,0],\n",
        "    \"2000-2004\": [9,0,72,25,1,1,3,11,0,0,13],\n",
        "    \"2005-2009\": [0,0,146,33,1,6,14,3,0,1,7],\n",
        "    \"2010-2014\": [0,0,53,20,13,11,9,21,0,2,0],\n",
        "    \"2015-2019\": [0,0,102,105,5,2,30,130,2,2,1],\n",
        "    \"2020-2024\": [0,4,225,108,1,2,2,335,2,0,1]\n",
        "    }\n",
        "\n",
        "# Convert the data dictionary into a Pandas DataFrame\n",
        "df = pd.DataFrame(data)\n",
        "\n",
        "# Extract the \"COMPOUND\" column and time spans (all columns except the first one)\n",
        "compounds = df[\"COMPOUND\"]\n",
        "time_spans = df.columns[1:]\n",
        "\n",
        "\n",
        "# Filter compounds with total occurrences > 3\n",
        "df[\"Total\"] = df.iloc[:, 1:].sum(axis=1)\n",
        "filtered_df = df[df[\"Total\"] > 3]\n",
        "\n",
        "# Prepare data for the plot\n",
        "time_spans = df.columns[1:-1]  # Exclude \"COMPOUND\" and \"Total\"\n",
        "compounds = filtered_df[\"COMPOUND\"]"
      ]
    },
    {
      "cell_type": "code",
      "source": [
        "# Create the figure\n",
        "fig = go.Figure()\n",
        "\n",
        "# Add a trace for each compound\n",
        "for i, compound in enumerate(compounds):\n",
        "    fig.add_trace(\n",
        "        go.Scatter(\n",
        "            x=time_spans,  # Time spans\n",
        "            y=filtered_df.iloc[i, 1:-1],  # Occurrences across time spans\n",
        "            mode=\"lines+markers\",  # Line plot with markers\n",
        "            name=compound  # Legend entry\n",
        "        )\n",
        "    )\n",
        "\n",
        "# Update layout for better display\n",
        "fig.update_layout(\n",
        "    title=(\n",
        "        \"Trendlinjer för 11 sammansättningar med <i><b>'segregation'</b></i> som efterled, vilka förekom mer än tre gånger (3) \"\n",
        "        \"under hela perioden 1970–2024 (Riksdagens öppna data).<br>Grafen är interaktiv och manipuleras genom att filtrera / klicka bort \"\n",
        "        \"ett eller flera indexord till höger.\"\n",
        "    ),\n",
        "    xaxis_title=\"Årtionden\",\n",
        "    yaxis_title=\"Antal förekomster\",\n",
        "    template=\"seaborn\",  # Various templates: \"plotly\", \"plotly_white\", \"plotly_dark\", \"ggplot2\", \"seaborn\", \"simple_white\", \"none\"\n",
        "    plot_bgcolor=\"rgba(0, 0, 0, 0)\",\n",
        "    height=500,\n",
        "    legend=dict(\n",
        "        x=0,  # Horizontal position (inside the plot)\n",
        "        y=1,  # Vertical position (inside the plot, top left)\n",
        "        xanchor=\"left\",  # Align legend to the left\n",
        "        yanchor=\"top\",  # Align legend to the top\n",
        "        borderwidth=1,  # Optional: Add a border around the legend for clarity\n",
        "        bordercolor=\"black\",  # Optional: Border color\n",
        "        orientation=\"v\"  # Optional: Arrange legend entries vertically\n",
        "    )\n",
        ")\n",
        "\n",
        "# Show plot\n",
        "fig.show()"
      ],
      "metadata": {
        "colab": {
          "base_uri": "https://localhost:8080/",
          "height": 517
        },
        "id": "6gFZAO1mTkau",
        "outputId": "7b0dd1a7-0879-46e9-9f33-d4e958f2104f"
      },
      "execution_count": 68,
      "outputs": [
        {
          "output_type": "display_data",
          "data": {
            "text/html": [
              "<html>\n",
              "<head><meta charset=\"utf-8\" /></head>\n",
              "<body>\n",
              "    <div>            <script src=\"https://cdnjs.cloudflare.com/ajax/libs/mathjax/2.7.5/MathJax.js?config=TeX-AMS-MML_SVG\"></script><script type=\"text/javascript\">if (window.MathJax && window.MathJax.Hub && window.MathJax.Hub.Config) {window.MathJax.Hub.Config({SVG: {font: \"STIX-Web\"}});}</script>                <script type=\"text/javascript\">window.PlotlyConfig = {MathJaxConfig: 'local'};</script>\n",
              "        <script charset=\"utf-8\" src=\"https://cdn.plot.ly/plotly-2.35.2.min.js\"></script>                <div id=\"5b4ec0bb-113f-40f4-8115-a4de72f55c58\" class=\"plotly-graph-div\" style=\"height:500px; width:100%;\"></div>            <script type=\"text/javascript\">                                    window.PLOTLYENV=window.PLOTLYENV || {};                                    if (document.getElementById(\"5b4ec0bb-113f-40f4-8115-a4de72f55c58\")) {                    Plotly.newPlot(                        \"5b4ec0bb-113f-40f4-8115-a4de72f55c58\",                        [{\"mode\":\"lines+markers\",\"name\":\"arbetsgivarsegregation\",\"x\":[\"1970-1974\",\"1975-1979\",\"1980-1984\",\"1985-1989\",\"1990-1994\",\"1995-1999\",\"2000-2004\",\"2005-2009\",\"2010-2014\",\"2015-2019\",\"2020-2024\"],\"y\":[0,0,0,0,0,0,9,0,0,0,0],\"type\":\"scatter\"},{\"mode\":\"lines+markers\",\"name\":\"arbetsmarknadssegregation\",\"x\":[\"1970-1974\",\"1975-1979\",\"1980-1984\",\"1985-1989\",\"1990-1994\",\"1995-1999\",\"2000-2004\",\"2005-2009\",\"2010-2014\",\"2015-2019\",\"2020-2024\"],\"y\":[0,0,0,0,0,0,0,0,0,0,4],\"type\":\"scatter\"},{\"mode\":\"lines+markers\",\"name\":\"boendesegregation\",\"x\":[\"1970-1974\",\"1975-1979\",\"1980-1984\",\"1985-1989\",\"1990-1994\",\"1995-1999\",\"2000-2004\",\"2005-2009\",\"2010-2014\",\"2015-2019\",\"2020-2024\"],\"y\":[2,4,9,2,6,53,72,146,53,102,225],\"type\":\"scatter\"},{\"mode\":\"lines+markers\",\"name\":\"bostadssegregation\",\"x\":[\"1970-1974\",\"1975-1979\",\"1980-1984\",\"1985-1989\",\"1990-1994\",\"1995-1999\",\"2000-2004\",\"2005-2009\",\"2010-2014\",\"2015-2019\",\"2020-2024\"],\"y\":[9,17,4,3,6,29,25,33,20,105,108],\"type\":\"scatter\"},{\"mode\":\"lines+markers\",\"name\":\"desegregation\",\"x\":[\"1970-1974\",\"1975-1979\",\"1980-1984\",\"1985-1989\",\"1990-1994\",\"1995-1999\",\"2000-2004\",\"2005-2009\",\"2010-2014\",\"2015-2019\",\"2020-2024\"],\"y\":[0,0,0,0,0,1,1,1,13,5,1],\"type\":\"scatter\"},{\"mode\":\"lines+markers\",\"name\":\"kunskapssegregation\",\"x\":[\"1970-1974\",\"1975-1979\",\"1980-1984\",\"1985-1989\",\"1990-1994\",\"1995-1999\",\"2000-2004\",\"2005-2009\",\"2010-2014\",\"2015-2019\",\"2020-2024\"],\"y\":[0,0,0,0,1,0,1,6,11,2,2],\"type\":\"scatter\"},{\"mode\":\"lines+markers\",\"name\":\"könssegregation\",\"x\":[\"1970-1974\",\"1975-1979\",\"1980-1984\",\"1985-1989\",\"1990-1994\",\"1995-1999\",\"2000-2004\",\"2005-2009\",\"2010-2014\",\"2015-2019\",\"2020-2024\"],\"y\":[0,1,0,0,3,2,3,14,9,30,2],\"type\":\"scatter\"},{\"mode\":\"lines+markers\",\"name\":\"skolsegregation\",\"x\":[\"1970-1974\",\"1975-1979\",\"1980-1984\",\"1985-1989\",\"1990-1994\",\"1995-1999\",\"2000-2004\",\"2005-2009\",\"2010-2014\",\"2015-2019\",\"2020-2024\"],\"y\":[1,0,0,0,1,0,11,3,21,130,335],\"type\":\"scatter\"},{\"mode\":\"lines+markers\",\"name\":\"språksegregation\",\"x\":[\"1970-1974\",\"1975-1979\",\"1980-1984\",\"1985-1989\",\"1990-1994\",\"1995-1999\",\"2000-2004\",\"2005-2009\",\"2010-2014\",\"2015-2019\",\"2020-2024\"],\"y\":[0,0,0,0,0,0,0,0,0,2,2],\"type\":\"scatter\"},{\"mode\":\"lines+markers\",\"name\":\"utbildningssegregation\",\"x\":[\"1970-1974\",\"1975-1979\",\"1980-1984\",\"1985-1989\",\"1990-1994\",\"1995-1999\",\"2000-2004\",\"2005-2009\",\"2010-2014\",\"2015-2019\",\"2020-2024\"],\"y\":[0,0,0,0,0,0,0,1,2,2,0],\"type\":\"scatter\"},{\"mode\":\"lines+markers\",\"name\":\"ålderssegregation\",\"x\":[\"1970-1974\",\"1975-1979\",\"1980-1984\",\"1985-1989\",\"1990-1994\",\"1995-1999\",\"2000-2004\",\"2005-2009\",\"2010-2014\",\"2015-2019\",\"2020-2024\"],\"y\":[0,1,1,0,0,0,13,7,0,1,1],\"type\":\"scatter\"}],                        {\"template\":{\"data\":{\"barpolar\":[{\"marker\":{\"line\":{\"color\":\"rgb(234,234,242)\",\"width\":0.5},\"pattern\":{\"fillmode\":\"overlay\",\"size\":10,\"solidity\":0.2}},\"type\":\"barpolar\"}],\"bar\":[{\"error_x\":{\"color\":\"rgb(36,36,36)\"},\"error_y\":{\"color\":\"rgb(36,36,36)\"},\"marker\":{\"line\":{\"color\":\"rgb(234,234,242)\",\"width\":0.5},\"pattern\":{\"fillmode\":\"overlay\",\"size\":10,\"solidity\":0.2}},\"type\":\"bar\"}],\"carpet\":[{\"aaxis\":{\"endlinecolor\":\"rgb(36,36,36)\",\"gridcolor\":\"white\",\"linecolor\":\"white\",\"minorgridcolor\":\"white\",\"startlinecolor\":\"rgb(36,36,36)\"},\"baxis\":{\"endlinecolor\":\"rgb(36,36,36)\",\"gridcolor\":\"white\",\"linecolor\":\"white\",\"minorgridcolor\":\"white\",\"startlinecolor\":\"rgb(36,36,36)\"},\"type\":\"carpet\"}],\"choropleth\":[{\"colorbar\":{\"outlinewidth\":0,\"tickcolor\":\"rgb(36,36,36)\",\"ticklen\":8,\"ticks\":\"outside\",\"tickwidth\":2},\"type\":\"choropleth\"}],\"contourcarpet\":[{\"colorbar\":{\"outlinewidth\":0,\"tickcolor\":\"rgb(36,36,36)\",\"ticklen\":8,\"ticks\":\"outside\",\"tickwidth\":2},\"type\":\"contourcarpet\"}],\"contour\":[{\"colorbar\":{\"outlinewidth\":0,\"tickcolor\":\"rgb(36,36,36)\",\"ticklen\":8,\"ticks\":\"outside\",\"tickwidth\":2},\"colorscale\":[[0.0,\"rgb(2,4,25)\"],[0.06274509803921569,\"rgb(24,15,41)\"],[0.12549019607843137,\"rgb(47,23,57)\"],[0.18823529411764706,\"rgb(71,28,72)\"],[0.25098039215686274,\"rgb(97,30,82)\"],[0.3137254901960784,\"rgb(123,30,89)\"],[0.3764705882352941,\"rgb(150,27,91)\"],[0.4392156862745098,\"rgb(177,22,88)\"],[0.5019607843137255,\"rgb(203,26,79)\"],[0.5647058823529412,\"rgb(223,47,67)\"],[0.6274509803921569,\"rgb(236,76,61)\"],[0.6901960784313725,\"rgb(242,107,73)\"],[0.7529411764705882,\"rgb(244,135,95)\"],[0.8156862745098039,\"rgb(245,162,122)\"],[0.8784313725490196,\"rgb(246,188,153)\"],[0.9411764705882353,\"rgb(247,212,187)\"],[1.0,\"rgb(250,234,220)\"]],\"type\":\"contour\"}],\"heatmapgl\":[{\"colorbar\":{\"outlinewidth\":0,\"tickcolor\":\"rgb(36,36,36)\",\"ticklen\":8,\"ticks\":\"outside\",\"tickwidth\":2},\"colorscale\":[[0.0,\"rgb(2,4,25)\"],[0.06274509803921569,\"rgb(24,15,41)\"],[0.12549019607843137,\"rgb(47,23,57)\"],[0.18823529411764706,\"rgb(71,28,72)\"],[0.25098039215686274,\"rgb(97,30,82)\"],[0.3137254901960784,\"rgb(123,30,89)\"],[0.3764705882352941,\"rgb(150,27,91)\"],[0.4392156862745098,\"rgb(177,22,88)\"],[0.5019607843137255,\"rgb(203,26,79)\"],[0.5647058823529412,\"rgb(223,47,67)\"],[0.6274509803921569,\"rgb(236,76,61)\"],[0.6901960784313725,\"rgb(242,107,73)\"],[0.7529411764705882,\"rgb(244,135,95)\"],[0.8156862745098039,\"rgb(245,162,122)\"],[0.8784313725490196,\"rgb(246,188,153)\"],[0.9411764705882353,\"rgb(247,212,187)\"],[1.0,\"rgb(250,234,220)\"]],\"type\":\"heatmapgl\"}],\"heatmap\":[{\"colorbar\":{\"outlinewidth\":0,\"tickcolor\":\"rgb(36,36,36)\",\"ticklen\":8,\"ticks\":\"outside\",\"tickwidth\":2},\"colorscale\":[[0.0,\"rgb(2,4,25)\"],[0.06274509803921569,\"rgb(24,15,41)\"],[0.12549019607843137,\"rgb(47,23,57)\"],[0.18823529411764706,\"rgb(71,28,72)\"],[0.25098039215686274,\"rgb(97,30,82)\"],[0.3137254901960784,\"rgb(123,30,89)\"],[0.3764705882352941,\"rgb(150,27,91)\"],[0.4392156862745098,\"rgb(177,22,88)\"],[0.5019607843137255,\"rgb(203,26,79)\"],[0.5647058823529412,\"rgb(223,47,67)\"],[0.6274509803921569,\"rgb(236,76,61)\"],[0.6901960784313725,\"rgb(242,107,73)\"],[0.7529411764705882,\"rgb(244,135,95)\"],[0.8156862745098039,\"rgb(245,162,122)\"],[0.8784313725490196,\"rgb(246,188,153)\"],[0.9411764705882353,\"rgb(247,212,187)\"],[1.0,\"rgb(250,234,220)\"]],\"type\":\"heatmap\"}],\"histogram2dcontour\":[{\"colorbar\":{\"outlinewidth\":0,\"tickcolor\":\"rgb(36,36,36)\",\"ticklen\":8,\"ticks\":\"outside\",\"tickwidth\":2},\"colorscale\":[[0.0,\"rgb(2,4,25)\"],[0.06274509803921569,\"rgb(24,15,41)\"],[0.12549019607843137,\"rgb(47,23,57)\"],[0.18823529411764706,\"rgb(71,28,72)\"],[0.25098039215686274,\"rgb(97,30,82)\"],[0.3137254901960784,\"rgb(123,30,89)\"],[0.3764705882352941,\"rgb(150,27,91)\"],[0.4392156862745098,\"rgb(177,22,88)\"],[0.5019607843137255,\"rgb(203,26,79)\"],[0.5647058823529412,\"rgb(223,47,67)\"],[0.6274509803921569,\"rgb(236,76,61)\"],[0.6901960784313725,\"rgb(242,107,73)\"],[0.7529411764705882,\"rgb(244,135,95)\"],[0.8156862745098039,\"rgb(245,162,122)\"],[0.8784313725490196,\"rgb(246,188,153)\"],[0.9411764705882353,\"rgb(247,212,187)\"],[1.0,\"rgb(250,234,220)\"]],\"type\":\"histogram2dcontour\"}],\"histogram2d\":[{\"colorbar\":{\"outlinewidth\":0,\"tickcolor\":\"rgb(36,36,36)\",\"ticklen\":8,\"ticks\":\"outside\",\"tickwidth\":2},\"colorscale\":[[0.0,\"rgb(2,4,25)\"],[0.06274509803921569,\"rgb(24,15,41)\"],[0.12549019607843137,\"rgb(47,23,57)\"],[0.18823529411764706,\"rgb(71,28,72)\"],[0.25098039215686274,\"rgb(97,30,82)\"],[0.3137254901960784,\"rgb(123,30,89)\"],[0.3764705882352941,\"rgb(150,27,91)\"],[0.4392156862745098,\"rgb(177,22,88)\"],[0.5019607843137255,\"rgb(203,26,79)\"],[0.5647058823529412,\"rgb(223,47,67)\"],[0.6274509803921569,\"rgb(236,76,61)\"],[0.6901960784313725,\"rgb(242,107,73)\"],[0.7529411764705882,\"rgb(244,135,95)\"],[0.8156862745098039,\"rgb(245,162,122)\"],[0.8784313725490196,\"rgb(246,188,153)\"],[0.9411764705882353,\"rgb(247,212,187)\"],[1.0,\"rgb(250,234,220)\"]],\"type\":\"histogram2d\"}],\"histogram\":[{\"marker\":{\"pattern\":{\"fillmode\":\"overlay\",\"size\":10,\"solidity\":0.2}},\"type\":\"histogram\"}],\"mesh3d\":[{\"colorbar\":{\"outlinewidth\":0,\"tickcolor\":\"rgb(36,36,36)\",\"ticklen\":8,\"ticks\":\"outside\",\"tickwidth\":2},\"type\":\"mesh3d\"}],\"parcoords\":[{\"line\":{\"colorbar\":{\"outlinewidth\":0,\"tickcolor\":\"rgb(36,36,36)\",\"ticklen\":8,\"ticks\":\"outside\",\"tickwidth\":2}},\"type\":\"parcoords\"}],\"pie\":[{\"automargin\":true,\"type\":\"pie\"}],\"scatter3d\":[{\"line\":{\"colorbar\":{\"outlinewidth\":0,\"tickcolor\":\"rgb(36,36,36)\",\"ticklen\":8,\"ticks\":\"outside\",\"tickwidth\":2}},\"marker\":{\"colorbar\":{\"outlinewidth\":0,\"tickcolor\":\"rgb(36,36,36)\",\"ticklen\":8,\"ticks\":\"outside\",\"tickwidth\":2}},\"type\":\"scatter3d\"}],\"scattercarpet\":[{\"marker\":{\"colorbar\":{\"outlinewidth\":0,\"tickcolor\":\"rgb(36,36,36)\",\"ticklen\":8,\"ticks\":\"outside\",\"tickwidth\":2}},\"type\":\"scattercarpet\"}],\"scattergeo\":[{\"marker\":{\"colorbar\":{\"outlinewidth\":0,\"tickcolor\":\"rgb(36,36,36)\",\"ticklen\":8,\"ticks\":\"outside\",\"tickwidth\":2}},\"type\":\"scattergeo\"}],\"scattergl\":[{\"marker\":{\"colorbar\":{\"outlinewidth\":0,\"tickcolor\":\"rgb(36,36,36)\",\"ticklen\":8,\"ticks\":\"outside\",\"tickwidth\":2}},\"type\":\"scattergl\"}],\"scattermapbox\":[{\"marker\":{\"colorbar\":{\"outlinewidth\":0,\"tickcolor\":\"rgb(36,36,36)\",\"ticklen\":8,\"ticks\":\"outside\",\"tickwidth\":2}},\"type\":\"scattermapbox\"}],\"scatterpolargl\":[{\"marker\":{\"colorbar\":{\"outlinewidth\":0,\"tickcolor\":\"rgb(36,36,36)\",\"ticklen\":8,\"ticks\":\"outside\",\"tickwidth\":2}},\"type\":\"scatterpolargl\"}],\"scatterpolar\":[{\"marker\":{\"colorbar\":{\"outlinewidth\":0,\"tickcolor\":\"rgb(36,36,36)\",\"ticklen\":8,\"ticks\":\"outside\",\"tickwidth\":2}},\"type\":\"scatterpolar\"}],\"scatter\":[{\"fillpattern\":{\"fillmode\":\"overlay\",\"size\":10,\"solidity\":0.2},\"type\":\"scatter\"}],\"scatterternary\":[{\"marker\":{\"colorbar\":{\"outlinewidth\":0,\"tickcolor\":\"rgb(36,36,36)\",\"ticklen\":8,\"ticks\":\"outside\",\"tickwidth\":2}},\"type\":\"scatterternary\"}],\"surface\":[{\"colorbar\":{\"outlinewidth\":0,\"tickcolor\":\"rgb(36,36,36)\",\"ticklen\":8,\"ticks\":\"outside\",\"tickwidth\":2},\"colorscale\":[[0.0,\"rgb(2,4,25)\"],[0.06274509803921569,\"rgb(24,15,41)\"],[0.12549019607843137,\"rgb(47,23,57)\"],[0.18823529411764706,\"rgb(71,28,72)\"],[0.25098039215686274,\"rgb(97,30,82)\"],[0.3137254901960784,\"rgb(123,30,89)\"],[0.3764705882352941,\"rgb(150,27,91)\"],[0.4392156862745098,\"rgb(177,22,88)\"],[0.5019607843137255,\"rgb(203,26,79)\"],[0.5647058823529412,\"rgb(223,47,67)\"],[0.6274509803921569,\"rgb(236,76,61)\"],[0.6901960784313725,\"rgb(242,107,73)\"],[0.7529411764705882,\"rgb(244,135,95)\"],[0.8156862745098039,\"rgb(245,162,122)\"],[0.8784313725490196,\"rgb(246,188,153)\"],[0.9411764705882353,\"rgb(247,212,187)\"],[1.0,\"rgb(250,234,220)\"]],\"type\":\"surface\"}],\"table\":[{\"cells\":{\"fill\":{\"color\":\"rgb(231,231,240)\"},\"line\":{\"color\":\"white\"}},\"header\":{\"fill\":{\"color\":\"rgb(183,183,191)\"},\"line\":{\"color\":\"white\"}},\"type\":\"table\"}]},\"layout\":{\"annotationdefaults\":{\"arrowcolor\":\"rgb(67,103,167)\"},\"autotypenumbers\":\"strict\",\"coloraxis\":{\"colorbar\":{\"outlinewidth\":0,\"tickcolor\":\"rgb(36,36,36)\",\"ticklen\":8,\"ticks\":\"outside\",\"tickwidth\":2}},\"colorscale\":{\"sequential\":[[0.0,\"rgb(2,4,25)\"],[0.06274509803921569,\"rgb(24,15,41)\"],[0.12549019607843137,\"rgb(47,23,57)\"],[0.18823529411764706,\"rgb(71,28,72)\"],[0.25098039215686274,\"rgb(97,30,82)\"],[0.3137254901960784,\"rgb(123,30,89)\"],[0.3764705882352941,\"rgb(150,27,91)\"],[0.4392156862745098,\"rgb(177,22,88)\"],[0.5019607843137255,\"rgb(203,26,79)\"],[0.5647058823529412,\"rgb(223,47,67)\"],[0.6274509803921569,\"rgb(236,76,61)\"],[0.6901960784313725,\"rgb(242,107,73)\"],[0.7529411764705882,\"rgb(244,135,95)\"],[0.8156862745098039,\"rgb(245,162,122)\"],[0.8784313725490196,\"rgb(246,188,153)\"],[0.9411764705882353,\"rgb(247,212,187)\"],[1.0,\"rgb(250,234,220)\"]],\"sequentialminus\":[[0.0,\"rgb(2,4,25)\"],[0.06274509803921569,\"rgb(24,15,41)\"],[0.12549019607843137,\"rgb(47,23,57)\"],[0.18823529411764706,\"rgb(71,28,72)\"],[0.25098039215686274,\"rgb(97,30,82)\"],[0.3137254901960784,\"rgb(123,30,89)\"],[0.3764705882352941,\"rgb(150,27,91)\"],[0.4392156862745098,\"rgb(177,22,88)\"],[0.5019607843137255,\"rgb(203,26,79)\"],[0.5647058823529412,\"rgb(223,47,67)\"],[0.6274509803921569,\"rgb(236,76,61)\"],[0.6901960784313725,\"rgb(242,107,73)\"],[0.7529411764705882,\"rgb(244,135,95)\"],[0.8156862745098039,\"rgb(245,162,122)\"],[0.8784313725490196,\"rgb(246,188,153)\"],[0.9411764705882353,\"rgb(247,212,187)\"],[1.0,\"rgb(250,234,220)\"]]},\"colorway\":[\"rgb(76,114,176)\",\"rgb(221,132,82)\",\"rgb(85,168,104)\",\"rgb(196,78,82)\",\"rgb(129,114,179)\",\"rgb(147,120,96)\",\"rgb(218,139,195)\",\"rgb(140,140,140)\",\"rgb(204,185,116)\",\"rgb(100,181,205)\"],\"font\":{\"color\":\"rgb(36,36,36)\"},\"geo\":{\"bgcolor\":\"white\",\"lakecolor\":\"white\",\"landcolor\":\"rgb(234,234,242)\",\"showlakes\":true,\"showland\":true,\"subunitcolor\":\"white\"},\"hoverlabel\":{\"align\":\"left\"},\"hovermode\":\"closest\",\"paper_bgcolor\":\"white\",\"plot_bgcolor\":\"rgb(234,234,242)\",\"polar\":{\"angularaxis\":{\"gridcolor\":\"white\",\"linecolor\":\"white\",\"showgrid\":true,\"ticks\":\"\"},\"bgcolor\":\"rgb(234,234,242)\",\"radialaxis\":{\"gridcolor\":\"white\",\"linecolor\":\"white\",\"showgrid\":true,\"ticks\":\"\"}},\"scene\":{\"xaxis\":{\"backgroundcolor\":\"rgb(234,234,242)\",\"gridcolor\":\"white\",\"gridwidth\":2,\"linecolor\":\"white\",\"showbackground\":true,\"showgrid\":true,\"ticks\":\"\",\"zerolinecolor\":\"white\"},\"yaxis\":{\"backgroundcolor\":\"rgb(234,234,242)\",\"gridcolor\":\"white\",\"gridwidth\":2,\"linecolor\":\"white\",\"showbackground\":true,\"showgrid\":true,\"ticks\":\"\",\"zerolinecolor\":\"white\"},\"zaxis\":{\"backgroundcolor\":\"rgb(234,234,242)\",\"gridcolor\":\"white\",\"gridwidth\":2,\"linecolor\":\"white\",\"showbackground\":true,\"showgrid\":true,\"ticks\":\"\",\"zerolinecolor\":\"white\"}},\"shapedefaults\":{\"fillcolor\":\"rgb(67,103,167)\",\"line\":{\"width\":0},\"opacity\":0.5},\"ternary\":{\"aaxis\":{\"gridcolor\":\"white\",\"linecolor\":\"white\",\"showgrid\":true,\"ticks\":\"\"},\"baxis\":{\"gridcolor\":\"white\",\"linecolor\":\"white\",\"showgrid\":true,\"ticks\":\"\"},\"bgcolor\":\"rgb(234,234,242)\",\"caxis\":{\"gridcolor\":\"white\",\"linecolor\":\"white\",\"showgrid\":true,\"ticks\":\"\"}},\"xaxis\":{\"automargin\":true,\"gridcolor\":\"white\",\"linecolor\":\"white\",\"showgrid\":true,\"ticks\":\"\",\"title\":{\"standoff\":15},\"zerolinecolor\":\"white\"},\"yaxis\":{\"automargin\":true,\"gridcolor\":\"white\",\"linecolor\":\"white\",\"showgrid\":true,\"ticks\":\"\",\"title\":{\"standoff\":15},\"zerolinecolor\":\"white\"}}},\"legend\":{\"x\":0,\"y\":1,\"xanchor\":\"left\",\"yanchor\":\"top\",\"borderwidth\":1,\"bordercolor\":\"black\",\"orientation\":\"v\"},\"title\":{\"text\":\"Trendlinjer för 11 sammansättningar med \\u003ci\\u003e\\u003cb\\u003e'segregation'\\u003c\\u002fb\\u003e\\u003c\\u002fi\\u003e som efterled, vilka förekom mer än tre gånger (3) under hela perioden 1970–2024 (Riksdagens öppna data).\\u003cbr\\u003eGrafen är interaktiv och manipuleras genom att filtrera \\u002f klicka bort ett eller flera indexord till höger.\"},\"xaxis\":{\"title\":{\"text\":\"Årtionden\"}},\"yaxis\":{\"title\":{\"text\":\"Antal förekomster\"}},\"plot_bgcolor\":\"rgba(0, 0, 0, 0)\",\"height\":500},                        {\"responsive\": true}                    ).then(function(){\n",
              "                            \n",
              "var gd = document.getElementById('5b4ec0bb-113f-40f4-8115-a4de72f55c58');\n",
              "var x = new MutationObserver(function (mutations, observer) {{\n",
              "        var display = window.getComputedStyle(gd).display;\n",
              "        if (!display || display === 'none') {{\n",
              "            console.log([gd, 'removed!']);\n",
              "            Plotly.purge(gd);\n",
              "            observer.disconnect();\n",
              "        }}\n",
              "}});\n",
              "\n",
              "// Listen for the removal of the full notebook cells\n",
              "var notebookContainer = gd.closest('#notebook-container');\n",
              "if (notebookContainer) {{\n",
              "    x.observe(notebookContainer, {childList: true});\n",
              "}}\n",
              "\n",
              "// Listen for the clearing of the current output cell\n",
              "var outputEl = gd.closest('.output');\n",
              "if (outputEl) {{\n",
              "    x.observe(outputEl, {childList: true});\n",
              "}}\n",
              "\n",
              "                        })                };                            </script>        </div>\n",
              "</body>\n",
              "</html>"
            ]
          },
          "metadata": {}
        }
      ]
    },
    {
      "cell_type": "markdown",
      "source": [
        "#### 2025-01-22: De vanligaste (>5 förekomster under hela perioden) av sammansättningar med *segregation* som förled, i *Riksdagens öppna data*. Period: 1970–2024. Grafen är interaktiv.\"\n"
      ],
      "metadata": {
        "id": "fYTORmD0MX7p"
      }
    },
    {
      "cell_type": "code",
      "source": [],
      "metadata": {
        "id": "HUso7YPuPk7x"
      },
      "execution_count": 68,
      "outputs": []
    },
    {
      "cell_type": "code",
      "source": [],
      "metadata": {
        "id": "OBKt1511TuZG"
      },
      "execution_count": 68,
      "outputs": []
    },
    {
      "cell_type": "code",
      "source": [],
      "metadata": {
        "id": "v_Y8SoEWVdhL"
      },
      "execution_count": 68,
      "outputs": []
    },
    {
      "cell_type": "code",
      "source": [
        "import pandas as pd\n",
        "import plotly.graph_objects as go\n",
        "\n",
        "# Data preparation\n",
        "data = {\n",
        "    \"COMPOUND2\": [\"segregationsbrytande\", \"segregationseffekt\", \"segregationsfaktor\", \"segregationsforskning\",\n",
        "                 \"segregationsfråga\", \"segregationsfälla\", \"segregationsgrad\", \"segregationsmekanism\",\n",
        "                 \"segregationsmål\", \"segregationsmönster\", \"segregationsperspektiv\", \"segregationspolitisk\",\n",
        "                 \"segregationsproblem\", \"segregationsproblematik\", \"segregationsprocess\", \"segregationsspiral\",\n",
        "                 \"segregationstendens\", \"segregeringsindex\", \"segregeringsnivå\", \"segregeringspolitik\",\n",
        "                 \"segregeringsrisk\", \"segregeringssynpunkt\"],\n",
        "    \"1970-1974\": [0,0,0,0,0,0,0,0,0,0,0,0,1,0,0,0,3,0,0,0,0,0],\n",
        "    \"1975-1979\": [0,0,0,0,1,0,0,0,0,0,0,0,5,0,0,0,7,0,0,0,0,0],\n",
        "    \"1980-1984\": [0,1,0,0,0,0,0,0,0,0,0,0,4,0,3,0,6,0,0,0,0,0],\n",
        "    \"1985-1989\": [0,0,0,1,1,0,0,0,0,0,0,0,3,0,4,0,1,0,0,1,0,0],\n",
        "    \"1990-1994\": [0,2,2,0,4,1,0,0,0,0,0,0,5,1,0,8,20,0,0,2,5,2],\n",
        "    \"1995-1999\": [0,1,1,0,22,0,0,0,0,8,1,0,40,12,5,2,14,9,0,2,0,1],\n",
        "    \"2000-2004\": [0,0,3,1,6,0,1,4,12,5,4,0,31,10,10,0,15,17,1,10,1,1],\n",
        "    \"2005-2009\": [0,10,0,1,9,0,3,0,14,9,1,0,19,14,9,3,4,23,4,5,0,0],\n",
        "    \"2010-2014\": [0,1,0,0,0,0,0,0,3,4,0,0,6,0,9,0,1,1,6,5,0,0],\n",
        "    \"2015-2019\": [17,0,0,1,1,0,0,35,0,0,0,0,15,1,4,0,0,2,1,1,0,0],\n",
        "    \"2020-2024\": [3,0,1,3,13,13,2,3,0,5,4,10,25,9,0,0,2,17,0,10,0,6]\n",
        "}\n",
        "\n",
        "# Convert the data dictionary into a Pandas DataFrame\n",
        "df = pd.DataFrame(data)\n",
        "\n",
        "# Filter compounds with total occurrences > 3\n",
        "df[\"Total\"] = df.iloc[:, 1:].sum(axis=1)\n",
        "filtered_df = df[df[\"Total\"] > 3]\n",
        "\n",
        "# Prepare data for the plot\n",
        "time_spans = df.columns[1:-1]  # Exclude \"COMPOUND2\" and \"Total\"\n",
        "compounds = filtered_df[\"COMPOUND2\"]\n",
        "\n",
        "# Create the figure\n",
        "fig = go.Figure()\n",
        "\n",
        "# Add a trace for each compound\n",
        "for i, compound in enumerate(compounds):\n",
        "    fig.add_trace(\n",
        "        go.Scatter(\n",
        "            x=time_spans,  # Time spans\n",
        "            y=filtered_df.iloc[i, 1:-1],  # Occurrences across time spans\n",
        "            mode=\"lines+markers\",  # Line plot with markers\n",
        "            name=compound,  # Legend entry\n",
        "            hovertext=[f\"{compound}: {value}\" for value in filtered_df.iloc[i, 1:-1]],\n",
        "            hoverinfo=\"text\"  # Show only the custom hovertext\n",
        "        )\n",
        "    )\n",
        "\n",
        "# Update layout for better display\n",
        "fig.update_layout(\n",
        "    title=(\n",
        "        \"Trendlinjer för 22 sammansättningar med <i><b>'segregation'</b></i> som förled, vilka förekom mer än fem gånger (5) \"\n",
        "        \"under hela perioden 1970–2024 (Riksdagens öppna data).<br>Grafen är interaktiv och manipuleras genom att filtrera / klicka bort \"\n",
        "        \"ett eller flera indexord till höger.\"\n",
        "    ),\n",
        "    xaxis_title=\"Årtionden\",\n",
        "    yaxis_title=\"Antal förekomster\",\n",
        "    template=\"seaborn\",  # Other templates: \"plotly\", \"plotly_white\", \"plotly_dark\", \"ggplot2\", \"simple_white\", \"none\"\n",
        "    plot_bgcolor=\"rgba(0, 0, 0, 0)\",\n",
        "    height=600,  # Adjusted height\n",
        "    legend=dict(\n",
        "        orientation=\"h\",  # Horizontal legend\n",
        "        x=0,  # Position inside the graph (left aligned)\n",
        "        y=1.1,  # Slightly above the graph\n",
        "        xanchor=\"left\",\n",
        "        yanchor=\"top\",\n",
        "        font=dict(size=10),\n",
        "        tracegroupgap=0,  # No gap between rows\n",
        "        itemwidth=150,  # Control width to fit 11 items in one row\n",
        "    )\n",
        ")\n",
        "\n",
        "# Ensure exactly 2 rows in the legend\n",
        "fig.update_layout(\n",
        "    legend=dict(\n",
        "        traceorder=\"grouped\",  # Keep the order grouped\n",
        "        itemsizing=\"constant\",  # Ensure uniform size\n",
        "    )\n",
        ")\n",
        "\n",
        "# Show plot\n",
        "fig.show()"
      ],
      "metadata": {
        "colab": {
          "base_uri": "https://localhost:8080/",
          "height": 617
        },
        "id": "eytKJNGGVdrc",
        "outputId": "4317b68e-c90a-4460-f6ae-38e4f86aae2f"
      },
      "execution_count": 69,
      "outputs": [
        {
          "output_type": "display_data",
          "data": {
            "text/html": [
              "<html>\n",
              "<head><meta charset=\"utf-8\" /></head>\n",
              "<body>\n",
              "    <div>            <script src=\"https://cdnjs.cloudflare.com/ajax/libs/mathjax/2.7.5/MathJax.js?config=TeX-AMS-MML_SVG\"></script><script type=\"text/javascript\">if (window.MathJax && window.MathJax.Hub && window.MathJax.Hub.Config) {window.MathJax.Hub.Config({SVG: {font: \"STIX-Web\"}});}</script>                <script type=\"text/javascript\">window.PlotlyConfig = {MathJaxConfig: 'local'};</script>\n",
              "        <script charset=\"utf-8\" src=\"https://cdn.plot.ly/plotly-2.35.2.min.js\"></script>                <div id=\"9177880f-3f92-4cac-90fe-13d058920c63\" class=\"plotly-graph-div\" style=\"height:600px; width:100%;\"></div>            <script type=\"text/javascript\">                                    window.PLOTLYENV=window.PLOTLYENV || {};                                    if (document.getElementById(\"9177880f-3f92-4cac-90fe-13d058920c63\")) {                    Plotly.newPlot(                        \"9177880f-3f92-4cac-90fe-13d058920c63\",                        [{\"hoverinfo\":\"text\",\"hovertext\":[\"segregationsbrytande: 0\",\"segregationsbrytande: 0\",\"segregationsbrytande: 0\",\"segregationsbrytande: 0\",\"segregationsbrytande: 0\",\"segregationsbrytande: 0\",\"segregationsbrytande: 0\",\"segregationsbrytande: 0\",\"segregationsbrytande: 0\",\"segregationsbrytande: 17\",\"segregationsbrytande: 3\"],\"mode\":\"lines+markers\",\"name\":\"segregationsbrytande\",\"x\":[\"1970-1974\",\"1975-1979\",\"1980-1984\",\"1985-1989\",\"1990-1994\",\"1995-1999\",\"2000-2004\",\"2005-2009\",\"2010-2014\",\"2015-2019\",\"2020-2024\"],\"y\":[0,0,0,0,0,0,0,0,0,17,3],\"type\":\"scatter\"},{\"hoverinfo\":\"text\",\"hovertext\":[\"segregationseffekt: 0\",\"segregationseffekt: 0\",\"segregationseffekt: 1\",\"segregationseffekt: 0\",\"segregationseffekt: 2\",\"segregationseffekt: 1\",\"segregationseffekt: 0\",\"segregationseffekt: 10\",\"segregationseffekt: 1\",\"segregationseffekt: 0\",\"segregationseffekt: 0\"],\"mode\":\"lines+markers\",\"name\":\"segregationseffekt\",\"x\":[\"1970-1974\",\"1975-1979\",\"1980-1984\",\"1985-1989\",\"1990-1994\",\"1995-1999\",\"2000-2004\",\"2005-2009\",\"2010-2014\",\"2015-2019\",\"2020-2024\"],\"y\":[0,0,1,0,2,1,0,10,1,0,0],\"type\":\"scatter\"},{\"hoverinfo\":\"text\",\"hovertext\":[\"segregationsfaktor: 0\",\"segregationsfaktor: 0\",\"segregationsfaktor: 0\",\"segregationsfaktor: 0\",\"segregationsfaktor: 2\",\"segregationsfaktor: 1\",\"segregationsfaktor: 3\",\"segregationsfaktor: 0\",\"segregationsfaktor: 0\",\"segregationsfaktor: 0\",\"segregationsfaktor: 1\"],\"mode\":\"lines+markers\",\"name\":\"segregationsfaktor\",\"x\":[\"1970-1974\",\"1975-1979\",\"1980-1984\",\"1985-1989\",\"1990-1994\",\"1995-1999\",\"2000-2004\",\"2005-2009\",\"2010-2014\",\"2015-2019\",\"2020-2024\"],\"y\":[0,0,0,0,2,1,3,0,0,0,1],\"type\":\"scatter\"},{\"hoverinfo\":\"text\",\"hovertext\":[\"segregationsforskning: 0\",\"segregationsforskning: 0\",\"segregationsforskning: 0\",\"segregationsforskning: 1\",\"segregationsforskning: 0\",\"segregationsforskning: 0\",\"segregationsforskning: 1\",\"segregationsforskning: 1\",\"segregationsforskning: 0\",\"segregationsforskning: 1\",\"segregationsforskning: 3\"],\"mode\":\"lines+markers\",\"name\":\"segregationsforskning\",\"x\":[\"1970-1974\",\"1975-1979\",\"1980-1984\",\"1985-1989\",\"1990-1994\",\"1995-1999\",\"2000-2004\",\"2005-2009\",\"2010-2014\",\"2015-2019\",\"2020-2024\"],\"y\":[0,0,0,1,0,0,1,1,0,1,3],\"type\":\"scatter\"},{\"hoverinfo\":\"text\",\"hovertext\":[\"segregationsfråga: 0\",\"segregationsfråga: 1\",\"segregationsfråga: 0\",\"segregationsfråga: 1\",\"segregationsfråga: 4\",\"segregationsfråga: 22\",\"segregationsfråga: 6\",\"segregationsfråga: 9\",\"segregationsfråga: 0\",\"segregationsfråga: 1\",\"segregationsfråga: 13\"],\"mode\":\"lines+markers\",\"name\":\"segregationsfråga\",\"x\":[\"1970-1974\",\"1975-1979\",\"1980-1984\",\"1985-1989\",\"1990-1994\",\"1995-1999\",\"2000-2004\",\"2005-2009\",\"2010-2014\",\"2015-2019\",\"2020-2024\"],\"y\":[0,1,0,1,4,22,6,9,0,1,13],\"type\":\"scatter\"},{\"hoverinfo\":\"text\",\"hovertext\":[\"segregationsfälla: 0\",\"segregationsfälla: 0\",\"segregationsfälla: 0\",\"segregationsfälla: 0\",\"segregationsfälla: 1\",\"segregationsfälla: 0\",\"segregationsfälla: 0\",\"segregationsfälla: 0\",\"segregationsfälla: 0\",\"segregationsfälla: 0\",\"segregationsfälla: 13\"],\"mode\":\"lines+markers\",\"name\":\"segregationsfälla\",\"x\":[\"1970-1974\",\"1975-1979\",\"1980-1984\",\"1985-1989\",\"1990-1994\",\"1995-1999\",\"2000-2004\",\"2005-2009\",\"2010-2014\",\"2015-2019\",\"2020-2024\"],\"y\":[0,0,0,0,1,0,0,0,0,0,13],\"type\":\"scatter\"},{\"hoverinfo\":\"text\",\"hovertext\":[\"segregationsgrad: 0\",\"segregationsgrad: 0\",\"segregationsgrad: 0\",\"segregationsgrad: 0\",\"segregationsgrad: 0\",\"segregationsgrad: 0\",\"segregationsgrad: 1\",\"segregationsgrad: 3\",\"segregationsgrad: 0\",\"segregationsgrad: 0\",\"segregationsgrad: 2\"],\"mode\":\"lines+markers\",\"name\":\"segregationsgrad\",\"x\":[\"1970-1974\",\"1975-1979\",\"1980-1984\",\"1985-1989\",\"1990-1994\",\"1995-1999\",\"2000-2004\",\"2005-2009\",\"2010-2014\",\"2015-2019\",\"2020-2024\"],\"y\":[0,0,0,0,0,0,1,3,0,0,2],\"type\":\"scatter\"},{\"hoverinfo\":\"text\",\"hovertext\":[\"segregationsmekanism: 0\",\"segregationsmekanism: 0\",\"segregationsmekanism: 0\",\"segregationsmekanism: 0\",\"segregationsmekanism: 0\",\"segregationsmekanism: 0\",\"segregationsmekanism: 4\",\"segregationsmekanism: 0\",\"segregationsmekanism: 0\",\"segregationsmekanism: 35\",\"segregationsmekanism: 3\"],\"mode\":\"lines+markers\",\"name\":\"segregationsmekanism\",\"x\":[\"1970-1974\",\"1975-1979\",\"1980-1984\",\"1985-1989\",\"1990-1994\",\"1995-1999\",\"2000-2004\",\"2005-2009\",\"2010-2014\",\"2015-2019\",\"2020-2024\"],\"y\":[0,0,0,0,0,0,4,0,0,35,3],\"type\":\"scatter\"},{\"hoverinfo\":\"text\",\"hovertext\":[\"segregationsmål: 0\",\"segregationsmål: 0\",\"segregationsmål: 0\",\"segregationsmål: 0\",\"segregationsmål: 0\",\"segregationsmål: 0\",\"segregationsmål: 12\",\"segregationsmål: 14\",\"segregationsmål: 3\",\"segregationsmål: 0\",\"segregationsmål: 0\"],\"mode\":\"lines+markers\",\"name\":\"segregationsmål\",\"x\":[\"1970-1974\",\"1975-1979\",\"1980-1984\",\"1985-1989\",\"1990-1994\",\"1995-1999\",\"2000-2004\",\"2005-2009\",\"2010-2014\",\"2015-2019\",\"2020-2024\"],\"y\":[0,0,0,0,0,0,12,14,3,0,0],\"type\":\"scatter\"},{\"hoverinfo\":\"text\",\"hovertext\":[\"segregationsmönster: 0\",\"segregationsmönster: 0\",\"segregationsmönster: 0\",\"segregationsmönster: 0\",\"segregationsmönster: 0\",\"segregationsmönster: 8\",\"segregationsmönster: 5\",\"segregationsmönster: 9\",\"segregationsmönster: 4\",\"segregationsmönster: 0\",\"segregationsmönster: 5\"],\"mode\":\"lines+markers\",\"name\":\"segregationsmönster\",\"x\":[\"1970-1974\",\"1975-1979\",\"1980-1984\",\"1985-1989\",\"1990-1994\",\"1995-1999\",\"2000-2004\",\"2005-2009\",\"2010-2014\",\"2015-2019\",\"2020-2024\"],\"y\":[0,0,0,0,0,8,5,9,4,0,5],\"type\":\"scatter\"},{\"hoverinfo\":\"text\",\"hovertext\":[\"segregationsperspektiv: 0\",\"segregationsperspektiv: 0\",\"segregationsperspektiv: 0\",\"segregationsperspektiv: 0\",\"segregationsperspektiv: 0\",\"segregationsperspektiv: 1\",\"segregationsperspektiv: 4\",\"segregationsperspektiv: 1\",\"segregationsperspektiv: 0\",\"segregationsperspektiv: 0\",\"segregationsperspektiv: 4\"],\"mode\":\"lines+markers\",\"name\":\"segregationsperspektiv\",\"x\":[\"1970-1974\",\"1975-1979\",\"1980-1984\",\"1985-1989\",\"1990-1994\",\"1995-1999\",\"2000-2004\",\"2005-2009\",\"2010-2014\",\"2015-2019\",\"2020-2024\"],\"y\":[0,0,0,0,0,1,4,1,0,0,4],\"type\":\"scatter\"},{\"hoverinfo\":\"text\",\"hovertext\":[\"segregationspolitisk: 0\",\"segregationspolitisk: 0\",\"segregationspolitisk: 0\",\"segregationspolitisk: 0\",\"segregationspolitisk: 0\",\"segregationspolitisk: 0\",\"segregationspolitisk: 0\",\"segregationspolitisk: 0\",\"segregationspolitisk: 0\",\"segregationspolitisk: 0\",\"segregationspolitisk: 10\"],\"mode\":\"lines+markers\",\"name\":\"segregationspolitisk\",\"x\":[\"1970-1974\",\"1975-1979\",\"1980-1984\",\"1985-1989\",\"1990-1994\",\"1995-1999\",\"2000-2004\",\"2005-2009\",\"2010-2014\",\"2015-2019\",\"2020-2024\"],\"y\":[0,0,0,0,0,0,0,0,0,0,10],\"type\":\"scatter\"},{\"hoverinfo\":\"text\",\"hovertext\":[\"segregationsproblem: 1\",\"segregationsproblem: 5\",\"segregationsproblem: 4\",\"segregationsproblem: 3\",\"segregationsproblem: 5\",\"segregationsproblem: 40\",\"segregationsproblem: 31\",\"segregationsproblem: 19\",\"segregationsproblem: 6\",\"segregationsproblem: 15\",\"segregationsproblem: 25\"],\"mode\":\"lines+markers\",\"name\":\"segregationsproblem\",\"x\":[\"1970-1974\",\"1975-1979\",\"1980-1984\",\"1985-1989\",\"1990-1994\",\"1995-1999\",\"2000-2004\",\"2005-2009\",\"2010-2014\",\"2015-2019\",\"2020-2024\"],\"y\":[1,5,4,3,5,40,31,19,6,15,25],\"type\":\"scatter\"},{\"hoverinfo\":\"text\",\"hovertext\":[\"segregationsproblematik: 0\",\"segregationsproblematik: 0\",\"segregationsproblematik: 0\",\"segregationsproblematik: 0\",\"segregationsproblematik: 1\",\"segregationsproblematik: 12\",\"segregationsproblematik: 10\",\"segregationsproblematik: 14\",\"segregationsproblematik: 0\",\"segregationsproblematik: 1\",\"segregationsproblematik: 9\"],\"mode\":\"lines+markers\",\"name\":\"segregationsproblematik\",\"x\":[\"1970-1974\",\"1975-1979\",\"1980-1984\",\"1985-1989\",\"1990-1994\",\"1995-1999\",\"2000-2004\",\"2005-2009\",\"2010-2014\",\"2015-2019\",\"2020-2024\"],\"y\":[0,0,0,0,1,12,10,14,0,1,9],\"type\":\"scatter\"},{\"hoverinfo\":\"text\",\"hovertext\":[\"segregationsprocess: 0\",\"segregationsprocess: 0\",\"segregationsprocess: 3\",\"segregationsprocess: 4\",\"segregationsprocess: 0\",\"segregationsprocess: 5\",\"segregationsprocess: 10\",\"segregationsprocess: 9\",\"segregationsprocess: 9\",\"segregationsprocess: 4\",\"segregationsprocess: 0\"],\"mode\":\"lines+markers\",\"name\":\"segregationsprocess\",\"x\":[\"1970-1974\",\"1975-1979\",\"1980-1984\",\"1985-1989\",\"1990-1994\",\"1995-1999\",\"2000-2004\",\"2005-2009\",\"2010-2014\",\"2015-2019\",\"2020-2024\"],\"y\":[0,0,3,4,0,5,10,9,9,4,0],\"type\":\"scatter\"},{\"hoverinfo\":\"text\",\"hovertext\":[\"segregationsspiral: 0\",\"segregationsspiral: 0\",\"segregationsspiral: 0\",\"segregationsspiral: 0\",\"segregationsspiral: 8\",\"segregationsspiral: 2\",\"segregationsspiral: 0\",\"segregationsspiral: 3\",\"segregationsspiral: 0\",\"segregationsspiral: 0\",\"segregationsspiral: 0\"],\"mode\":\"lines+markers\",\"name\":\"segregationsspiral\",\"x\":[\"1970-1974\",\"1975-1979\",\"1980-1984\",\"1985-1989\",\"1990-1994\",\"1995-1999\",\"2000-2004\",\"2005-2009\",\"2010-2014\",\"2015-2019\",\"2020-2024\"],\"y\":[0,0,0,0,8,2,0,3,0,0,0],\"type\":\"scatter\"},{\"hoverinfo\":\"text\",\"hovertext\":[\"segregationstendens: 3\",\"segregationstendens: 7\",\"segregationstendens: 6\",\"segregationstendens: 1\",\"segregationstendens: 20\",\"segregationstendens: 14\",\"segregationstendens: 15\",\"segregationstendens: 4\",\"segregationstendens: 1\",\"segregationstendens: 0\",\"segregationstendens: 2\"],\"mode\":\"lines+markers\",\"name\":\"segregationstendens\",\"x\":[\"1970-1974\",\"1975-1979\",\"1980-1984\",\"1985-1989\",\"1990-1994\",\"1995-1999\",\"2000-2004\",\"2005-2009\",\"2010-2014\",\"2015-2019\",\"2020-2024\"],\"y\":[3,7,6,1,20,14,15,4,1,0,2],\"type\":\"scatter\"},{\"hoverinfo\":\"text\",\"hovertext\":[\"segregeringsindex: 0\",\"segregeringsindex: 0\",\"segregeringsindex: 0\",\"segregeringsindex: 0\",\"segregeringsindex: 0\",\"segregeringsindex: 9\",\"segregeringsindex: 17\",\"segregeringsindex: 23\",\"segregeringsindex: 1\",\"segregeringsindex: 2\",\"segregeringsindex: 17\"],\"mode\":\"lines+markers\",\"name\":\"segregeringsindex\",\"x\":[\"1970-1974\",\"1975-1979\",\"1980-1984\",\"1985-1989\",\"1990-1994\",\"1995-1999\",\"2000-2004\",\"2005-2009\",\"2010-2014\",\"2015-2019\",\"2020-2024\"],\"y\":[0,0,0,0,0,9,17,23,1,2,17],\"type\":\"scatter\"},{\"hoverinfo\":\"text\",\"hovertext\":[\"segregeringsnivå: 0\",\"segregeringsnivå: 0\",\"segregeringsnivå: 0\",\"segregeringsnivå: 0\",\"segregeringsnivå: 0\",\"segregeringsnivå: 0\",\"segregeringsnivå: 1\",\"segregeringsnivå: 4\",\"segregeringsnivå: 6\",\"segregeringsnivå: 1\",\"segregeringsnivå: 0\"],\"mode\":\"lines+markers\",\"name\":\"segregeringsnivå\",\"x\":[\"1970-1974\",\"1975-1979\",\"1980-1984\",\"1985-1989\",\"1990-1994\",\"1995-1999\",\"2000-2004\",\"2005-2009\",\"2010-2014\",\"2015-2019\",\"2020-2024\"],\"y\":[0,0,0,0,0,0,1,4,6,1,0],\"type\":\"scatter\"},{\"hoverinfo\":\"text\",\"hovertext\":[\"segregeringspolitik: 0\",\"segregeringspolitik: 0\",\"segregeringspolitik: 0\",\"segregeringspolitik: 1\",\"segregeringspolitik: 2\",\"segregeringspolitik: 2\",\"segregeringspolitik: 10\",\"segregeringspolitik: 5\",\"segregeringspolitik: 5\",\"segregeringspolitik: 1\",\"segregeringspolitik: 10\"],\"mode\":\"lines+markers\",\"name\":\"segregeringspolitik\",\"x\":[\"1970-1974\",\"1975-1979\",\"1980-1984\",\"1985-1989\",\"1990-1994\",\"1995-1999\",\"2000-2004\",\"2005-2009\",\"2010-2014\",\"2015-2019\",\"2020-2024\"],\"y\":[0,0,0,1,2,2,10,5,5,1,10],\"type\":\"scatter\"},{\"hoverinfo\":\"text\",\"hovertext\":[\"segregeringsrisk: 0\",\"segregeringsrisk: 0\",\"segregeringsrisk: 0\",\"segregeringsrisk: 0\",\"segregeringsrisk: 5\",\"segregeringsrisk: 0\",\"segregeringsrisk: 1\",\"segregeringsrisk: 0\",\"segregeringsrisk: 0\",\"segregeringsrisk: 0\",\"segregeringsrisk: 0\"],\"mode\":\"lines+markers\",\"name\":\"segregeringsrisk\",\"x\":[\"1970-1974\",\"1975-1979\",\"1980-1984\",\"1985-1989\",\"1990-1994\",\"1995-1999\",\"2000-2004\",\"2005-2009\",\"2010-2014\",\"2015-2019\",\"2020-2024\"],\"y\":[0,0,0,0,5,0,1,0,0,0,0],\"type\":\"scatter\"},{\"hoverinfo\":\"text\",\"hovertext\":[\"segregeringssynpunkt: 0\",\"segregeringssynpunkt: 0\",\"segregeringssynpunkt: 0\",\"segregeringssynpunkt: 0\",\"segregeringssynpunkt: 2\",\"segregeringssynpunkt: 1\",\"segregeringssynpunkt: 1\",\"segregeringssynpunkt: 0\",\"segregeringssynpunkt: 0\",\"segregeringssynpunkt: 0\",\"segregeringssynpunkt: 6\"],\"mode\":\"lines+markers\",\"name\":\"segregeringssynpunkt\",\"x\":[\"1970-1974\",\"1975-1979\",\"1980-1984\",\"1985-1989\",\"1990-1994\",\"1995-1999\",\"2000-2004\",\"2005-2009\",\"2010-2014\",\"2015-2019\",\"2020-2024\"],\"y\":[0,0,0,0,2,1,1,0,0,0,6],\"type\":\"scatter\"}],                        {\"template\":{\"data\":{\"barpolar\":[{\"marker\":{\"line\":{\"color\":\"rgb(234,234,242)\",\"width\":0.5},\"pattern\":{\"fillmode\":\"overlay\",\"size\":10,\"solidity\":0.2}},\"type\":\"barpolar\"}],\"bar\":[{\"error_x\":{\"color\":\"rgb(36,36,36)\"},\"error_y\":{\"color\":\"rgb(36,36,36)\"},\"marker\":{\"line\":{\"color\":\"rgb(234,234,242)\",\"width\":0.5},\"pattern\":{\"fillmode\":\"overlay\",\"size\":10,\"solidity\":0.2}},\"type\":\"bar\"}],\"carpet\":[{\"aaxis\":{\"endlinecolor\":\"rgb(36,36,36)\",\"gridcolor\":\"white\",\"linecolor\":\"white\",\"minorgridcolor\":\"white\",\"startlinecolor\":\"rgb(36,36,36)\"},\"baxis\":{\"endlinecolor\":\"rgb(36,36,36)\",\"gridcolor\":\"white\",\"linecolor\":\"white\",\"minorgridcolor\":\"white\",\"startlinecolor\":\"rgb(36,36,36)\"},\"type\":\"carpet\"}],\"choropleth\":[{\"colorbar\":{\"outlinewidth\":0,\"tickcolor\":\"rgb(36,36,36)\",\"ticklen\":8,\"ticks\":\"outside\",\"tickwidth\":2},\"type\":\"choropleth\"}],\"contourcarpet\":[{\"colorbar\":{\"outlinewidth\":0,\"tickcolor\":\"rgb(36,36,36)\",\"ticklen\":8,\"ticks\":\"outside\",\"tickwidth\":2},\"type\":\"contourcarpet\"}],\"contour\":[{\"colorbar\":{\"outlinewidth\":0,\"tickcolor\":\"rgb(36,36,36)\",\"ticklen\":8,\"ticks\":\"outside\",\"tickwidth\":2},\"colorscale\":[[0.0,\"rgb(2,4,25)\"],[0.06274509803921569,\"rgb(24,15,41)\"],[0.12549019607843137,\"rgb(47,23,57)\"],[0.18823529411764706,\"rgb(71,28,72)\"],[0.25098039215686274,\"rgb(97,30,82)\"],[0.3137254901960784,\"rgb(123,30,89)\"],[0.3764705882352941,\"rgb(150,27,91)\"],[0.4392156862745098,\"rgb(177,22,88)\"],[0.5019607843137255,\"rgb(203,26,79)\"],[0.5647058823529412,\"rgb(223,47,67)\"],[0.6274509803921569,\"rgb(236,76,61)\"],[0.6901960784313725,\"rgb(242,107,73)\"],[0.7529411764705882,\"rgb(244,135,95)\"],[0.8156862745098039,\"rgb(245,162,122)\"],[0.8784313725490196,\"rgb(246,188,153)\"],[0.9411764705882353,\"rgb(247,212,187)\"],[1.0,\"rgb(250,234,220)\"]],\"type\":\"contour\"}],\"heatmapgl\":[{\"colorbar\":{\"outlinewidth\":0,\"tickcolor\":\"rgb(36,36,36)\",\"ticklen\":8,\"ticks\":\"outside\",\"tickwidth\":2},\"colorscale\":[[0.0,\"rgb(2,4,25)\"],[0.06274509803921569,\"rgb(24,15,41)\"],[0.12549019607843137,\"rgb(47,23,57)\"],[0.18823529411764706,\"rgb(71,28,72)\"],[0.25098039215686274,\"rgb(97,30,82)\"],[0.3137254901960784,\"rgb(123,30,89)\"],[0.3764705882352941,\"rgb(150,27,91)\"],[0.4392156862745098,\"rgb(177,22,88)\"],[0.5019607843137255,\"rgb(203,26,79)\"],[0.5647058823529412,\"rgb(223,47,67)\"],[0.6274509803921569,\"rgb(236,76,61)\"],[0.6901960784313725,\"rgb(242,107,73)\"],[0.7529411764705882,\"rgb(244,135,95)\"],[0.8156862745098039,\"rgb(245,162,122)\"],[0.8784313725490196,\"rgb(246,188,153)\"],[0.9411764705882353,\"rgb(247,212,187)\"],[1.0,\"rgb(250,234,220)\"]],\"type\":\"heatmapgl\"}],\"heatmap\":[{\"colorbar\":{\"outlinewidth\":0,\"tickcolor\":\"rgb(36,36,36)\",\"ticklen\":8,\"ticks\":\"outside\",\"tickwidth\":2},\"colorscale\":[[0.0,\"rgb(2,4,25)\"],[0.06274509803921569,\"rgb(24,15,41)\"],[0.12549019607843137,\"rgb(47,23,57)\"],[0.18823529411764706,\"rgb(71,28,72)\"],[0.25098039215686274,\"rgb(97,30,82)\"],[0.3137254901960784,\"rgb(123,30,89)\"],[0.3764705882352941,\"rgb(150,27,91)\"],[0.4392156862745098,\"rgb(177,22,88)\"],[0.5019607843137255,\"rgb(203,26,79)\"],[0.5647058823529412,\"rgb(223,47,67)\"],[0.6274509803921569,\"rgb(236,76,61)\"],[0.6901960784313725,\"rgb(242,107,73)\"],[0.7529411764705882,\"rgb(244,135,95)\"],[0.8156862745098039,\"rgb(245,162,122)\"],[0.8784313725490196,\"rgb(246,188,153)\"],[0.9411764705882353,\"rgb(247,212,187)\"],[1.0,\"rgb(250,234,220)\"]],\"type\":\"heatmap\"}],\"histogram2dcontour\":[{\"colorbar\":{\"outlinewidth\":0,\"tickcolor\":\"rgb(36,36,36)\",\"ticklen\":8,\"ticks\":\"outside\",\"tickwidth\":2},\"colorscale\":[[0.0,\"rgb(2,4,25)\"],[0.06274509803921569,\"rgb(24,15,41)\"],[0.12549019607843137,\"rgb(47,23,57)\"],[0.18823529411764706,\"rgb(71,28,72)\"],[0.25098039215686274,\"rgb(97,30,82)\"],[0.3137254901960784,\"rgb(123,30,89)\"],[0.3764705882352941,\"rgb(150,27,91)\"],[0.4392156862745098,\"rgb(177,22,88)\"],[0.5019607843137255,\"rgb(203,26,79)\"],[0.5647058823529412,\"rgb(223,47,67)\"],[0.6274509803921569,\"rgb(236,76,61)\"],[0.6901960784313725,\"rgb(242,107,73)\"],[0.7529411764705882,\"rgb(244,135,95)\"],[0.8156862745098039,\"rgb(245,162,122)\"],[0.8784313725490196,\"rgb(246,188,153)\"],[0.9411764705882353,\"rgb(247,212,187)\"],[1.0,\"rgb(250,234,220)\"]],\"type\":\"histogram2dcontour\"}],\"histogram2d\":[{\"colorbar\":{\"outlinewidth\":0,\"tickcolor\":\"rgb(36,36,36)\",\"ticklen\":8,\"ticks\":\"outside\",\"tickwidth\":2},\"colorscale\":[[0.0,\"rgb(2,4,25)\"],[0.06274509803921569,\"rgb(24,15,41)\"],[0.12549019607843137,\"rgb(47,23,57)\"],[0.18823529411764706,\"rgb(71,28,72)\"],[0.25098039215686274,\"rgb(97,30,82)\"],[0.3137254901960784,\"rgb(123,30,89)\"],[0.3764705882352941,\"rgb(150,27,91)\"],[0.4392156862745098,\"rgb(177,22,88)\"],[0.5019607843137255,\"rgb(203,26,79)\"],[0.5647058823529412,\"rgb(223,47,67)\"],[0.6274509803921569,\"rgb(236,76,61)\"],[0.6901960784313725,\"rgb(242,107,73)\"],[0.7529411764705882,\"rgb(244,135,95)\"],[0.8156862745098039,\"rgb(245,162,122)\"],[0.8784313725490196,\"rgb(246,188,153)\"],[0.9411764705882353,\"rgb(247,212,187)\"],[1.0,\"rgb(250,234,220)\"]],\"type\":\"histogram2d\"}],\"histogram\":[{\"marker\":{\"pattern\":{\"fillmode\":\"overlay\",\"size\":10,\"solidity\":0.2}},\"type\":\"histogram\"}],\"mesh3d\":[{\"colorbar\":{\"outlinewidth\":0,\"tickcolor\":\"rgb(36,36,36)\",\"ticklen\":8,\"ticks\":\"outside\",\"tickwidth\":2},\"type\":\"mesh3d\"}],\"parcoords\":[{\"line\":{\"colorbar\":{\"outlinewidth\":0,\"tickcolor\":\"rgb(36,36,36)\",\"ticklen\":8,\"ticks\":\"outside\",\"tickwidth\":2}},\"type\":\"parcoords\"}],\"pie\":[{\"automargin\":true,\"type\":\"pie\"}],\"scatter3d\":[{\"line\":{\"colorbar\":{\"outlinewidth\":0,\"tickcolor\":\"rgb(36,36,36)\",\"ticklen\":8,\"ticks\":\"outside\",\"tickwidth\":2}},\"marker\":{\"colorbar\":{\"outlinewidth\":0,\"tickcolor\":\"rgb(36,36,36)\",\"ticklen\":8,\"ticks\":\"outside\",\"tickwidth\":2}},\"type\":\"scatter3d\"}],\"scattercarpet\":[{\"marker\":{\"colorbar\":{\"outlinewidth\":0,\"tickcolor\":\"rgb(36,36,36)\",\"ticklen\":8,\"ticks\":\"outside\",\"tickwidth\":2}},\"type\":\"scattercarpet\"}],\"scattergeo\":[{\"marker\":{\"colorbar\":{\"outlinewidth\":0,\"tickcolor\":\"rgb(36,36,36)\",\"ticklen\":8,\"ticks\":\"outside\",\"tickwidth\":2}},\"type\":\"scattergeo\"}],\"scattergl\":[{\"marker\":{\"colorbar\":{\"outlinewidth\":0,\"tickcolor\":\"rgb(36,36,36)\",\"ticklen\":8,\"ticks\":\"outside\",\"tickwidth\":2}},\"type\":\"scattergl\"}],\"scattermapbox\":[{\"marker\":{\"colorbar\":{\"outlinewidth\":0,\"tickcolor\":\"rgb(36,36,36)\",\"ticklen\":8,\"ticks\":\"outside\",\"tickwidth\":2}},\"type\":\"scattermapbox\"}],\"scatterpolargl\":[{\"marker\":{\"colorbar\":{\"outlinewidth\":0,\"tickcolor\":\"rgb(36,36,36)\",\"ticklen\":8,\"ticks\":\"outside\",\"tickwidth\":2}},\"type\":\"scatterpolargl\"}],\"scatterpolar\":[{\"marker\":{\"colorbar\":{\"outlinewidth\":0,\"tickcolor\":\"rgb(36,36,36)\",\"ticklen\":8,\"ticks\":\"outside\",\"tickwidth\":2}},\"type\":\"scatterpolar\"}],\"scatter\":[{\"fillpattern\":{\"fillmode\":\"overlay\",\"size\":10,\"solidity\":0.2},\"type\":\"scatter\"}],\"scatterternary\":[{\"marker\":{\"colorbar\":{\"outlinewidth\":0,\"tickcolor\":\"rgb(36,36,36)\",\"ticklen\":8,\"ticks\":\"outside\",\"tickwidth\":2}},\"type\":\"scatterternary\"}],\"surface\":[{\"colorbar\":{\"outlinewidth\":0,\"tickcolor\":\"rgb(36,36,36)\",\"ticklen\":8,\"ticks\":\"outside\",\"tickwidth\":2},\"colorscale\":[[0.0,\"rgb(2,4,25)\"],[0.06274509803921569,\"rgb(24,15,41)\"],[0.12549019607843137,\"rgb(47,23,57)\"],[0.18823529411764706,\"rgb(71,28,72)\"],[0.25098039215686274,\"rgb(97,30,82)\"],[0.3137254901960784,\"rgb(123,30,89)\"],[0.3764705882352941,\"rgb(150,27,91)\"],[0.4392156862745098,\"rgb(177,22,88)\"],[0.5019607843137255,\"rgb(203,26,79)\"],[0.5647058823529412,\"rgb(223,47,67)\"],[0.6274509803921569,\"rgb(236,76,61)\"],[0.6901960784313725,\"rgb(242,107,73)\"],[0.7529411764705882,\"rgb(244,135,95)\"],[0.8156862745098039,\"rgb(245,162,122)\"],[0.8784313725490196,\"rgb(246,188,153)\"],[0.9411764705882353,\"rgb(247,212,187)\"],[1.0,\"rgb(250,234,220)\"]],\"type\":\"surface\"}],\"table\":[{\"cells\":{\"fill\":{\"color\":\"rgb(231,231,240)\"},\"line\":{\"color\":\"white\"}},\"header\":{\"fill\":{\"color\":\"rgb(183,183,191)\"},\"line\":{\"color\":\"white\"}},\"type\":\"table\"}]},\"layout\":{\"annotationdefaults\":{\"arrowcolor\":\"rgb(67,103,167)\"},\"autotypenumbers\":\"strict\",\"coloraxis\":{\"colorbar\":{\"outlinewidth\":0,\"tickcolor\":\"rgb(36,36,36)\",\"ticklen\":8,\"ticks\":\"outside\",\"tickwidth\":2}},\"colorscale\":{\"sequential\":[[0.0,\"rgb(2,4,25)\"],[0.06274509803921569,\"rgb(24,15,41)\"],[0.12549019607843137,\"rgb(47,23,57)\"],[0.18823529411764706,\"rgb(71,28,72)\"],[0.25098039215686274,\"rgb(97,30,82)\"],[0.3137254901960784,\"rgb(123,30,89)\"],[0.3764705882352941,\"rgb(150,27,91)\"],[0.4392156862745098,\"rgb(177,22,88)\"],[0.5019607843137255,\"rgb(203,26,79)\"],[0.5647058823529412,\"rgb(223,47,67)\"],[0.6274509803921569,\"rgb(236,76,61)\"],[0.6901960784313725,\"rgb(242,107,73)\"],[0.7529411764705882,\"rgb(244,135,95)\"],[0.8156862745098039,\"rgb(245,162,122)\"],[0.8784313725490196,\"rgb(246,188,153)\"],[0.9411764705882353,\"rgb(247,212,187)\"],[1.0,\"rgb(250,234,220)\"]],\"sequentialminus\":[[0.0,\"rgb(2,4,25)\"],[0.06274509803921569,\"rgb(24,15,41)\"],[0.12549019607843137,\"rgb(47,23,57)\"],[0.18823529411764706,\"rgb(71,28,72)\"],[0.25098039215686274,\"rgb(97,30,82)\"],[0.3137254901960784,\"rgb(123,30,89)\"],[0.3764705882352941,\"rgb(150,27,91)\"],[0.4392156862745098,\"rgb(177,22,88)\"],[0.5019607843137255,\"rgb(203,26,79)\"],[0.5647058823529412,\"rgb(223,47,67)\"],[0.6274509803921569,\"rgb(236,76,61)\"],[0.6901960784313725,\"rgb(242,107,73)\"],[0.7529411764705882,\"rgb(244,135,95)\"],[0.8156862745098039,\"rgb(245,162,122)\"],[0.8784313725490196,\"rgb(246,188,153)\"],[0.9411764705882353,\"rgb(247,212,187)\"],[1.0,\"rgb(250,234,220)\"]]},\"colorway\":[\"rgb(76,114,176)\",\"rgb(221,132,82)\",\"rgb(85,168,104)\",\"rgb(196,78,82)\",\"rgb(129,114,179)\",\"rgb(147,120,96)\",\"rgb(218,139,195)\",\"rgb(140,140,140)\",\"rgb(204,185,116)\",\"rgb(100,181,205)\"],\"font\":{\"color\":\"rgb(36,36,36)\"},\"geo\":{\"bgcolor\":\"white\",\"lakecolor\":\"white\",\"landcolor\":\"rgb(234,234,242)\",\"showlakes\":true,\"showland\":true,\"subunitcolor\":\"white\"},\"hoverlabel\":{\"align\":\"left\"},\"hovermode\":\"closest\",\"paper_bgcolor\":\"white\",\"plot_bgcolor\":\"rgb(234,234,242)\",\"polar\":{\"angularaxis\":{\"gridcolor\":\"white\",\"linecolor\":\"white\",\"showgrid\":true,\"ticks\":\"\"},\"bgcolor\":\"rgb(234,234,242)\",\"radialaxis\":{\"gridcolor\":\"white\",\"linecolor\":\"white\",\"showgrid\":true,\"ticks\":\"\"}},\"scene\":{\"xaxis\":{\"backgroundcolor\":\"rgb(234,234,242)\",\"gridcolor\":\"white\",\"gridwidth\":2,\"linecolor\":\"white\",\"showbackground\":true,\"showgrid\":true,\"ticks\":\"\",\"zerolinecolor\":\"white\"},\"yaxis\":{\"backgroundcolor\":\"rgb(234,234,242)\",\"gridcolor\":\"white\",\"gridwidth\":2,\"linecolor\":\"white\",\"showbackground\":true,\"showgrid\":true,\"ticks\":\"\",\"zerolinecolor\":\"white\"},\"zaxis\":{\"backgroundcolor\":\"rgb(234,234,242)\",\"gridcolor\":\"white\",\"gridwidth\":2,\"linecolor\":\"white\",\"showbackground\":true,\"showgrid\":true,\"ticks\":\"\",\"zerolinecolor\":\"white\"}},\"shapedefaults\":{\"fillcolor\":\"rgb(67,103,167)\",\"line\":{\"width\":0},\"opacity\":0.5},\"ternary\":{\"aaxis\":{\"gridcolor\":\"white\",\"linecolor\":\"white\",\"showgrid\":true,\"ticks\":\"\"},\"baxis\":{\"gridcolor\":\"white\",\"linecolor\":\"white\",\"showgrid\":true,\"ticks\":\"\"},\"bgcolor\":\"rgb(234,234,242)\",\"caxis\":{\"gridcolor\":\"white\",\"linecolor\":\"white\",\"showgrid\":true,\"ticks\":\"\"}},\"xaxis\":{\"automargin\":true,\"gridcolor\":\"white\",\"linecolor\":\"white\",\"showgrid\":true,\"ticks\":\"\",\"title\":{\"standoff\":15},\"zerolinecolor\":\"white\"},\"yaxis\":{\"automargin\":true,\"gridcolor\":\"white\",\"linecolor\":\"white\",\"showgrid\":true,\"ticks\":\"\",\"title\":{\"standoff\":15},\"zerolinecolor\":\"white\"}}},\"legend\":{\"font\":{\"size\":10},\"orientation\":\"h\",\"x\":0,\"y\":1.1,\"xanchor\":\"left\",\"yanchor\":\"top\",\"tracegroupgap\":0,\"itemwidth\":150,\"traceorder\":\"grouped\",\"itemsizing\":\"constant\"},\"title\":{\"text\":\"Trendlinjer för 22 sammansättningar med \\u003ci\\u003e\\u003cb\\u003e'segregation'\\u003c\\u002fb\\u003e\\u003c\\u002fi\\u003e som förled, vilka förekom mer än fem gånger (5) under hela perioden 1970–2024 (Riksdagens öppna data).\\u003cbr\\u003eGrafen är interaktiv och manipuleras genom att filtrera \\u002f klicka bort ett eller flera indexord till höger.\"},\"xaxis\":{\"title\":{\"text\":\"Årtionden\"}},\"yaxis\":{\"title\":{\"text\":\"Antal förekomster\"}},\"plot_bgcolor\":\"rgba(0, 0, 0, 0)\",\"height\":600},                        {\"responsive\": true}                    ).then(function(){\n",
              "                            \n",
              "var gd = document.getElementById('9177880f-3f92-4cac-90fe-13d058920c63');\n",
              "var x = new MutationObserver(function (mutations, observer) {{\n",
              "        var display = window.getComputedStyle(gd).display;\n",
              "        if (!display || display === 'none') {{\n",
              "            console.log([gd, 'removed!']);\n",
              "            Plotly.purge(gd);\n",
              "            observer.disconnect();\n",
              "        }}\n",
              "}});\n",
              "\n",
              "// Listen for the removal of the full notebook cells\n",
              "var notebookContainer = gd.closest('#notebook-container');\n",
              "if (notebookContainer) {{\n",
              "    x.observe(notebookContainer, {childList: true});\n",
              "}}\n",
              "\n",
              "// Listen for the clearing of the current output cell\n",
              "var outputEl = gd.closest('.output');\n",
              "if (outputEl) {{\n",
              "    x.observe(outputEl, {childList: true});\n",
              "}}\n",
              "\n",
              "                        })                };                            </script>        </div>\n",
              "</body>\n",
              "</html>"
            ]
          },
          "metadata": {}
        }
      ]
    },
    {
      "cell_type": "code",
      "source": [
        "#TRY:\n",
        "#    title_font=dict(\n",
        "#        family=\"Arial, sans-serif\",  # Change font to Arial\n",
        "#        size=18,  # Adjust the size of the title text\n",
        "#        color=\"black\"  # You can change the color here too\n",
        "#    ),"
      ],
      "metadata": {
        "id": "bjAJddlFkVEL"
      },
      "execution_count": 70,
      "outputs": []
    }
  ]
}