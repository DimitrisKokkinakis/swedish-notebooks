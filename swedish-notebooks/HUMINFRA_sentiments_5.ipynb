{
  "nbformat": 4,
  "nbformat_minor": 0,
  "metadata": {
    "colab": {
      "provenance": []
    },
    "kernelspec": {
      "name": "python3",
      "display_name": "Python 3"
    },
    "language_info": {
      "name": "python"
    }
  },
  "cells": [
    {
      "cell_type": "markdown",
      "source": [
        "## Dataset: Swedish texts published during 2021 about *COVID-19*\n",
        "\n",
        "### **Sentiment analysis**: a branch of artificial intelligence and natural language processing that evaluates the emotional tone of textual data. It categorizes text as (very) positive, (very) negative, or neutral, providing insights into public opinion."
      ],
      "metadata": {
        "id": "FhCq-YHCQEEp"
      }
    },
    {
      "cell_type": "markdown",
      "source": [
        "**Import Primary Libraries/Packages**"
      ],
      "metadata": {
        "id": "pv8URDUdwyYs"
      }
    },
    {
      "cell_type": "code",
      "source": [
        "import pandas as pd\n",
        "from collections import defaultdict\n",
        "import re\n",
        "from io import StringIO\n",
        "import requests\n",
        "import matplotlib.pyplot as plt\n",
        "import numpy as np"
      ],
      "metadata": {
        "id": "b37e0QjJw1Qu"
      },
      "execution_count": 90,
      "outputs": []
    },
    {
      "cell_type": "markdown",
      "source": [
        "**The various processing steps**\n"
      ],
      "metadata": {
        "id": "ATqyTViwx4V0"
      }
    },
    {
      "cell_type": "code",
      "source": [
        "# Step 1: Load CSV file from URL\n",
        "def load_csv_from_url(url):\n",
        "    s = requests.get(url).text\n",
        "    df = pd.read_csv(StringIO(s), sep=\"\\t\")\n",
        "    print('\\nThe Swedish .csv file is loaded!')\n",
        "    return df\n",
        "\n",
        "# Step 2: Load sentiment lexicon into memory\n",
        "def load_sentiment_lexicon(lexicon_file_path):\n",
        "    lexicon = {}\n",
        "    with open(lexicon_file_path, 'r', encoding='utf-8') as file:\n",
        "        for line in file:\n",
        "            token, polarity, strength, confidence = line.strip().split(',')\n",
        "            lexicon[token] = {\n",
        "                'polarity': polarity,\n",
        "                'strength': float(strength),\n",
        "                'confidence': float(confidence)\n",
        "            }\n",
        "    print('\\nThe Swedish sentiment words are loaded!')\n",
        "    return lexicon\n",
        "\n",
        "# Step 3: Tokenize text and annotate it with sentiment information\n",
        "def annotate_text(text, lexicon):\n",
        "    #tokens = re.findall(r'\\b\\w+\\b', text.lower())\n",
        "    tokens = re.findall(r'\\b\\w+(?:[-_]\\w+)*\\b', text.lower())\n",
        "    annotated_tokens = []\n",
        "    annotations = {'all': 0, 'pos': 0, 'neg': 0, 'very_pos': 0, 'very_neg': 0}\n",
        "\n",
        "    for token in tokens:\n",
        "        if token in lexicon:\n",
        "            sentiment = lexicon[token]\n",
        "            annotated_token = f\"{token}[{sentiment['polarity']}, {sentiment['strength']}, {sentiment['confidence']}]\"\n",
        "            annotated_tokens.append(annotated_token)\n",
        "\n",
        "            # Increment the annotation counts\n",
        "            annotations['all'] += 1\n",
        "            if sentiment['polarity'] == 'pos':\n",
        "                annotations['pos'] += 1\n",
        "            elif sentiment['polarity'] == 'neg':\n",
        "                annotations['neg'] += 1\n",
        "            elif sentiment['polarity'] == 'very-pos':\n",
        "                annotations['very_pos'] += 1\n",
        "            elif sentiment['polarity'] == 'very-neg':\n",
        "                annotations['very_neg'] += 1\n",
        "        else:\n",
        "            annotated_tokens.append(token)  # Keep the token as-is if no annotation\n",
        "\n",
        "    return ' '.join(annotated_tokens), annotations\n",
        "\n",
        "# Step 4: Process the data and calculate monthly/annual statistics\n",
        "def process_data(df, lexicon):\n",
        "    monthly_stats = defaultdict(lambda: {'all': 0, 'pos': 0, 'neg': 0, 'very_pos': 0, 'very_neg': 0})\n",
        "    annual_stats = {'all': 0, 'pos': 0, 'neg': 0, 'very_pos': 0, 'very_neg': 0}\n",
        "\n",
        "    for idx, row in df.iterrows():\n",
        "        date = row['date']\n",
        "        text = row['text']\n",
        "\n",
        "        # Annotate the text\n",
        "        annotated_text, annotations = annotate_text(text, lexicon)\n",
        "        df.at[idx, 'annotated_text'] = annotated_text\n",
        "\n",
        "        month = date.strftime('%Y-%m')\n",
        "\n",
        "        # Update monthly and annual stats\n",
        "        for key in annotations:\n",
        "            monthly_stats[month][key] += annotations[key]\n",
        "            annual_stats[key] += annotations[key]\n",
        "\n",
        "    return df, monthly_stats, annual_stats"
      ],
      "metadata": {
        "id": "hkr-qb0_tc5O"
      },
      "execution_count": 91,
      "outputs": []
    },
    {
      "cell_type": "code",
      "source": [
        "# Step 5: Display statistics\n",
        "from IPython.display import display\n",
        "def display_stats(monthly_stats, annual_stats):\n",
        "    # Convert monthly_stats to DataFrame for better visualization\n",
        "    monthly_df = pd.DataFrame(monthly_stats).T.fillna(0)\n",
        "    monthly_df = monthly_df.astype(int)  # Convert to integer for better display\n",
        "\n",
        "    # Create a colormap using viridis\n",
        "    cmap = plt.get_cmap('viridis')\n",
        "\n",
        "    # Normalize the values for color mapping\n",
        "    # Add a small value to avoid division by zero\n",
        "    color_mapping = monthly_df.values / (monthly_df.values.max() + 1e-10)\n",
        "\n",
        "    # Apply colors to the DataFrame based on the viridis colormap\n",
        "    def colorize(val):\n",
        "        color_idx = int(val * (cmap.N - 1))  # Map to the colormap range\n",
        "        return f'background-color: {cmap(color_idx) if color_idx < cmap.N else \"white\"}'\n",
        "\n",
        "    colored_monthly_df = monthly_df.style.applymap(colorize)\n",
        "\n",
        "    # Display the monthly statistics table\n",
        "    display(colored_monthly_df.set_caption(\"<br>Monthly Sentiment Statistics\"))\n",
        "\n",
        "    # Convert annual_stats to DataFrame\n",
        "    annual_df = pd.DataFrame(annual_stats, index=[0])\n",
        "    annual_df = annual_df.astype(int)  # Convert to integer for better display\n",
        "\n",
        "    # Create a simple styling for the annual statistics\n",
        "    colored_annual_df = annual_df.style.apply(lambda x: ['background-color: #f0f0f0' if v > 0 else '' for v in x], axis=1)\n",
        "\n",
        "    # Display the annual statistics table\n",
        "    display(colored_annual_df.set_caption(\"Annual Sentiment Statistics\"))"
      ],
      "metadata": {
        "id": "OQYFfzQhImJ7"
      },
      "execution_count": 92,
      "outputs": []
    },
    {
      "cell_type": "markdown",
      "source": [
        "**Loading the CSV and the Swedish sentiment lexicon**"
      ],
      "metadata": {
        "id": "R-uyyDUsyA_A"
      }
    },
    {
      "cell_type": "code",
      "source": [
        "csv_url = \"https://raw.githubusercontent.com/DimitrisKokkinakis/swedish-notebooks/refs/heads/main/textual-resources/sv_CovidCorpus2.csv\"\n",
        "lexicon_url = \"https://raw.githubusercontent.com/DimitrisKokkinakis/swedish-notebooks/refs/heads/main/lexical-resources/sv_sentiment_lexicon.txt\"\n",
        "\n",
        "# Load CSV\n",
        "s = requests.get(csv_url).text\n",
        "df = pd.read_csv(StringIO(s), sep=\"\\t\")\n",
        "\n",
        "# Use curl to download the lexicon file\n",
        "!curl -L {lexicon_url} --output sentiment_lexicon.txt\n",
        "\n",
        "# Load lexicon into memory\n",
        "sentiment_lexicon = load_sentiment_lexicon('sentiment_lexicon.txt')\n",
        "\n",
        "# Convert the 'date' column to datetime objects\n",
        "df['date'] = pd.to_datetime(df['date'])\n",
        "\n",
        "# Process data and compute statistics\n",
        "df, monthly_stats, annual_stats = process_data(df, sentiment_lexicon)\n",
        "\n",
        "# Display statistics\n",
        "display_stats(monthly_stats, annual_stats)\n",
        "\n",
        "# Optionally save the annotated dataframe to a new CSV\n",
        "df.to_csv('annotated_texts.csv', index=False)"
      ],
      "metadata": {
        "id": "LP2G3n6NwAvh",
        "colab": {
          "base_uri": "https://localhost:8080/",
          "height": 698
        },
        "outputId": "f757efed-09ad-44a9-d26d-fbdea138d553"
      },
      "execution_count": 93,
      "outputs": [
        {
          "output_type": "stream",
          "name": "stdout",
          "text": [
            "  % Total    % Received % Xferd  Average Speed   Time    Time     Time  Current\n",
            "                                 Dload  Upload   Total   Spent    Left  Speed\n",
            "\r  0     0    0     0    0     0      0      0 --:--:-- --:--:-- --:--:--     0\r  0     0    0     0    0     0      0      0 --:--:-- --:--:-- --:--:--     0\r100 56580  100 56580    0     0   299k      0 --:--:-- --:--:-- --:--:--  298k\n",
            "\n",
            "The Swedish sentiment words are loaded!\n"
          ]
        },
        {
          "output_type": "stream",
          "name": "stderr",
          "text": [
            "<ipython-input-92-c8801d7288a7>:20: FutureWarning:\n",
            "\n",
            "Styler.applymap has been deprecated. Use Styler.map instead.\n",
            "\n"
          ]
        },
        {
          "output_type": "display_data",
          "data": {
            "text/plain": [
              "<pandas.io.formats.style.Styler at 0x7c480074ed70>"
            ],
            "text/html": [
              "<style type=\"text/css\">\n",
              "#T_1ebf6_row0_col0, #T_1ebf6_row0_col1, #T_1ebf6_row0_col2, #T_1ebf6_row0_col3, #T_1ebf6_row0_col4, #T_1ebf6_row1_col0, #T_1ebf6_row1_col1, #T_1ebf6_row1_col2, #T_1ebf6_row1_col3, #T_1ebf6_row1_col4, #T_1ebf6_row2_col0, #T_1ebf6_row2_col1, #T_1ebf6_row2_col2, #T_1ebf6_row2_col3, #T_1ebf6_row2_col4, #T_1ebf6_row3_col0, #T_1ebf6_row3_col1, #T_1ebf6_row3_col2, #T_1ebf6_row3_col3, #T_1ebf6_row3_col4, #T_1ebf6_row4_col0, #T_1ebf6_row4_col1, #T_1ebf6_row4_col2, #T_1ebf6_row4_col3, #T_1ebf6_row4_col4, #T_1ebf6_row5_col0, #T_1ebf6_row5_col1, #T_1ebf6_row5_col2, #T_1ebf6_row5_col3, #T_1ebf6_row5_col4, #T_1ebf6_row6_col0, #T_1ebf6_row6_col1, #T_1ebf6_row6_col2, #T_1ebf6_row6_col3, #T_1ebf6_row6_col4, #T_1ebf6_row7_col0, #T_1ebf6_row7_col1, #T_1ebf6_row7_col2, #T_1ebf6_row7_col3, #T_1ebf6_row7_col4, #T_1ebf6_row8_col0, #T_1ebf6_row8_col1, #T_1ebf6_row8_col2, #T_1ebf6_row8_col3, #T_1ebf6_row8_col4, #T_1ebf6_row9_col0, #T_1ebf6_row9_col1, #T_1ebf6_row9_col2, #T_1ebf6_row9_col3, #T_1ebf6_row9_col4, #T_1ebf6_row10_col0, #T_1ebf6_row10_col1, #T_1ebf6_row10_col2, #T_1ebf6_row10_col3, #T_1ebf6_row10_col4, #T_1ebf6_row11_col0, #T_1ebf6_row11_col1, #T_1ebf6_row11_col2, #T_1ebf6_row11_col3, #T_1ebf6_row11_col4 {\n",
              "  background-color: white;\n",
              "}\n",
              "</style>\n",
              "<table id=\"T_1ebf6\" class=\"dataframe\">\n",
              "  <caption><br>Monthly Sentiment Statistics</caption>\n",
              "  <thead>\n",
              "    <tr>\n",
              "      <th class=\"blank level0\" >&nbsp;</th>\n",
              "      <th id=\"T_1ebf6_level0_col0\" class=\"col_heading level0 col0\" >all</th>\n",
              "      <th id=\"T_1ebf6_level0_col1\" class=\"col_heading level0 col1\" >pos</th>\n",
              "      <th id=\"T_1ebf6_level0_col2\" class=\"col_heading level0 col2\" >neg</th>\n",
              "      <th id=\"T_1ebf6_level0_col3\" class=\"col_heading level0 col3\" >very_pos</th>\n",
              "      <th id=\"T_1ebf6_level0_col4\" class=\"col_heading level0 col4\" >very_neg</th>\n",
              "    </tr>\n",
              "  </thead>\n",
              "  <tbody>\n",
              "    <tr>\n",
              "      <th id=\"T_1ebf6_level0_row0\" class=\"row_heading level0 row0\" >2021-01</th>\n",
              "      <td id=\"T_1ebf6_row0_col0\" class=\"data row0 col0\" >2932</td>\n",
              "      <td id=\"T_1ebf6_row0_col1\" class=\"data row0 col1\" >1127</td>\n",
              "      <td id=\"T_1ebf6_row0_col2\" class=\"data row0 col2\" >1606</td>\n",
              "      <td id=\"T_1ebf6_row0_col3\" class=\"data row0 col3\" >125</td>\n",
              "      <td id=\"T_1ebf6_row0_col4\" class=\"data row0 col4\" >74</td>\n",
              "    </tr>\n",
              "    <tr>\n",
              "      <th id=\"T_1ebf6_level0_row1\" class=\"row_heading level0 row1\" >2021-02</th>\n",
              "      <td id=\"T_1ebf6_row1_col0\" class=\"data row1 col0\" >2985</td>\n",
              "      <td id=\"T_1ebf6_row1_col1\" class=\"data row1 col1\" >1106</td>\n",
              "      <td id=\"T_1ebf6_row1_col2\" class=\"data row1 col2\" >1628</td>\n",
              "      <td id=\"T_1ebf6_row1_col3\" class=\"data row1 col3\" >128</td>\n",
              "      <td id=\"T_1ebf6_row1_col4\" class=\"data row1 col4\" >123</td>\n",
              "    </tr>\n",
              "    <tr>\n",
              "      <th id=\"T_1ebf6_level0_row2\" class=\"row_heading level0 row2\" >2021-03</th>\n",
              "      <td id=\"T_1ebf6_row2_col0\" class=\"data row2 col0\" >3117</td>\n",
              "      <td id=\"T_1ebf6_row2_col1\" class=\"data row2 col1\" >1162</td>\n",
              "      <td id=\"T_1ebf6_row2_col2\" class=\"data row2 col2\" >1693</td>\n",
              "      <td id=\"T_1ebf6_row2_col3\" class=\"data row2 col3\" >158</td>\n",
              "      <td id=\"T_1ebf6_row2_col4\" class=\"data row2 col4\" >104</td>\n",
              "    </tr>\n",
              "    <tr>\n",
              "      <th id=\"T_1ebf6_level0_row3\" class=\"row_heading level0 row3\" >2021-04</th>\n",
              "      <td id=\"T_1ebf6_row3_col0\" class=\"data row3 col0\" >2939</td>\n",
              "      <td id=\"T_1ebf6_row3_col1\" class=\"data row3 col1\" >1132</td>\n",
              "      <td id=\"T_1ebf6_row3_col2\" class=\"data row3 col2\" >1579</td>\n",
              "      <td id=\"T_1ebf6_row3_col3\" class=\"data row3 col3\" >136</td>\n",
              "      <td id=\"T_1ebf6_row3_col4\" class=\"data row3 col4\" >92</td>\n",
              "    </tr>\n",
              "    <tr>\n",
              "      <th id=\"T_1ebf6_level0_row4\" class=\"row_heading level0 row4\" >2021-05</th>\n",
              "      <td id=\"T_1ebf6_row4_col0\" class=\"data row4 col0\" >3224</td>\n",
              "      <td id=\"T_1ebf6_row4_col1\" class=\"data row4 col1\" >1152</td>\n",
              "      <td id=\"T_1ebf6_row4_col2\" class=\"data row4 col2\" >1807</td>\n",
              "      <td id=\"T_1ebf6_row4_col3\" class=\"data row4 col3\" >157</td>\n",
              "      <td id=\"T_1ebf6_row4_col4\" class=\"data row4 col4\" >108</td>\n",
              "    </tr>\n",
              "    <tr>\n",
              "      <th id=\"T_1ebf6_level0_row5\" class=\"row_heading level0 row5\" >2021-06</th>\n",
              "      <td id=\"T_1ebf6_row5_col0\" class=\"data row5 col0\" >2171</td>\n",
              "      <td id=\"T_1ebf6_row5_col1\" class=\"data row5 col1\" >898</td>\n",
              "      <td id=\"T_1ebf6_row5_col2\" class=\"data row5 col2\" >1112</td>\n",
              "      <td id=\"T_1ebf6_row5_col3\" class=\"data row5 col3\" >112</td>\n",
              "      <td id=\"T_1ebf6_row5_col4\" class=\"data row5 col4\" >49</td>\n",
              "    </tr>\n",
              "    <tr>\n",
              "      <th id=\"T_1ebf6_level0_row6\" class=\"row_heading level0 row6\" >2021-07</th>\n",
              "      <td id=\"T_1ebf6_row6_col0\" class=\"data row6 col0\" >1188</td>\n",
              "      <td id=\"T_1ebf6_row6_col1\" class=\"data row6 col1\" >427</td>\n",
              "      <td id=\"T_1ebf6_row6_col2\" class=\"data row6 col2\" >675</td>\n",
              "      <td id=\"T_1ebf6_row6_col3\" class=\"data row6 col3\" >50</td>\n",
              "      <td id=\"T_1ebf6_row6_col4\" class=\"data row6 col4\" >36</td>\n",
              "    </tr>\n",
              "    <tr>\n",
              "      <th id=\"T_1ebf6_level0_row7\" class=\"row_heading level0 row7\" >2021-08</th>\n",
              "      <td id=\"T_1ebf6_row7_col0\" class=\"data row7 col0\" >1657</td>\n",
              "      <td id=\"T_1ebf6_row7_col1\" class=\"data row7 col1\" >640</td>\n",
              "      <td id=\"T_1ebf6_row7_col2\" class=\"data row7 col2\" >888</td>\n",
              "      <td id=\"T_1ebf6_row7_col3\" class=\"data row7 col3\" >89</td>\n",
              "      <td id=\"T_1ebf6_row7_col4\" class=\"data row7 col4\" >40</td>\n",
              "    </tr>\n",
              "    <tr>\n",
              "      <th id=\"T_1ebf6_level0_row8\" class=\"row_heading level0 row8\" >2021-09</th>\n",
              "      <td id=\"T_1ebf6_row8_col0\" class=\"data row8 col0\" >2194</td>\n",
              "      <td id=\"T_1ebf6_row8_col1\" class=\"data row8 col1\" >835</td>\n",
              "      <td id=\"T_1ebf6_row8_col2\" class=\"data row8 col2\" >1181</td>\n",
              "      <td id=\"T_1ebf6_row8_col3\" class=\"data row8 col3\" >131</td>\n",
              "      <td id=\"T_1ebf6_row8_col4\" class=\"data row8 col4\" >47</td>\n",
              "    </tr>\n",
              "    <tr>\n",
              "      <th id=\"T_1ebf6_level0_row9\" class=\"row_heading level0 row9\" >2021-10</th>\n",
              "      <td id=\"T_1ebf6_row9_col0\" class=\"data row9 col0\" >1763</td>\n",
              "      <td id=\"T_1ebf6_row9_col1\" class=\"data row9 col1\" >683</td>\n",
              "      <td id=\"T_1ebf6_row9_col2\" class=\"data row9 col2\" >956</td>\n",
              "      <td id=\"T_1ebf6_row9_col3\" class=\"data row9 col3\" >73</td>\n",
              "      <td id=\"T_1ebf6_row9_col4\" class=\"data row9 col4\" >51</td>\n",
              "    </tr>\n",
              "    <tr>\n",
              "      <th id=\"T_1ebf6_level0_row10\" class=\"row_heading level0 row10\" >2021-11</th>\n",
              "      <td id=\"T_1ebf6_row10_col0\" class=\"data row10 col0\" >1884</td>\n",
              "      <td id=\"T_1ebf6_row10_col1\" class=\"data row10 col1\" >703</td>\n",
              "      <td id=\"T_1ebf6_row10_col2\" class=\"data row10 col2\" >1041</td>\n",
              "      <td id=\"T_1ebf6_row10_col3\" class=\"data row10 col3\" >104</td>\n",
              "      <td id=\"T_1ebf6_row10_col4\" class=\"data row10 col4\" >36</td>\n",
              "    </tr>\n",
              "    <tr>\n",
              "      <th id=\"T_1ebf6_level0_row11\" class=\"row_heading level0 row11\" >2021-12</th>\n",
              "      <td id=\"T_1ebf6_row11_col0\" class=\"data row11 col0\" >2171</td>\n",
              "      <td id=\"T_1ebf6_row11_col1\" class=\"data row11 col1\" >806</td>\n",
              "      <td id=\"T_1ebf6_row11_col2\" class=\"data row11 col2\" >1203</td>\n",
              "      <td id=\"T_1ebf6_row11_col3\" class=\"data row11 col3\" >117</td>\n",
              "      <td id=\"T_1ebf6_row11_col4\" class=\"data row11 col4\" >45</td>\n",
              "    </tr>\n",
              "  </tbody>\n",
              "</table>\n"
            ]
          },
          "metadata": {}
        },
        {
          "output_type": "display_data",
          "data": {
            "text/plain": [
              "<pandas.io.formats.style.Styler at 0x7c47f9e41060>"
            ],
            "text/html": [
              "<style type=\"text/css\">\n",
              "#T_924f7_row0_col0, #T_924f7_row0_col1, #T_924f7_row0_col2, #T_924f7_row0_col3, #T_924f7_row0_col4 {\n",
              "  background-color: #f0f0f0;\n",
              "}\n",
              "</style>\n",
              "<table id=\"T_924f7\" class=\"dataframe\">\n",
              "  <caption>Annual Sentiment Statistics</caption>\n",
              "  <thead>\n",
              "    <tr>\n",
              "      <th class=\"blank level0\" >&nbsp;</th>\n",
              "      <th id=\"T_924f7_level0_col0\" class=\"col_heading level0 col0\" >all</th>\n",
              "      <th id=\"T_924f7_level0_col1\" class=\"col_heading level0 col1\" >pos</th>\n",
              "      <th id=\"T_924f7_level0_col2\" class=\"col_heading level0 col2\" >neg</th>\n",
              "      <th id=\"T_924f7_level0_col3\" class=\"col_heading level0 col3\" >very_pos</th>\n",
              "      <th id=\"T_924f7_level0_col4\" class=\"col_heading level0 col4\" >very_neg</th>\n",
              "    </tr>\n",
              "  </thead>\n",
              "  <tbody>\n",
              "    <tr>\n",
              "      <th id=\"T_924f7_level0_row0\" class=\"row_heading level0 row0\" >0</th>\n",
              "      <td id=\"T_924f7_row0_col0\" class=\"data row0 col0\" >28225</td>\n",
              "      <td id=\"T_924f7_row0_col1\" class=\"data row0 col1\" >10671</td>\n",
              "      <td id=\"T_924f7_row0_col2\" class=\"data row0 col2\" >15369</td>\n",
              "      <td id=\"T_924f7_row0_col3\" class=\"data row0 col3\" >1380</td>\n",
              "      <td id=\"T_924f7_row0_col4\" class=\"data row0 col4\" >805</td>\n",
              "    </tr>\n",
              "  </tbody>\n",
              "</table>\n"
            ]
          },
          "metadata": {}
        }
      ]
    },
    {
      "cell_type": "code",
      "source": [
        "#add 20 most freq, list with all 'pos', 'neg' etc. found in the  data"
      ],
      "metadata": {
        "id": "BEj_XwZDmxU-"
      },
      "execution_count": 94,
      "outputs": []
    },
    {
      "cell_type": "code",
      "source": [
        "import plotly.graph_objects as go\n",
        "\n",
        "# Adjusted function for Monthly Sentiment Polarity Stats with green color variants\n",
        "def plot_monthly_polarity_stats(monthly_stats):\n",
        "    months = sorted(monthly_stats.keys())\n",
        "    very_pos = [monthly_stats[m]['very_pos'] for m in months]\n",
        "    pos = [monthly_stats[m]['pos'] for m in months]\n",
        "    neg = [monthly_stats[m]['neg'] for m in months]\n",
        "    very_neg = [monthly_stats[m]['very_neg'] for m in months]\n",
        "\n",
        "    # Define green color variants\n",
        "    very_pos_color = '#228B22'  # Forest Green\n",
        "    pos_color = '#66CDAA'       # Medium Aquamarine\n",
        "    #neg_color = '#fdae6b'       # Light Orange\n",
        "    #very_neg_color = '#e6550d'  # Bright Orange\n",
        "    very_neg_color = '#8B0000'       # Dark Red\n",
        "    neg_color = '#DC143C'  # Crimson\n",
        "\n",
        "    fig = go.Figure()\n",
        "\n",
        "    # Adding traces with green color variants\n",
        "    fig.add_trace(go.Bar(\n",
        "        x=months,\n",
        "        y=very_pos,\n",
        "        name='Very Positive',\n",
        "        marker=dict(color=very_pos_color),\n",
        "        text=very_pos,\n",
        "        textposition='auto'\n",
        "    ))\n",
        "    fig.add_trace(go.Bar(\n",
        "        x=months,\n",
        "        y=pos,\n",
        "        name='Positive',\n",
        "        marker=dict(color=pos_color),\n",
        "        text=pos,\n",
        "        textposition='auto'\n",
        "    ))\n",
        "    fig.add_trace(go.Bar(\n",
        "        x=months,\n",
        "        y=neg,\n",
        "        name='Negative',\n",
        "        marker=dict(color=neg_color),\n",
        "        text=neg,\n",
        "        textposition='auto'\n",
        "    ))\n",
        "    fig.add_trace(go.Bar(\n",
        "        x=months,\n",
        "        y=very_neg,\n",
        "        name='Very Negative',\n",
        "        marker=dict(color=very_neg_color),\n",
        "        text=very_neg,\n",
        "        textposition='auto'\n",
        "    ))\n",
        "\n",
        "    fig.update_layout(\n",
        "        title={'text': 'Monthly Sentiment Polarity Distribution', 'font': {'size': 20, 'family': 'Arial Black', 'color': 'black'}, 'x':0.5},\n",
        "        xaxis_title='<b>Month (2021)</b>',\n",
        "        yaxis_title='<b>Number of Polarity Occurrences</b>',\n",
        "        barmode='stack',\n",
        "        legend=dict(title='Sentiment'),\n",
        "        template='ggplot2'\n",
        "    )\n",
        "\n",
        "    fig.show()\n",
        "\n",
        "# Adjusted function for Genre-Based Sentiment Polarity Stats with green color variants\n",
        "def plot_genre_polarity_stats(df):\n",
        "    genres = df['genre'].unique()\n",
        "    genre_stats = {genre: {'very_pos': 0, 'pos': 0, 'neg': 0, 'very_neg': 0} for genre in genres}\n",
        "\n",
        "    for idx, row in df.iterrows():\n",
        "        genre = row['genre']\n",
        "        annotated_text, annotations = annotate_text(row['text'], sentiment_lexicon)\n",
        "        for key in genre_stats[genre]:\n",
        "            genre_stats[genre][key] += annotations[key]\n",
        "\n",
        "    genres_sorted = sorted(genres)\n",
        "    very_pos = [genre_stats[g]['very_pos'] for g in genres_sorted]\n",
        "    pos = [genre_stats[g]['pos'] for g in genres_sorted]\n",
        "    neg = [genre_stats[g]['neg'] for g in genres_sorted]\n",
        "    very_neg = [genre_stats[g]['very_neg'] for g in genres_sorted]\n",
        "\n",
        "    fig = go.Figure()\n",
        "\n",
        "    # Adding traces with green color variants\n",
        "    fig.add_trace(go.Bar(\n",
        "        y=genres_sorted,\n",
        "        x=very_pos,\n",
        "        name='Very Positive',\n",
        "        marker=dict(color=very_pos_color),\n",
        "        orientation='h',\n",
        "        text=very_pos,\n",
        "        textposition='auto'\n",
        "    ))\n",
        "    fig.add_trace(go.Bar(\n",
        "        y=genres_sorted,\n",
        "        x=pos,\n",
        "        name='Positive',\n",
        "        marker=dict(color=pos_color),\n",
        "        orientation='h',\n",
        "        text=pos,\n",
        "        textposition='auto'\n",
        "    ))\n",
        "    fig.add_trace(go.Bar(\n",
        "        y=genres_sorted,\n",
        "        x=neg,\n",
        "        name='Negative',\n",
        "        marker=dict(color=neg_color),\n",
        "        orientation='h',\n",
        "        text=neg,\n",
        "        textposition='auto'\n",
        "    ))\n",
        "    fig.add_trace(go.Bar(\n",
        "        y=genres_sorted,\n",
        "        x=very_neg,\n",
        "        name='Very Negative',\n",
        "        marker=dict(color=very_neg_color),\n",
        "        orientation='h',\n",
        "        text=very_neg,\n",
        "        textposition='auto'\n",
        "    ))\n",
        "\n",
        "    fig.update_layout(\n",
        "        title={'text': 'Genre-Based Sentiment Polarity Distribution', 'font': {'size': 20, 'family': 'Arial Black', 'color': 'black'}, 'x':0.5},\n",
        "        xaxis_title='<b>Number of Polarity Occurrences</b>',\n",
        "        yaxis_title='<b>Genre</b>',\n",
        "        barmode='stack',\n",
        "        legend=dict(title='Sentiment'),\n",
        "        template='ggplot2'\n",
        "    )\n",
        "\n",
        "    fig.show()"
      ],
      "metadata": {
        "id": "EiO47WDSwAyo"
      },
      "execution_count": 95,
      "outputs": []
    },
    {
      "cell_type": "code",
      "source": [
        "# Define green color variants here, making them globally accessible\n",
        "very_pos_color = '#228B22'  # Forest Green\n",
        "pos_color = '#66CDAA'       # Medium Aquamarine\n",
        "very_neg_color = '#8B0000'       # Dark Red\n",
        "neg_color = '#DC143C'  # Crimson\n",
        "\n",
        "# Example Usage\n",
        "plot_monthly_polarity_stats(monthly_stats)\n",
        "plot_genre_polarity_stats(df)"
      ],
      "metadata": {
        "id": "YQV4QZT3teca",
        "colab": {
          "base_uri": "https://localhost:8080/",
          "height": 1000
        },
        "outputId": "6e2292e1-1150-4143-9c0e-4bfe3c271da8"
      },
      "execution_count": 96,
      "outputs": [
        {
          "output_type": "display_data",
          "data": {
            "text/html": [
              "<html>\n",
              "<head><meta charset=\"utf-8\" /></head>\n",
              "<body>\n",
              "    <div>            <script src=\"https://cdnjs.cloudflare.com/ajax/libs/mathjax/2.7.5/MathJax.js?config=TeX-AMS-MML_SVG\"></script><script type=\"text/javascript\">if (window.MathJax && window.MathJax.Hub && window.MathJax.Hub.Config) {window.MathJax.Hub.Config({SVG: {font: \"STIX-Web\"}});}</script>                <script type=\"text/javascript\">window.PlotlyConfig = {MathJaxConfig: 'local'};</script>\n",
              "        <script charset=\"utf-8\" src=\"https://cdn.plot.ly/plotly-2.35.2.min.js\"></script>                <div id=\"ae8dd669-b1e1-4a21-a291-541f12688e55\" class=\"plotly-graph-div\" style=\"height:525px; width:100%;\"></div>            <script type=\"text/javascript\">                                    window.PLOTLYENV=window.PLOTLYENV || {};                                    if (document.getElementById(\"ae8dd669-b1e1-4a21-a291-541f12688e55\")) {                    Plotly.newPlot(                        \"ae8dd669-b1e1-4a21-a291-541f12688e55\",                        [{\"marker\":{\"color\":\"#228B22\"},\"name\":\"Very Positive\",\"text\":[\"125\",\"128\",\"158\",\"136\",\"157\",\"112\",\"50\",\"89\",\"131\",\"73\",\"104\",\"117\"],\"textposition\":\"auto\",\"x\":[\"2021-01\",\"2021-02\",\"2021-03\",\"2021-04\",\"2021-05\",\"2021-06\",\"2021-07\",\"2021-08\",\"2021-09\",\"2021-10\",\"2021-11\",\"2021-12\"],\"y\":[125,128,158,136,157,112,50,89,131,73,104,117],\"type\":\"bar\"},{\"marker\":{\"color\":\"#66CDAA\"},\"name\":\"Positive\",\"text\":[\"1127\",\"1106\",\"1162\",\"1132\",\"1152\",\"898\",\"427\",\"640\",\"835\",\"683\",\"703\",\"806\"],\"textposition\":\"auto\",\"x\":[\"2021-01\",\"2021-02\",\"2021-03\",\"2021-04\",\"2021-05\",\"2021-06\",\"2021-07\",\"2021-08\",\"2021-09\",\"2021-10\",\"2021-11\",\"2021-12\"],\"y\":[1127,1106,1162,1132,1152,898,427,640,835,683,703,806],\"type\":\"bar\"},{\"marker\":{\"color\":\"#DC143C\"},\"name\":\"Negative\",\"text\":[\"1606\",\"1628\",\"1693\",\"1579\",\"1807\",\"1112\",\"675\",\"888\",\"1181\",\"956\",\"1041\",\"1203\"],\"textposition\":\"auto\",\"x\":[\"2021-01\",\"2021-02\",\"2021-03\",\"2021-04\",\"2021-05\",\"2021-06\",\"2021-07\",\"2021-08\",\"2021-09\",\"2021-10\",\"2021-11\",\"2021-12\"],\"y\":[1606,1628,1693,1579,1807,1112,675,888,1181,956,1041,1203],\"type\":\"bar\"},{\"marker\":{\"color\":\"#8B0000\"},\"name\":\"Very Negative\",\"text\":[\"74\",\"123\",\"104\",\"92\",\"108\",\"49\",\"36\",\"40\",\"47\",\"51\",\"36\",\"45\"],\"textposition\":\"auto\",\"x\":[\"2021-01\",\"2021-02\",\"2021-03\",\"2021-04\",\"2021-05\",\"2021-06\",\"2021-07\",\"2021-08\",\"2021-09\",\"2021-10\",\"2021-11\",\"2021-12\"],\"y\":[74,123,104,92,108,49,36,40,47,51,36,45],\"type\":\"bar\"}],                        {\"template\":{\"data\":{\"barpolar\":[{\"marker\":{\"line\":{\"color\":\"rgb(237,237,237)\",\"width\":0.5},\"pattern\":{\"fillmode\":\"overlay\",\"size\":10,\"solidity\":0.2}},\"type\":\"barpolar\"}],\"bar\":[{\"error_x\":{\"color\":\"rgb(51,51,51)\"},\"error_y\":{\"color\":\"rgb(51,51,51)\"},\"marker\":{\"line\":{\"color\":\"rgb(237,237,237)\",\"width\":0.5},\"pattern\":{\"fillmode\":\"overlay\",\"size\":10,\"solidity\":0.2}},\"type\":\"bar\"}],\"carpet\":[{\"aaxis\":{\"endlinecolor\":\"rgb(51,51,51)\",\"gridcolor\":\"white\",\"linecolor\":\"white\",\"minorgridcolor\":\"white\",\"startlinecolor\":\"rgb(51,51,51)\"},\"baxis\":{\"endlinecolor\":\"rgb(51,51,51)\",\"gridcolor\":\"white\",\"linecolor\":\"white\",\"minorgridcolor\":\"white\",\"startlinecolor\":\"rgb(51,51,51)\"},\"type\":\"carpet\"}],\"choropleth\":[{\"colorbar\":{\"outlinewidth\":0,\"tickcolor\":\"rgb(237,237,237)\",\"ticklen\":6,\"ticks\":\"inside\"},\"type\":\"choropleth\"}],\"contourcarpet\":[{\"colorbar\":{\"outlinewidth\":0,\"tickcolor\":\"rgb(237,237,237)\",\"ticklen\":6,\"ticks\":\"inside\"},\"type\":\"contourcarpet\"}],\"contour\":[{\"colorbar\":{\"outlinewidth\":0,\"tickcolor\":\"rgb(237,237,237)\",\"ticklen\":6,\"ticks\":\"inside\"},\"colorscale\":[[0,\"rgb(20,44,66)\"],[1,\"rgb(90,179,244)\"]],\"type\":\"contour\"}],\"heatmapgl\":[{\"colorbar\":{\"outlinewidth\":0,\"tickcolor\":\"rgb(237,237,237)\",\"ticklen\":6,\"ticks\":\"inside\"},\"colorscale\":[[0,\"rgb(20,44,66)\"],[1,\"rgb(90,179,244)\"]],\"type\":\"heatmapgl\"}],\"heatmap\":[{\"colorbar\":{\"outlinewidth\":0,\"tickcolor\":\"rgb(237,237,237)\",\"ticklen\":6,\"ticks\":\"inside\"},\"colorscale\":[[0,\"rgb(20,44,66)\"],[1,\"rgb(90,179,244)\"]],\"type\":\"heatmap\"}],\"histogram2dcontour\":[{\"colorbar\":{\"outlinewidth\":0,\"tickcolor\":\"rgb(237,237,237)\",\"ticklen\":6,\"ticks\":\"inside\"},\"colorscale\":[[0,\"rgb(20,44,66)\"],[1,\"rgb(90,179,244)\"]],\"type\":\"histogram2dcontour\"}],\"histogram2d\":[{\"colorbar\":{\"outlinewidth\":0,\"tickcolor\":\"rgb(237,237,237)\",\"ticklen\":6,\"ticks\":\"inside\"},\"colorscale\":[[0,\"rgb(20,44,66)\"],[1,\"rgb(90,179,244)\"]],\"type\":\"histogram2d\"}],\"histogram\":[{\"marker\":{\"pattern\":{\"fillmode\":\"overlay\",\"size\":10,\"solidity\":0.2}},\"type\":\"histogram\"}],\"mesh3d\":[{\"colorbar\":{\"outlinewidth\":0,\"tickcolor\":\"rgb(237,237,237)\",\"ticklen\":6,\"ticks\":\"inside\"},\"type\":\"mesh3d\"}],\"parcoords\":[{\"line\":{\"colorbar\":{\"outlinewidth\":0,\"tickcolor\":\"rgb(237,237,237)\",\"ticklen\":6,\"ticks\":\"inside\"}},\"type\":\"parcoords\"}],\"pie\":[{\"automargin\":true,\"type\":\"pie\"}],\"scatter3d\":[{\"line\":{\"colorbar\":{\"outlinewidth\":0,\"tickcolor\":\"rgb(237,237,237)\",\"ticklen\":6,\"ticks\":\"inside\"}},\"marker\":{\"colorbar\":{\"outlinewidth\":0,\"tickcolor\":\"rgb(237,237,237)\",\"ticklen\":6,\"ticks\":\"inside\"}},\"type\":\"scatter3d\"}],\"scattercarpet\":[{\"marker\":{\"colorbar\":{\"outlinewidth\":0,\"tickcolor\":\"rgb(237,237,237)\",\"ticklen\":6,\"ticks\":\"inside\"}},\"type\":\"scattercarpet\"}],\"scattergeo\":[{\"marker\":{\"colorbar\":{\"outlinewidth\":0,\"tickcolor\":\"rgb(237,237,237)\",\"ticklen\":6,\"ticks\":\"inside\"}},\"type\":\"scattergeo\"}],\"scattergl\":[{\"marker\":{\"colorbar\":{\"outlinewidth\":0,\"tickcolor\":\"rgb(237,237,237)\",\"ticklen\":6,\"ticks\":\"inside\"}},\"type\":\"scattergl\"}],\"scattermapbox\":[{\"marker\":{\"colorbar\":{\"outlinewidth\":0,\"tickcolor\":\"rgb(237,237,237)\",\"ticklen\":6,\"ticks\":\"inside\"}},\"type\":\"scattermapbox\"}],\"scatterpolargl\":[{\"marker\":{\"colorbar\":{\"outlinewidth\":0,\"tickcolor\":\"rgb(237,237,237)\",\"ticklen\":6,\"ticks\":\"inside\"}},\"type\":\"scatterpolargl\"}],\"scatterpolar\":[{\"marker\":{\"colorbar\":{\"outlinewidth\":0,\"tickcolor\":\"rgb(237,237,237)\",\"ticklen\":6,\"ticks\":\"inside\"}},\"type\":\"scatterpolar\"}],\"scatter\":[{\"fillpattern\":{\"fillmode\":\"overlay\",\"size\":10,\"solidity\":0.2},\"type\":\"scatter\"}],\"scatterternary\":[{\"marker\":{\"colorbar\":{\"outlinewidth\":0,\"tickcolor\":\"rgb(237,237,237)\",\"ticklen\":6,\"ticks\":\"inside\"}},\"type\":\"scatterternary\"}],\"surface\":[{\"colorbar\":{\"outlinewidth\":0,\"tickcolor\":\"rgb(237,237,237)\",\"ticklen\":6,\"ticks\":\"inside\"},\"colorscale\":[[0,\"rgb(20,44,66)\"],[1,\"rgb(90,179,244)\"]],\"type\":\"surface\"}],\"table\":[{\"cells\":{\"fill\":{\"color\":\"rgb(237,237,237)\"},\"line\":{\"color\":\"white\"}},\"header\":{\"fill\":{\"color\":\"rgb(217,217,217)\"},\"line\":{\"color\":\"white\"}},\"type\":\"table\"}]},\"layout\":{\"annotationdefaults\":{\"arrowhead\":0,\"arrowwidth\":1},\"autotypenumbers\":\"strict\",\"coloraxis\":{\"colorbar\":{\"outlinewidth\":0,\"tickcolor\":\"rgb(237,237,237)\",\"ticklen\":6,\"ticks\":\"inside\"}},\"colorscale\":{\"sequential\":[[0,\"rgb(20,44,66)\"],[1,\"rgb(90,179,244)\"]],\"sequentialminus\":[[0,\"rgb(20,44,66)\"],[1,\"rgb(90,179,244)\"]]},\"colorway\":[\"#F8766D\",\"#A3A500\",\"#00BF7D\",\"#00B0F6\",\"#E76BF3\"],\"font\":{\"color\":\"rgb(51,51,51)\"},\"geo\":{\"bgcolor\":\"white\",\"lakecolor\":\"white\",\"landcolor\":\"rgb(237,237,237)\",\"showlakes\":true,\"showland\":true,\"subunitcolor\":\"white\"},\"hoverlabel\":{\"align\":\"left\"},\"hovermode\":\"closest\",\"paper_bgcolor\":\"white\",\"plot_bgcolor\":\"rgb(237,237,237)\",\"polar\":{\"angularaxis\":{\"gridcolor\":\"white\",\"linecolor\":\"white\",\"showgrid\":true,\"tickcolor\":\"rgb(51,51,51)\",\"ticks\":\"outside\"},\"bgcolor\":\"rgb(237,237,237)\",\"radialaxis\":{\"gridcolor\":\"white\",\"linecolor\":\"white\",\"showgrid\":true,\"tickcolor\":\"rgb(51,51,51)\",\"ticks\":\"outside\"}},\"scene\":{\"xaxis\":{\"backgroundcolor\":\"rgb(237,237,237)\",\"gridcolor\":\"white\",\"gridwidth\":2,\"linecolor\":\"white\",\"showbackground\":true,\"showgrid\":true,\"tickcolor\":\"rgb(51,51,51)\",\"ticks\":\"outside\",\"zerolinecolor\":\"white\"},\"yaxis\":{\"backgroundcolor\":\"rgb(237,237,237)\",\"gridcolor\":\"white\",\"gridwidth\":2,\"linecolor\":\"white\",\"showbackground\":true,\"showgrid\":true,\"tickcolor\":\"rgb(51,51,51)\",\"ticks\":\"outside\",\"zerolinecolor\":\"white\"},\"zaxis\":{\"backgroundcolor\":\"rgb(237,237,237)\",\"gridcolor\":\"white\",\"gridwidth\":2,\"linecolor\":\"white\",\"showbackground\":true,\"showgrid\":true,\"tickcolor\":\"rgb(51,51,51)\",\"ticks\":\"outside\",\"zerolinecolor\":\"white\"}},\"shapedefaults\":{\"fillcolor\":\"black\",\"line\":{\"width\":0},\"opacity\":0.3},\"ternary\":{\"aaxis\":{\"gridcolor\":\"white\",\"linecolor\":\"white\",\"showgrid\":true,\"tickcolor\":\"rgb(51,51,51)\",\"ticks\":\"outside\"},\"baxis\":{\"gridcolor\":\"white\",\"linecolor\":\"white\",\"showgrid\":true,\"tickcolor\":\"rgb(51,51,51)\",\"ticks\":\"outside\"},\"bgcolor\":\"rgb(237,237,237)\",\"caxis\":{\"gridcolor\":\"white\",\"linecolor\":\"white\",\"showgrid\":true,\"tickcolor\":\"rgb(51,51,51)\",\"ticks\":\"outside\"}},\"xaxis\":{\"automargin\":true,\"gridcolor\":\"white\",\"linecolor\":\"white\",\"showgrid\":true,\"tickcolor\":\"rgb(51,51,51)\",\"ticks\":\"outside\",\"title\":{\"standoff\":15},\"zerolinecolor\":\"white\"},\"yaxis\":{\"automargin\":true,\"gridcolor\":\"white\",\"linecolor\":\"white\",\"showgrid\":true,\"tickcolor\":\"rgb(51,51,51)\",\"ticks\":\"outside\",\"title\":{\"standoff\":15},\"zerolinecolor\":\"white\"}}},\"title\":{\"font\":{\"size\":20,\"family\":\"Arial Black\",\"color\":\"black\"},\"text\":\"Monthly Sentiment Polarity Distribution\",\"x\":0.5},\"xaxis\":{\"title\":{\"text\":\"\\u003cb\\u003eMonth (2021)\\u003c\\u002fb\\u003e\"}},\"yaxis\":{\"title\":{\"text\":\"\\u003cb\\u003eNumber of Polarity Occurrences\\u003c\\u002fb\\u003e\"}},\"barmode\":\"stack\",\"legend\":{\"title\":{\"text\":\"Sentiment\"}}},                        {\"responsive\": true}                    ).then(function(){\n",
              "                            \n",
              "var gd = document.getElementById('ae8dd669-b1e1-4a21-a291-541f12688e55');\n",
              "var x = new MutationObserver(function (mutations, observer) {{\n",
              "        var display = window.getComputedStyle(gd).display;\n",
              "        if (!display || display === 'none') {{\n",
              "            console.log([gd, 'removed!']);\n",
              "            Plotly.purge(gd);\n",
              "            observer.disconnect();\n",
              "        }}\n",
              "}});\n",
              "\n",
              "// Listen for the removal of the full notebook cells\n",
              "var notebookContainer = gd.closest('#notebook-container');\n",
              "if (notebookContainer) {{\n",
              "    x.observe(notebookContainer, {childList: true});\n",
              "}}\n",
              "\n",
              "// Listen for the clearing of the current output cell\n",
              "var outputEl = gd.closest('.output');\n",
              "if (outputEl) {{\n",
              "    x.observe(outputEl, {childList: true});\n",
              "}}\n",
              "\n",
              "                        })                };                            </script>        </div>\n",
              "</body>\n",
              "</html>"
            ]
          },
          "metadata": {}
        },
        {
          "output_type": "display_data",
          "data": {
            "text/html": [
              "<html>\n",
              "<head><meta charset=\"utf-8\" /></head>\n",
              "<body>\n",
              "    <div>            <script src=\"https://cdnjs.cloudflare.com/ajax/libs/mathjax/2.7.5/MathJax.js?config=TeX-AMS-MML_SVG\"></script><script type=\"text/javascript\">if (window.MathJax && window.MathJax.Hub && window.MathJax.Hub.Config) {window.MathJax.Hub.Config({SVG: {font: \"STIX-Web\"}});}</script>                <script type=\"text/javascript\">window.PlotlyConfig = {MathJaxConfig: 'local'};</script>\n",
              "        <script charset=\"utf-8\" src=\"https://cdn.plot.ly/plotly-2.35.2.min.js\"></script>                <div id=\"4acb0c34-3f0a-41e2-9985-e70d7e0075ee\" class=\"plotly-graph-div\" style=\"height:525px; width:100%;\"></div>            <script type=\"text/javascript\">                                    window.PLOTLYENV=window.PLOTLYENV || {};                                    if (document.getElementById(\"4acb0c34-3f0a-41e2-9985-e70d7e0075ee\")) {                    Plotly.newPlot(                        \"4acb0c34-3f0a-41e2-9985-e70d7e0075ee\",                        [{\"marker\":{\"color\":\"#228B22\"},\"name\":\"Very Positive\",\"orientation\":\"h\",\"text\":[\"34\",\"112\",\"199\",\"437\",\"413\",\"166\",\"17\",\"2\"],\"textposition\":\"auto\",\"x\":[34,112,199,437,413,166,17,2],\"y\":[\"ATHRTS\",\"BLOG\",\"MDCL\",\"NEWS\",\"PBLMD\",\"PRDCL\",\"RSRCH\",\"SCLMD\"],\"type\":\"bar\"},{\"marker\":{\"color\":\"#66CDAA\"},\"name\":\"Positive\",\"orientation\":\"h\",\"text\":[\"261\",\"825\",\"2027\",\"2826\",\"3042\",\"1374\",\"302\",\"14\"],\"textposition\":\"auto\",\"x\":[261,825,2027,2826,3042,1374,302,14],\"y\":[\"ATHRTS\",\"BLOG\",\"MDCL\",\"NEWS\",\"PBLMD\",\"PRDCL\",\"RSRCH\",\"SCLMD\"],\"type\":\"bar\"},{\"marker\":{\"color\":\"#DC143C\"},\"name\":\"Negative\",\"orientation\":\"h\",\"text\":[\"368\",\"1316\",\"3180\",\"4231\",\"4159\",\"1709\",\"381\",\"25\"],\"textposition\":\"auto\",\"x\":[368,1316,3180,4231,4159,1709,381,25],\"y\":[\"ATHRTS\",\"BLOG\",\"MDCL\",\"NEWS\",\"PBLMD\",\"PRDCL\",\"RSRCH\",\"SCLMD\"],\"type\":\"bar\"},{\"marker\":{\"color\":\"#8B0000\"},\"name\":\"Very Negative\",\"orientation\":\"h\",\"text\":[\"14\",\"136\",\"177\",\"210\",\"169\",\"66\",\"33\",\"0\"],\"textposition\":\"auto\",\"x\":[14,136,177,210,169,66,33,0],\"y\":[\"ATHRTS\",\"BLOG\",\"MDCL\",\"NEWS\",\"PBLMD\",\"PRDCL\",\"RSRCH\",\"SCLMD\"],\"type\":\"bar\"}],                        {\"template\":{\"data\":{\"barpolar\":[{\"marker\":{\"line\":{\"color\":\"rgb(237,237,237)\",\"width\":0.5},\"pattern\":{\"fillmode\":\"overlay\",\"size\":10,\"solidity\":0.2}},\"type\":\"barpolar\"}],\"bar\":[{\"error_x\":{\"color\":\"rgb(51,51,51)\"},\"error_y\":{\"color\":\"rgb(51,51,51)\"},\"marker\":{\"line\":{\"color\":\"rgb(237,237,237)\",\"width\":0.5},\"pattern\":{\"fillmode\":\"overlay\",\"size\":10,\"solidity\":0.2}},\"type\":\"bar\"}],\"carpet\":[{\"aaxis\":{\"endlinecolor\":\"rgb(51,51,51)\",\"gridcolor\":\"white\",\"linecolor\":\"white\",\"minorgridcolor\":\"white\",\"startlinecolor\":\"rgb(51,51,51)\"},\"baxis\":{\"endlinecolor\":\"rgb(51,51,51)\",\"gridcolor\":\"white\",\"linecolor\":\"white\",\"minorgridcolor\":\"white\",\"startlinecolor\":\"rgb(51,51,51)\"},\"type\":\"carpet\"}],\"choropleth\":[{\"colorbar\":{\"outlinewidth\":0,\"tickcolor\":\"rgb(237,237,237)\",\"ticklen\":6,\"ticks\":\"inside\"},\"type\":\"choropleth\"}],\"contourcarpet\":[{\"colorbar\":{\"outlinewidth\":0,\"tickcolor\":\"rgb(237,237,237)\",\"ticklen\":6,\"ticks\":\"inside\"},\"type\":\"contourcarpet\"}],\"contour\":[{\"colorbar\":{\"outlinewidth\":0,\"tickcolor\":\"rgb(237,237,237)\",\"ticklen\":6,\"ticks\":\"inside\"},\"colorscale\":[[0,\"rgb(20,44,66)\"],[1,\"rgb(90,179,244)\"]],\"type\":\"contour\"}],\"heatmapgl\":[{\"colorbar\":{\"outlinewidth\":0,\"tickcolor\":\"rgb(237,237,237)\",\"ticklen\":6,\"ticks\":\"inside\"},\"colorscale\":[[0,\"rgb(20,44,66)\"],[1,\"rgb(90,179,244)\"]],\"type\":\"heatmapgl\"}],\"heatmap\":[{\"colorbar\":{\"outlinewidth\":0,\"tickcolor\":\"rgb(237,237,237)\",\"ticklen\":6,\"ticks\":\"inside\"},\"colorscale\":[[0,\"rgb(20,44,66)\"],[1,\"rgb(90,179,244)\"]],\"type\":\"heatmap\"}],\"histogram2dcontour\":[{\"colorbar\":{\"outlinewidth\":0,\"tickcolor\":\"rgb(237,237,237)\",\"ticklen\":6,\"ticks\":\"inside\"},\"colorscale\":[[0,\"rgb(20,44,66)\"],[1,\"rgb(90,179,244)\"]],\"type\":\"histogram2dcontour\"}],\"histogram2d\":[{\"colorbar\":{\"outlinewidth\":0,\"tickcolor\":\"rgb(237,237,237)\",\"ticklen\":6,\"ticks\":\"inside\"},\"colorscale\":[[0,\"rgb(20,44,66)\"],[1,\"rgb(90,179,244)\"]],\"type\":\"histogram2d\"}],\"histogram\":[{\"marker\":{\"pattern\":{\"fillmode\":\"overlay\",\"size\":10,\"solidity\":0.2}},\"type\":\"histogram\"}],\"mesh3d\":[{\"colorbar\":{\"outlinewidth\":0,\"tickcolor\":\"rgb(237,237,237)\",\"ticklen\":6,\"ticks\":\"inside\"},\"type\":\"mesh3d\"}],\"parcoords\":[{\"line\":{\"colorbar\":{\"outlinewidth\":0,\"tickcolor\":\"rgb(237,237,237)\",\"ticklen\":6,\"ticks\":\"inside\"}},\"type\":\"parcoords\"}],\"pie\":[{\"automargin\":true,\"type\":\"pie\"}],\"scatter3d\":[{\"line\":{\"colorbar\":{\"outlinewidth\":0,\"tickcolor\":\"rgb(237,237,237)\",\"ticklen\":6,\"ticks\":\"inside\"}},\"marker\":{\"colorbar\":{\"outlinewidth\":0,\"tickcolor\":\"rgb(237,237,237)\",\"ticklen\":6,\"ticks\":\"inside\"}},\"type\":\"scatter3d\"}],\"scattercarpet\":[{\"marker\":{\"colorbar\":{\"outlinewidth\":0,\"tickcolor\":\"rgb(237,237,237)\",\"ticklen\":6,\"ticks\":\"inside\"}},\"type\":\"scattercarpet\"}],\"scattergeo\":[{\"marker\":{\"colorbar\":{\"outlinewidth\":0,\"tickcolor\":\"rgb(237,237,237)\",\"ticklen\":6,\"ticks\":\"inside\"}},\"type\":\"scattergeo\"}],\"scattergl\":[{\"marker\":{\"colorbar\":{\"outlinewidth\":0,\"tickcolor\":\"rgb(237,237,237)\",\"ticklen\":6,\"ticks\":\"inside\"}},\"type\":\"scattergl\"}],\"scattermapbox\":[{\"marker\":{\"colorbar\":{\"outlinewidth\":0,\"tickcolor\":\"rgb(237,237,237)\",\"ticklen\":6,\"ticks\":\"inside\"}},\"type\":\"scattermapbox\"}],\"scatterpolargl\":[{\"marker\":{\"colorbar\":{\"outlinewidth\":0,\"tickcolor\":\"rgb(237,237,237)\",\"ticklen\":6,\"ticks\":\"inside\"}},\"type\":\"scatterpolargl\"}],\"scatterpolar\":[{\"marker\":{\"colorbar\":{\"outlinewidth\":0,\"tickcolor\":\"rgb(237,237,237)\",\"ticklen\":6,\"ticks\":\"inside\"}},\"type\":\"scatterpolar\"}],\"scatter\":[{\"fillpattern\":{\"fillmode\":\"overlay\",\"size\":10,\"solidity\":0.2},\"type\":\"scatter\"}],\"scatterternary\":[{\"marker\":{\"colorbar\":{\"outlinewidth\":0,\"tickcolor\":\"rgb(237,237,237)\",\"ticklen\":6,\"ticks\":\"inside\"}},\"type\":\"scatterternary\"}],\"surface\":[{\"colorbar\":{\"outlinewidth\":0,\"tickcolor\":\"rgb(237,237,237)\",\"ticklen\":6,\"ticks\":\"inside\"},\"colorscale\":[[0,\"rgb(20,44,66)\"],[1,\"rgb(90,179,244)\"]],\"type\":\"surface\"}],\"table\":[{\"cells\":{\"fill\":{\"color\":\"rgb(237,237,237)\"},\"line\":{\"color\":\"white\"}},\"header\":{\"fill\":{\"color\":\"rgb(217,217,217)\"},\"line\":{\"color\":\"white\"}},\"type\":\"table\"}]},\"layout\":{\"annotationdefaults\":{\"arrowhead\":0,\"arrowwidth\":1},\"autotypenumbers\":\"strict\",\"coloraxis\":{\"colorbar\":{\"outlinewidth\":0,\"tickcolor\":\"rgb(237,237,237)\",\"ticklen\":6,\"ticks\":\"inside\"}},\"colorscale\":{\"sequential\":[[0,\"rgb(20,44,66)\"],[1,\"rgb(90,179,244)\"]],\"sequentialminus\":[[0,\"rgb(20,44,66)\"],[1,\"rgb(90,179,244)\"]]},\"colorway\":[\"#F8766D\",\"#A3A500\",\"#00BF7D\",\"#00B0F6\",\"#E76BF3\"],\"font\":{\"color\":\"rgb(51,51,51)\"},\"geo\":{\"bgcolor\":\"white\",\"lakecolor\":\"white\",\"landcolor\":\"rgb(237,237,237)\",\"showlakes\":true,\"showland\":true,\"subunitcolor\":\"white\"},\"hoverlabel\":{\"align\":\"left\"},\"hovermode\":\"closest\",\"paper_bgcolor\":\"white\",\"plot_bgcolor\":\"rgb(237,237,237)\",\"polar\":{\"angularaxis\":{\"gridcolor\":\"white\",\"linecolor\":\"white\",\"showgrid\":true,\"tickcolor\":\"rgb(51,51,51)\",\"ticks\":\"outside\"},\"bgcolor\":\"rgb(237,237,237)\",\"radialaxis\":{\"gridcolor\":\"white\",\"linecolor\":\"white\",\"showgrid\":true,\"tickcolor\":\"rgb(51,51,51)\",\"ticks\":\"outside\"}},\"scene\":{\"xaxis\":{\"backgroundcolor\":\"rgb(237,237,237)\",\"gridcolor\":\"white\",\"gridwidth\":2,\"linecolor\":\"white\",\"showbackground\":true,\"showgrid\":true,\"tickcolor\":\"rgb(51,51,51)\",\"ticks\":\"outside\",\"zerolinecolor\":\"white\"},\"yaxis\":{\"backgroundcolor\":\"rgb(237,237,237)\",\"gridcolor\":\"white\",\"gridwidth\":2,\"linecolor\":\"white\",\"showbackground\":true,\"showgrid\":true,\"tickcolor\":\"rgb(51,51,51)\",\"ticks\":\"outside\",\"zerolinecolor\":\"white\"},\"zaxis\":{\"backgroundcolor\":\"rgb(237,237,237)\",\"gridcolor\":\"white\",\"gridwidth\":2,\"linecolor\":\"white\",\"showbackground\":true,\"showgrid\":true,\"tickcolor\":\"rgb(51,51,51)\",\"ticks\":\"outside\",\"zerolinecolor\":\"white\"}},\"shapedefaults\":{\"fillcolor\":\"black\",\"line\":{\"width\":0},\"opacity\":0.3},\"ternary\":{\"aaxis\":{\"gridcolor\":\"white\",\"linecolor\":\"white\",\"showgrid\":true,\"tickcolor\":\"rgb(51,51,51)\",\"ticks\":\"outside\"},\"baxis\":{\"gridcolor\":\"white\",\"linecolor\":\"white\",\"showgrid\":true,\"tickcolor\":\"rgb(51,51,51)\",\"ticks\":\"outside\"},\"bgcolor\":\"rgb(237,237,237)\",\"caxis\":{\"gridcolor\":\"white\",\"linecolor\":\"white\",\"showgrid\":true,\"tickcolor\":\"rgb(51,51,51)\",\"ticks\":\"outside\"}},\"xaxis\":{\"automargin\":true,\"gridcolor\":\"white\",\"linecolor\":\"white\",\"showgrid\":true,\"tickcolor\":\"rgb(51,51,51)\",\"ticks\":\"outside\",\"title\":{\"standoff\":15},\"zerolinecolor\":\"white\"},\"yaxis\":{\"automargin\":true,\"gridcolor\":\"white\",\"linecolor\":\"white\",\"showgrid\":true,\"tickcolor\":\"rgb(51,51,51)\",\"ticks\":\"outside\",\"title\":{\"standoff\":15},\"zerolinecolor\":\"white\"}}},\"title\":{\"font\":{\"size\":20,\"family\":\"Arial Black\",\"color\":\"black\"},\"text\":\"Genre-Based Sentiment Polarity Distribution\",\"x\":0.5},\"xaxis\":{\"title\":{\"text\":\"\\u003cb\\u003eNumber of Polarity Occurrences\\u003c\\u002fb\\u003e\"}},\"yaxis\":{\"title\":{\"text\":\"\\u003cb\\u003eGenre\\u003c\\u002fb\\u003e\"}},\"barmode\":\"stack\",\"legend\":{\"title\":{\"text\":\"Sentiment\"}}},                        {\"responsive\": true}                    ).then(function(){\n",
              "                            \n",
              "var gd = document.getElementById('4acb0c34-3f0a-41e2-9985-e70d7e0075ee');\n",
              "var x = new MutationObserver(function (mutations, observer) {{\n",
              "        var display = window.getComputedStyle(gd).display;\n",
              "        if (!display || display === 'none') {{\n",
              "            console.log([gd, 'removed!']);\n",
              "            Plotly.purge(gd);\n",
              "            observer.disconnect();\n",
              "        }}\n",
              "}});\n",
              "\n",
              "// Listen for the removal of the full notebook cells\n",
              "var notebookContainer = gd.closest('#notebook-container');\n",
              "if (notebookContainer) {{\n",
              "    x.observe(notebookContainer, {childList: true});\n",
              "}}\n",
              "\n",
              "// Listen for the clearing of the current output cell\n",
              "var outputEl = gd.closest('.output');\n",
              "if (outputEl) {{\n",
              "    x.observe(outputEl, {childList: true});\n",
              "}}\n",
              "\n",
              "                        })                };                            </script>        </div>\n",
              "</body>\n",
              "</html>"
            ]
          },
          "metadata": {}
        }
      ]
    },
    {
      "cell_type": "code",
      "source": [
        "!pip install seaborn\n",
        "import pandas as pd\n",
        "import numpy as np\n",
        "import seaborn as sns\n",
        "import matplotlib.pyplot as plt"
      ],
      "metadata": {
        "colab": {
          "base_uri": "https://localhost:8080/"
        },
        "id": "v2Nra-ZIZv4H",
        "outputId": "9a8700d3-af76-4d8e-83f7-ace947f27cde"
      },
      "execution_count": 97,
      "outputs": [
        {
          "output_type": "stream",
          "name": "stdout",
          "text": [
            "Requirement already satisfied: seaborn in /usr/local/lib/python3.10/dist-packages (0.13.2)\n",
            "Requirement already satisfied: numpy!=1.24.0,>=1.20 in /usr/local/lib/python3.10/dist-packages (from seaborn) (1.26.4)\n",
            "Requirement already satisfied: pandas>=1.2 in /usr/local/lib/python3.10/dist-packages (from seaborn) (2.2.2)\n",
            "Requirement already satisfied: matplotlib!=3.6.1,>=3.4 in /usr/local/lib/python3.10/dist-packages (from seaborn) (3.8.0)\n",
            "Requirement already satisfied: contourpy>=1.0.1 in /usr/local/lib/python3.10/dist-packages (from matplotlib!=3.6.1,>=3.4->seaborn) (1.3.1)\n",
            "Requirement already satisfied: cycler>=0.10 in /usr/local/lib/python3.10/dist-packages (from matplotlib!=3.6.1,>=3.4->seaborn) (0.12.1)\n",
            "Requirement already satisfied: fonttools>=4.22.0 in /usr/local/lib/python3.10/dist-packages (from matplotlib!=3.6.1,>=3.4->seaborn) (4.54.1)\n",
            "Requirement already satisfied: kiwisolver>=1.0.1 in /usr/local/lib/python3.10/dist-packages (from matplotlib!=3.6.1,>=3.4->seaborn) (1.4.7)\n",
            "Requirement already satisfied: packaging>=20.0 in /usr/local/lib/python3.10/dist-packages (from matplotlib!=3.6.1,>=3.4->seaborn) (24.2)\n",
            "Requirement already satisfied: pillow>=6.2.0 in /usr/local/lib/python3.10/dist-packages (from matplotlib!=3.6.1,>=3.4->seaborn) (11.0.0)\n",
            "Requirement already satisfied: pyparsing>=2.3.1 in /usr/local/lib/python3.10/dist-packages (from matplotlib!=3.6.1,>=3.4->seaborn) (3.2.0)\n",
            "Requirement already satisfied: python-dateutil>=2.7 in /usr/local/lib/python3.10/dist-packages (from matplotlib!=3.6.1,>=3.4->seaborn) (2.8.2)\n",
            "Requirement already satisfied: pytz>=2020.1 in /usr/local/lib/python3.10/dist-packages (from pandas>=1.2->seaborn) (2024.2)\n",
            "Requirement already satisfied: tzdata>=2022.7 in /usr/local/lib/python3.10/dist-packages (from pandas>=1.2->seaborn) (2024.2)\n",
            "Requirement already satisfied: six>=1.5 in /usr/local/lib/python3.10/dist-packages (from python-dateutil>=2.7->matplotlib!=3.6.1,>=3.4->seaborn) (1.16.0)\n"
          ]
        }
      ]
    },
    {
      "cell_type": "markdown",
      "source": [
        "**Random Sentence Selection with Token Highlighting**\n"
      ],
      "metadata": {
        "id": "P7hwto5bQZY5"
      }
    },
    {
      "cell_type": "code",
      "source": [
        "import re\n",
        "from IPython.display import display, HTML\n",
        "\n",
        "# Function to select random sentences and show both original and highlighted versions\n",
        "def select_random_sentences_with_original(df, sentiment_lexicon):\n",
        "    # Filter sentences with length between 5 and 20 tokens\n",
        "    filtered_sentences = df[df['text'].apply(lambda x: 5 <= len(re.findall(r'\\b\\w+\\b', x)) <= 25)]\n",
        "\n",
        "    # Check how many sentences are available after filtering\n",
        "    num_sentences = len(filtered_sentences)\n",
        "\n",
        "    # If there are fewer than 20 sentences, adjust sample size\n",
        "    sample_size = min(num_sentences, 20)\n",
        "\n",
        "    # Select random rows from the filtered DataFrame\n",
        "    random_sentences = filtered_sentences.sample(sample_size)\n",
        "\n",
        "    # Iterate through selected random sentences\n",
        "    for idx, row in random_sentences.iterrows():\n",
        "        original_sentence = row['text']  # The original sentence (unprocessed)\n",
        "        #tokens = re.findall(r'\\b\\w+\\b', original_sentence.lower())\n",
        "        tokens = re.findall(r'\\b\\w+(?:[-_]\\w+)*\\b', original_sentence.lower())\n",
        "        highlighted_sentence = []\n",
        "\n",
        "        # Annotate tokens based on sentiment\n",
        "        for token in tokens:\n",
        "            if token in sentiment_lexicon:\n",
        "                sentiment = sentiment_lexicon[token]['polarity']\n",
        "                # Color the token based on sentiment and make it bold with larger font\n",
        "                if sentiment == 'very-pos':\n",
        "                    highlighted_token = f'<span style=\"color:darkgreen; font-weight:bold; font-size: 1.5em;\">{token}</span>'\n",
        "                elif sentiment == 'pos':\n",
        "                    highlighted_token = f'<span style=\"color:lightgreen; font-weight:bold; font-size: 1.5em;\">{token}</span>'\n",
        "                elif sentiment == 'neg':\n",
        "                    highlighted_token = f'<span style=\"color:lightcoral; font-weight:bold; font-size: 1.5em;\">{token}</span>'\n",
        "                elif sentiment == 'very-neg':\n",
        "                    highlighted_token = f'<span style=\"color:darkred; font-weight:bold; font-size: 1.5em;\">{token}</span>'\n",
        "            else:\n",
        "                highlighted_token = token  # No annotation for words not found in the lexicon\n",
        "            highlighted_sentence.append(highlighted_token)\n",
        "\n",
        "        # Join the processed tokens to form the highlighted sentence\n",
        "        processed_sentence = ' '.join(highlighted_sentence)\n",
        "\n",
        "        # Display both original and highlighted sentences in HTML\n",
        "        display(HTML(f\"<p><strong>Original Sentence:</strong> {original_sentence}</p>\"))  # Output original sentence\n",
        "        display(HTML(f\"<p><strong>Highlighted Sentence:</strong> {processed_sentence}</p>\"))  # Output processed sentence\n",
        "        print(\"-\" * 80)  # Separator for clarity between different sentences\n",
        "\n",
        "# Example Usage\n",
        "select_random_sentences_with_original(df, sentiment_lexicon)"
      ],
      "metadata": {
        "id": "CWwxWYdltef1",
        "colab": {
          "base_uri": "https://localhost:8080/",
          "height": 848
        },
        "outputId": "2fff81f1-75c8-45c6-ebb0-87bb76cac5cf"
      },
      "execution_count": 98,
      "outputs": [
        {
          "output_type": "display_data",
          "data": {
            "text/plain": [
              "<IPython.core.display.HTML object>"
            ],
            "text/html": [
              "<p><strong>Original Sentence:</strong> Över stora delar av Europa drar en ny kraftig coronavåg fram. Vi står mitt i en pandemiexplosion , säger Polens hälsominister Adam Niedzielski.</p>"
            ]
          },
          "metadata": {}
        },
        {
          "output_type": "display_data",
          "data": {
            "text/plain": [
              "<IPython.core.display.HTML object>"
            ],
            "text/html": [
              "<p><strong>Highlighted Sentence:</strong> över stora delar av europa drar en <span style=\"color:lightgreen; font-weight:bold; font-size: 1.5em;\">ny</span> <span style=\"color:lightgreen; font-weight:bold; font-size: 1.5em;\">kraftig</span> coronavåg fram vi står mitt i en <span style=\"color:lightcoral; font-weight:bold; font-size: 1.5em;\">pandemiexplosion</span> säger polens hälsominister adam niedzielski</p>"
            ]
          },
          "metadata": {}
        },
        {
          "output_type": "stream",
          "name": "stdout",
          "text": [
            "--------------------------------------------------------------------------------\n"
          ]
        },
        {
          "output_type": "display_data",
          "data": {
            "text/plain": [
              "<IPython.core.display.HTML object>"
            ],
            "text/html": [
              "<p><strong>Original Sentence:</strong> Nu har de första exemplaren av nytrycket av boken Corona-PLANdemin kommit.</p>"
            ]
          },
          "metadata": {}
        },
        {
          "output_type": "display_data",
          "data": {
            "text/plain": [
              "<IPython.core.display.HTML object>"
            ],
            "text/html": [
              "<p><strong>Highlighted Sentence:</strong> nu har de första exemplaren av nytrycket av boken corona-plandemin kommit</p>"
            ]
          },
          "metadata": {}
        },
        {
          "output_type": "stream",
          "name": "stdout",
          "text": [
            "--------------------------------------------------------------------------------\n"
          ]
        },
        {
          "output_type": "display_data",
          "data": {
            "text/plain": [
              "<IPython.core.display.HTML object>"
            ],
            "text/html": [
              "<p><strong>Original Sentence:</strong> Covid-19-vaccinering. Arkivbild. Ytterligare dödsfall med bekräftad covid_19 har rapporterats i Sverige, meddelar Folkhälsomyndigheten. Sammanlagt har 326 smittade avlidit i landet.</p>"
            ]
          },
          "metadata": {}
        },
        {
          "output_type": "display_data",
          "data": {
            "text/plain": [
              "<IPython.core.display.HTML object>"
            ],
            "text/html": [
              "<p><strong>Highlighted Sentence:</strong> covid-19-vaccinering arkivbild ytterligare <span style=\"color:lightcoral; font-weight:bold; font-size: 1.5em;\">dödsfall</span> med bekräftad <span style=\"color:lightcoral; font-weight:bold; font-size: 1.5em;\">covid_19</span> har rapporterats i sverige meddelar folkhälsomyndigheten sammanlagt har 326 smittade <span style=\"color:lightcoral; font-weight:bold; font-size: 1.5em;\">avlidit</span> i landet</p>"
            ]
          },
          "metadata": {}
        },
        {
          "output_type": "stream",
          "name": "stdout",
          "text": [
            "--------------------------------------------------------------------------------\n"
          ]
        },
        {
          "output_type": "display_data",
          "data": {
            "text/plain": [
              "<IPython.core.display.HTML object>"
            ],
            "text/html": [
              "<p><strong>Original Sentence:</strong> Oro för dödliga följdeffekten av corona Svampinfektion kan drabba tidigare covidsjuka.</p>"
            ]
          },
          "metadata": {}
        },
        {
          "output_type": "display_data",
          "data": {
            "text/plain": [
              "<IPython.core.display.HTML object>"
            ],
            "text/html": [
              "<p><strong>Highlighted Sentence:</strong> oro för <span style=\"color:lightcoral; font-weight:bold; font-size: 1.5em;\">dödliga</span> följdeffekten av corona <span style=\"color:lightcoral; font-weight:bold; font-size: 1.5em;\">svampinfektion</span> kan drabba tidigare covidsjuka</p>"
            ]
          },
          "metadata": {}
        },
        {
          "output_type": "stream",
          "name": "stdout",
          "text": [
            "--------------------------------------------------------------------------------\n"
          ]
        },
        {
          "output_type": "display_data",
          "data": {
            "text/plain": [
              "<IPython.core.display.HTML object>"
            ],
            "text/html": [
              "<p><strong>Original Sentence:</strong> En dödlig pandemi och ett vaccin som inte genast räcker till alla, utan där vissa grupper måste prioriteras.</p>"
            ]
          },
          "metadata": {}
        },
        {
          "output_type": "display_data",
          "data": {
            "text/plain": [
              "<IPython.core.display.HTML object>"
            ],
            "text/html": [
              "<p><strong>Highlighted Sentence:</strong> en <span style=\"color:lightcoral; font-weight:bold; font-size: 1.5em;\">dödlig</span> <span style=\"color:lightcoral; font-weight:bold; font-size: 1.5em;\">pandemi</span> och ett vaccin som <span style=\"color:lightcoral; font-weight:bold; font-size: 1.5em;\">inte</span> genast räcker till alla utan där vissa grupper måste prioriteras</p>"
            ]
          },
          "metadata": {}
        },
        {
          "output_type": "stream",
          "name": "stdout",
          "text": [
            "--------------------------------------------------------------------------------\n"
          ]
        },
        {
          "output_type": "display_data",
          "data": {
            "text/plain": [
              "<IPython.core.display.HTML object>"
            ],
            "text/html": [
              "<p><strong>Original Sentence:</strong> En ovanlig svamp har upptäckts i hjärnan hos covidpatienter i Indien. Svampen orsakar en allvarlig infektion och kan vara livshotande.</p>"
            ]
          },
          "metadata": {}
        },
        {
          "output_type": "display_data",
          "data": {
            "text/plain": [
              "<IPython.core.display.HTML object>"
            ],
            "text/html": [
              "<p><strong>Highlighted Sentence:</strong> en ovanlig svamp har upptäckts i hjärnan hos covidpatienter i indien svampen orsakar en <span style=\"color:darkred; font-weight:bold; font-size: 1.5em;\">allvarlig</span> <span style=\"color:lightcoral; font-weight:bold; font-size: 1.5em;\">infektion</span> och kan <span style=\"color:lightcoral; font-weight:bold; font-size: 1.5em;\">vara</span> <span style=\"color:lightcoral; font-weight:bold; font-size: 1.5em;\">livshotande</span></p>"
            ]
          },
          "metadata": {}
        },
        {
          "output_type": "stream",
          "name": "stdout",
          "text": [
            "--------------------------------------------------------------------------------\n"
          ]
        },
        {
          "output_type": "display_data",
          "data": {
            "text/plain": [
              "<IPython.core.display.HTML object>"
            ],
            "text/html": [
              "<p><strong>Original Sentence:</strong> Ett år har gått sedan det första coronafallet bekräftades i Sverige. Här är en del ögonblick från året som gått.</p>"
            ]
          },
          "metadata": {}
        },
        {
          "output_type": "display_data",
          "data": {
            "text/plain": [
              "<IPython.core.display.HTML object>"
            ],
            "text/html": [
              "<p><strong>Highlighted Sentence:</strong> ett år har gått sedan det första coronafallet bekräftades i sverige här är en del ögonblick från året som gått</p>"
            ]
          },
          "metadata": {}
        },
        {
          "output_type": "stream",
          "name": "stdout",
          "text": [
            "--------------------------------------------------------------------------------\n"
          ]
        },
        {
          "output_type": "display_data",
          "data": {
            "text/plain": [
              "<IPython.core.display.HTML object>"
            ],
            "text/html": [
              "<p><strong>Original Sentence:</strong> URL PCR-bedrägeriet är fastställt i domstol inom EU och myndighetschef & riksåklagaren Petra Lundh är väl känd med dessa fastställande domar.</p>"
            ]
          },
          "metadata": {}
        },
        {
          "output_type": "display_data",
          "data": {
            "text/plain": [
              "<IPython.core.display.HTML object>"
            ],
            "text/html": [
              "<p><strong>Highlighted Sentence:</strong> url pcr-bedrägeriet är fastställt i domstol inom eu och myndighetschef riksåklagaren petra lundh är <span style=\"color:lightgreen; font-weight:bold; font-size: 1.5em;\">väl</span> känd med dessa fastställande domar</p>"
            ]
          },
          "metadata": {}
        },
        {
          "output_type": "stream",
          "name": "stdout",
          "text": [
            "--------------------------------------------------------------------------------\n"
          ]
        },
        {
          "output_type": "display_data",
          "data": {
            "text/plain": [
              "<IPython.core.display.HTML object>"
            ],
            "text/html": [
              "<p><strong>Original Sentence:</strong> Tiotusentals marscherade återigen genom Amsterdam för att protestera mot den nederländska regeringens coronaviruspass i helgen.</p>"
            ]
          },
          "metadata": {}
        },
        {
          "output_type": "display_data",
          "data": {
            "text/plain": [
              "<IPython.core.display.HTML object>"
            ],
            "text/html": [
              "<p><strong>Highlighted Sentence:</strong> tiotusentals marscherade återigen genom amsterdam för att protestera mot den nederländska regeringens coronaviruspass i helgen</p>"
            ]
          },
          "metadata": {}
        },
        {
          "output_type": "stream",
          "name": "stdout",
          "text": [
            "--------------------------------------------------------------------------------\n"
          ]
        },
        {
          "output_type": "display_data",
          "data": {
            "text/plain": [
              "<IPython.core.display.HTML object>"
            ],
            "text/html": [
              "<p><strong>Original Sentence:</strong> Astra_Zenecas vaccin mot covid_19 bör stoppas även för äldre, det säger Marco Cavaleri, vaccinchef på Europeiska läkemedelsmyndigheten (EMA). Källor: URL</p>"
            ]
          },
          "metadata": {}
        },
        {
          "output_type": "display_data",
          "data": {
            "text/plain": [
              "<IPython.core.display.HTML object>"
            ],
            "text/html": [
              "<p><strong>Highlighted Sentence:</strong> astra_zenecas vaccin mot <span style=\"color:lightcoral; font-weight:bold; font-size: 1.5em;\">covid_19</span> bör stoppas även för äldre det säger marco cavaleri vaccinchef på europeiska läkemedelsmyndigheten ema källor url</p>"
            ]
          },
          "metadata": {}
        },
        {
          "output_type": "stream",
          "name": "stdout",
          "text": [
            "--------------------------------------------------------------------------------\n"
          ]
        },
        {
          "output_type": "display_data",
          "data": {
            "text/plain": [
              "<IPython.core.display.HTML object>"
            ],
            "text/html": [
              "<p><strong>Original Sentence:</strong> Sex månader efter den andra_dosen av Pfizer_vaccin hade antikroppsnivån minskat med procent.</p>"
            ]
          },
          "metadata": {}
        },
        {
          "output_type": "display_data",
          "data": {
            "text/plain": [
              "<IPython.core.display.HTML object>"
            ],
            "text/html": [
              "<p><strong>Highlighted Sentence:</strong> sex månader efter den andra_dosen av pfizer_vaccin hade antikroppsnivån minskat med procent</p>"
            ]
          },
          "metadata": {}
        },
        {
          "output_type": "stream",
          "name": "stdout",
          "text": [
            "--------------------------------------------------------------------------------\n"
          ]
        }
      ]
    },
    {
      "cell_type": "code",
      "source": [
        "#todo\n",
        "#increase the lexicon\n",
        "#ratio pos/neg per month (and year)"
      ],
      "metadata": {
        "id": "yULkjqRF9_d8"
      },
      "execution_count": 99,
      "outputs": []
    },
    {
      "cell_type": "code",
      "source": [
        "import pandas as pd\n",
        "import requests\n",
        "from io import StringIO\n",
        "import random\n",
        "from collections import defaultdict\n",
        "\n",
        "# Step 1: Load the CSV file\n",
        "url = \"https://raw.githubusercontent.com/DimitrisKokkinakis/swedish-notebooks/refs/heads/main/textual-resources/sv_CovidCorpus2.csv\"\n",
        "response = requests.get(url).text\n",
        "df = pd.read_csv(StringIO(response), sep=\"\\t\")\n",
        "\n",
        "# Step 2: Load the sentiment lexicon\n",
        "def load_sentiment_lexicon(file_path):\n",
        "    lexicon = {}\n",
        "    with open(file_path, 'r', encoding='utf-8') as file:\n",
        "        for line in file:\n",
        "            token, sentiment, polarity, strength = line.strip().split(',')\n",
        "            lexicon[token] = (sentiment, polarity, float(strength))\n",
        "    return lexicon\n",
        "\n",
        "# Fetch the sentiment lexicon\n",
        "lexicon_url = \"https://raw.githubusercontent.com/DimitrisKokkinakis/swedish-notebooks/refs/heads/main/lexical-resources/sv_sentiment_lexicon.txt\"\n",
        "!curl -L $lexicon_url --output sentiment_lexicon.txt\n",
        "sentiment_lexicon = load_sentiment_lexicon('sentiment_lexicon.txt')\n",
        "print('Swedish sentiment lexicon loaded successfully!')"
      ],
      "metadata": {
        "colab": {
          "base_uri": "https://localhost:8080/"
        },
        "id": "0H3x0CO36O9-",
        "outputId": "8adae709-4050-40ad-b3af-b7aa1960b3fb"
      },
      "execution_count": 100,
      "outputs": [
        {
          "output_type": "stream",
          "name": "stdout",
          "text": [
            "  % Total    % Received % Xferd  Average Speed   Time    Time     Time  Current\n",
            "                                 Dload  Upload   Total   Spent    Left  Speed\n",
            "\r  0     0    0     0    0     0      0      0 --:--:-- --:--:-- --:--:--     0\r100 56580  100 56580    0     0   244k      0 --:--:-- --:--:-- --:--:--  245k\n",
            "Swedish sentiment lexicon loaded successfully!\n"
          ]
        }
      ]
    },
    {
      "cell_type": "code",
      "source": [
        "# Step 3: Annotate the text\n",
        "def annotate_text(text, lexicon):\n",
        "    tokens = text.split()  # Simple tokenization\n",
        "    annotated_tokens = []\n",
        "    very_pos_count = very_neg_count = pos_count = neg_count = neutral_count = 0\n",
        "\n",
        "    for token in tokens:\n",
        "        if token in lexicon:\n",
        "            sentiment, polarity, strength = lexicon[token]\n",
        "            annotated_tokens.append(f\"{token}[{sentiment},{polarity},{strength}]\")\n",
        "            if sentiment == 'pos':\n",
        "                pos_count += 1\n",
        "            elif sentiment == 'neg':\n",
        "                neg_count += 1\n",
        "            elif sentiment == 'very-neg':\n",
        "                very_neg_count += 1\n",
        "            elif sentiment == 'very-pos':\n",
        "                very_pos_count += 1\n",
        "        else:\n",
        "            annotated_tokens.append(token)\n",
        "            neutral_count += 1\n",
        "\n",
        "    # Return all 6 values: annotated text and counts for each sentiment\n",
        "    return ' '.join(annotated_tokens), pos_count, neg_count, very_pos_count, very_neg_count, neutral_count\n",
        "\n",
        "# Apply annotation for the entire DataFrame\n",
        "df['annotated_text'], df['pos_count'], df['neg_count'], df['very_pos_count'], df['very_neg_count'], df['neutral_count'] = zip(*df['text'].apply(lambda x: annotate_text(x, sentiment_lexicon)))\n"
      ],
      "metadata": {
        "id": "WAngq1Zj7ZBL"
      },
      "execution_count": 101,
      "outputs": []
    },
    {
      "cell_type": "code",
      "source": [
        "import pandas as pd\n",
        "import numpy as np\n",
        "\n",
        "# Step 4: Calculate pos/neg ratio per month\n",
        "df['date'] = pd.to_datetime(df['date'])  # Ensure the date column is in datetime format\n",
        "df['year_month'] = df['date'].dt.to_period('M')\n",
        "\n",
        "# Group by year and month and calculate pos/neg ratio\n",
        "sentiment_summary = df.groupby('year_month').agg({\n",
        "    'pos_count': 'sum',\n",
        "    'neg_count': 'sum',\n",
        "    'very_pos_count': 'sum',\n",
        "    'very_neg_count': 'sum'\n",
        "})\n",
        "\n",
        "# Combine counts\n",
        "sentiment_summary['total_pos_count'] = sentiment_summary['pos_count'] + sentiment_summary['very_pos_count']\n",
        "sentiment_summary['total_neg_count'] = sentiment_summary['neg_count'] + sentiment_summary['very_neg_count']\n",
        "\n",
        "# Calculate pos/neg ratio\n",
        "def calculate_pos_neg_ratio(row):\n",
        "    pos = row['total_pos_count']\n",
        "    neg = row['total_neg_count']\n",
        "\n",
        "    # Handle cases where both are zero to avoid division by zero\n",
        "    if pos == 0 and neg == 0:\n",
        "        return np.nan\n",
        "    elif pos == 0:\n",
        "        return f\"-{neg}\"  # If no positives, return negative count\n",
        "    elif neg == 0:\n",
        "        return str(pos)  # If no negatives, return positive count\n",
        "    elif pos > neg:\n",
        "        return f\"{pos / neg:.2f}\"  # Positive ratio\n",
        "    else:\n",
        "        return f\"-{neg / pos:.2f}\"  # Negative ratio\n",
        "\n",
        "# Apply the function to calculate the ratio for each row\n",
        "sentiment_summary['pos_neg_ratio'] = sentiment_summary.apply(calculate_pos_neg_ratio, axis=1)\n",
        "\n",
        "# Output the sentiment summary with the ratio\n",
        "print(sentiment_summary)\n"
      ],
      "metadata": {
        "colab": {
          "base_uri": "https://localhost:8080/"
        },
        "id": "D7dwpLcx7dF-",
        "outputId": "3020acd1-1eb1-4893-e837-0781c3e79109"
      },
      "execution_count": 102,
      "outputs": [
        {
          "output_type": "stream",
          "name": "stdout",
          "text": [
            "            pos_count  neg_count  very_pos_count  very_neg_count  \\\n",
            "year_month                                                         \n",
            "2021-01          1033       1261             119              63   \n",
            "2021-02          1017       1237             118             110   \n",
            "2021-03          1030       1317             145              91   \n",
            "2021-04          1019       1248             120              69   \n",
            "2021-05          1022       1379             135              89   \n",
            "2021-06           812        846             101              44   \n",
            "2021-07           386        495              45              33   \n",
            "2021-08           565        722              82              27   \n",
            "2021-09           764        939             116              41   \n",
            "2021-10           622        733              67              39   \n",
            "2021-11           644        822              96              33   \n",
            "2021-12           731        966             114              36   \n",
            "\n",
            "            total_pos_count  total_neg_count pos_neg_ratio  \n",
            "year_month                                                  \n",
            "2021-01                1152             1324         -1.15  \n",
            "2021-02                1135             1347         -1.19  \n",
            "2021-03                1175             1408         -1.20  \n",
            "2021-04                1139             1317         -1.16  \n",
            "2021-05                1157             1468         -1.27  \n",
            "2021-06                 913              890          1.03  \n",
            "2021-07                 431              528         -1.23  \n",
            "2021-08                 647              749         -1.16  \n",
            "2021-09                 880              980         -1.11  \n",
            "2021-10                 689              772         -1.12  \n",
            "2021-11                 740              855         -1.16  \n",
            "2021-12                 845             1002         -1.19  \n"
          ]
        }
      ]
    },
    {
      "cell_type": "code",
      "source": [
        "# Function to color the sentiment tokens\n",
        "def color_sentiment(tokens, lexicon):\n",
        "    colored_text = []\n",
        "\n",
        "    for token in tokens:\n",
        "        # Check if the token is in the sentiment lexicon\n",
        "        if token in lexicon:\n",
        "            sentiment, polarity, strength = lexicon[token]\n",
        "            if sentiment == 'pos':\n",
        "                colored_text.append(f\"\\033[92m{token}\\033[0m\")  # Green for positive\n",
        "            elif sentiment == 'very-pos':\n",
        "                colored_text.append(f\"\\033[1;92m{token}\\033[0m\")  # Bright green for very positive\n",
        "            elif sentiment == 'neg':\n",
        "                colored_text.append(f\"\\033[91m{token}\\033[0m\")  # Red for negative\n",
        "            elif sentiment == 'very-neg':\n",
        "                colored_text.append(f\"\\033[1;91m{token}\\033[0m\")  # Bright red for very negative\n",
        "            else:\n",
        "                colored_text.append(token)  # No color for neutral or unknown sentiment\n",
        "        else:\n",
        "            colored_text.append(token)  # If token not in lexicon, add without color\n",
        "\n",
        "    return ' '.join(colored_text)"
      ],
      "metadata": {
        "id": "Xe6C3eNsU_Tl"
      },
      "execution_count": 103,
      "outputs": []
    },
    {
      "cell_type": "code",
      "source": [
        "# Select random sentences between 5 and 25 tokens\n",
        "valid_sentences = df[df['text'].apply(lambda x: 5 <= len(x.split()) <= 25)]\n",
        "\n",
        "# Check the number of valid sentences\n",
        "num_valid_sentences = len(valid_sentences)\n",
        "\n",
        "# Sample a maximum of num_valid_sentences\n",
        "sampled_sentences = valid_sentences['text'].sample(min(num_valid_sentences, 20)).tolist()\n",
        "\n",
        "# Color the sampled sentences\n",
        "for sentence in sampled_sentences:\n",
        "    # Tokenize the sentence into words (tokens)\n",
        "    tokens = sentence.split()\n",
        "\n",
        "    # Call the color_sentiment function with tokenized words and print the colored sentence\n",
        "    print(color_sentiment(tokens, sentiment_lexicon))"
      ],
      "metadata": {
        "colab": {
          "base_uri": "https://localhost:8080/"
        },
        "id": "XLsB8pF27mFD",
        "outputId": "9fc30730-0d66-4e11-cc97-2121903684ca"
      },
      "execution_count": 104,
      "outputs": [
        {
          "output_type": "stream",
          "name": "stdout",
          "text": [
            "Ett år har gått sedan det första coronafallet bekräftades i Sverige. Här är en del ögonblick från året som gått.\n",
            "Astra_Zenecas vaccin mot \u001b[91mcovid_19\u001b[0m bör stoppas även för äldre, det säger Marco Cavaleri, vaccinchef på Europeiska läkemedelsmyndigheten (EMA). Källor: URL\n",
            "Magnus Gisslén Minnes- och koncentrationssvårigheter är vanliga flera månader efter en \u001b[1;91msvår\u001b[0m covid-19-infektion. Det visar en \u001b[92mny\u001b[0m \u001b[92mstor\u001b[0m amerikansk studie som har följt_upp patienter.\n",
            "En \u001b[91mdödlig\u001b[0m \u001b[91mpandemi\u001b[0m och ett vaccin som \u001b[91minte\u001b[0m genast räcker till alla, utan där vissa grupper måste prioriteras.\n",
            "Tiotusentals marscherade återigen genom Amsterdam för att protestera mot den nederländska regeringens coronaviruspass i helgen.\n",
            "URL PCR-bedrägeriet är fastställt i domstol inom EU och myndighetschef & riksåklagaren Petra Lundh är \u001b[92mväl\u001b[0m känd med dessa fastställande domar.\n",
            "Över stora delar av Europa drar en \u001b[92mny\u001b[0m \u001b[92mkraftig\u001b[0m coronavåg fram. Vi står mitt i en \u001b[91mpandemiexplosion\u001b[0m , säger Polens hälsominister Adam Niedzielski.\n",
            "Sex månader efter den andra_dosen av Pfizer_vaccin hade antikroppsnivån minskat med procent.\n",
            "En ovanlig svamp har upptäckts i hjärnan hos covidpatienter i Indien. Svampen orsakar en \u001b[1;91mallvarlig\u001b[0m \u001b[91minfektion\u001b[0m och kan \u001b[91mvara\u001b[0m livshotande.\n",
            "Covid-19-vaccinering. Arkivbild. Ytterligare \u001b[91mdödsfall\u001b[0m med bekräftad \u001b[91mcovid_19\u001b[0m har rapporterats i Sverige, meddelar Folkhälsomyndigheten. Sammanlagt har 326 smittade \u001b[91mavlidit\u001b[0m i landet.\n",
            "Oro för \u001b[91mdödliga\u001b[0m följdeffekten av corona Svampinfektion kan drabba tidigare covidsjuka.\n",
            "Nu har de första exemplaren av nytrycket av boken Corona-PLANdemin kommit.\n"
          ]
        }
      ]
    },
    {
      "cell_type": "code",
      "source": [
        "valid_sentences"
      ],
      "metadata": {
        "colab": {
          "base_uri": "https://localhost:8080/",
          "height": 426
        },
        "id": "XoGU4KbuExWG",
        "outputId": "34c3989b-3380-4634-cfb6-77fc6d7632dd"
      },
      "execution_count": 105,
      "outputs": [
        {
          "output_type": "execute_result",
          "data": {
            "text/plain": [
              "        id       date  genre  \\\n",
              "261    262 2021-01-31   NEWS   \n",
              "265    266 2021-01-31  PBLMD   \n",
              "379    380 2021-02-10   NEWS   \n",
              "1247  1248 2021-05-12   NEWS   \n",
              "1542  1543 2021-06-13  PRDCL   \n",
              "1587  1588 2021-06-19   NEWS   \n",
              "2159  2160 2021-09-28  PBLMD   \n",
              "2213  2214 2021-10-06   NEWS   \n",
              "2269  2270 2021-10-20   NEWS   \n",
              "2279  2280 2021-10-22   NEWS   \n",
              "2413  2414 2021-11-19   BLOG   \n",
              "2631  2632 2021-12-16  PRDCL   \n",
              "\n",
              "                                                   text  \\\n",
              "261   En dödlig pandemi och ett vaccin som inte gena...   \n",
              "265   Ett år har gått sedan det första coronafallet ...   \n",
              "379   Covid-19-vaccinering. Arkivbild. Ytterligare d...   \n",
              "1247  En ovanlig svamp har upptäckts i hjärnan hos c...   \n",
              "1542  Astra_Zenecas vaccin mot covid_19 bör stoppas ...   \n",
              "1587  Oro för dödliga följdeffekten av corona Svampi...   \n",
              "2159  Sex månader efter den andra_dosen av Pfizer_va...   \n",
              "2213  Tiotusentals marscherade återigen genom Amster...   \n",
              "2269  Över stora delar av Europa drar en ny kraftig ...   \n",
              "2279  Magnus Gisslén Minnes- och koncentrationssvåri...   \n",
              "2413  URL PCR-bedrägeriet är fastställt i domstol in...   \n",
              "2631  Nu har de första exemplaren av nytrycket av bo...   \n",
              "\n",
              "                                         annotated_text  pos_count  neg_count  \\\n",
              "261   En dödlig[neg,-2,0.5] pandemi[neg,-2,0.5] och ...          0          3   \n",
              "265   Ett år har gått sedan det första coronafallet ...          0          0   \n",
              "379   Covid-19-vaccinering. Arkivbild. Ytterligare d...          0          3   \n",
              "1247  En ovanlig svamp har upptäckts i hjärnan hos c...          0          2   \n",
              "1542  Astra_Zenecas vaccin mot covid_19[neg,-2,0.5] ...          0          1   \n",
              "1587  Oro för dödliga[neg,-2,0.5] följdeffekten av c...          0          1   \n",
              "2159  Sex månader efter den andra_dosen av Pfizer_va...          0          0   \n",
              "2213  Tiotusentals marscherade återigen genom Amster...          0          0   \n",
              "2269  Över stora delar av Europa drar en ny[pos,2,0....          2          1   \n",
              "2279  Magnus Gisslén Minnes- och koncentrationssvåri...          2          0   \n",
              "2413  URL PCR-bedrägeriet är fastställt i domstol in...          1          0   \n",
              "2631  Nu har de första exemplaren av nytrycket av bo...          0          0   \n",
              "\n",
              "      very_pos_count  very_neg_count  neutral_count year_month  \n",
              "261                0               0             15    2021-01  \n",
              "265                0               0             20    2021-01  \n",
              "379                0               0             17    2021-02  \n",
              "1247               0               1             17    2021-05  \n",
              "1542               0               0             19    2021-06  \n",
              "1587               0               0             10    2021-06  \n",
              "2159               0               0             12    2021-09  \n",
              "2213               0               0             15    2021-10  \n",
              "2269               0               0             20    2021-10  \n",
              "2279               0               1             21    2021-10  \n",
              "2413               0               0             20    2021-11  \n",
              "2631               0               0             11    2021-12  "
            ],
            "text/html": [
              "\n",
              "  <div id=\"df-112cc08e-b7ae-4ff9-987f-863f1b47e946\" class=\"colab-df-container\">\n",
              "    <div>\n",
              "<style scoped>\n",
              "    .dataframe tbody tr th:only-of-type {\n",
              "        vertical-align: middle;\n",
              "    }\n",
              "\n",
              "    .dataframe tbody tr th {\n",
              "        vertical-align: top;\n",
              "    }\n",
              "\n",
              "    .dataframe thead th {\n",
              "        text-align: right;\n",
              "    }\n",
              "</style>\n",
              "<table border=\"1\" class=\"dataframe\">\n",
              "  <thead>\n",
              "    <tr style=\"text-align: right;\">\n",
              "      <th></th>\n",
              "      <th>id</th>\n",
              "      <th>date</th>\n",
              "      <th>genre</th>\n",
              "      <th>text</th>\n",
              "      <th>annotated_text</th>\n",
              "      <th>pos_count</th>\n",
              "      <th>neg_count</th>\n",
              "      <th>very_pos_count</th>\n",
              "      <th>very_neg_count</th>\n",
              "      <th>neutral_count</th>\n",
              "      <th>year_month</th>\n",
              "    </tr>\n",
              "  </thead>\n",
              "  <tbody>\n",
              "    <tr>\n",
              "      <th>261</th>\n",
              "      <td>262</td>\n",
              "      <td>2021-01-31</td>\n",
              "      <td>NEWS</td>\n",
              "      <td>En dödlig pandemi och ett vaccin som inte gena...</td>\n",
              "      <td>En dödlig[neg,-2,0.5] pandemi[neg,-2,0.5] och ...</td>\n",
              "      <td>0</td>\n",
              "      <td>3</td>\n",
              "      <td>0</td>\n",
              "      <td>0</td>\n",
              "      <td>15</td>\n",
              "      <td>2021-01</td>\n",
              "    </tr>\n",
              "    <tr>\n",
              "      <th>265</th>\n",
              "      <td>266</td>\n",
              "      <td>2021-01-31</td>\n",
              "      <td>PBLMD</td>\n",
              "      <td>Ett år har gått sedan det första coronafallet ...</td>\n",
              "      <td>Ett år har gått sedan det första coronafallet ...</td>\n",
              "      <td>0</td>\n",
              "      <td>0</td>\n",
              "      <td>0</td>\n",
              "      <td>0</td>\n",
              "      <td>20</td>\n",
              "      <td>2021-01</td>\n",
              "    </tr>\n",
              "    <tr>\n",
              "      <th>379</th>\n",
              "      <td>380</td>\n",
              "      <td>2021-02-10</td>\n",
              "      <td>NEWS</td>\n",
              "      <td>Covid-19-vaccinering. Arkivbild. Ytterligare d...</td>\n",
              "      <td>Covid-19-vaccinering. Arkivbild. Ytterligare d...</td>\n",
              "      <td>0</td>\n",
              "      <td>3</td>\n",
              "      <td>0</td>\n",
              "      <td>0</td>\n",
              "      <td>17</td>\n",
              "      <td>2021-02</td>\n",
              "    </tr>\n",
              "    <tr>\n",
              "      <th>1247</th>\n",
              "      <td>1248</td>\n",
              "      <td>2021-05-12</td>\n",
              "      <td>NEWS</td>\n",
              "      <td>En ovanlig svamp har upptäckts i hjärnan hos c...</td>\n",
              "      <td>En ovanlig svamp har upptäckts i hjärnan hos c...</td>\n",
              "      <td>0</td>\n",
              "      <td>2</td>\n",
              "      <td>0</td>\n",
              "      <td>1</td>\n",
              "      <td>17</td>\n",
              "      <td>2021-05</td>\n",
              "    </tr>\n",
              "    <tr>\n",
              "      <th>1542</th>\n",
              "      <td>1543</td>\n",
              "      <td>2021-06-13</td>\n",
              "      <td>PRDCL</td>\n",
              "      <td>Astra_Zenecas vaccin mot covid_19 bör stoppas ...</td>\n",
              "      <td>Astra_Zenecas vaccin mot covid_19[neg,-2,0.5] ...</td>\n",
              "      <td>0</td>\n",
              "      <td>1</td>\n",
              "      <td>0</td>\n",
              "      <td>0</td>\n",
              "      <td>19</td>\n",
              "      <td>2021-06</td>\n",
              "    </tr>\n",
              "    <tr>\n",
              "      <th>1587</th>\n",
              "      <td>1588</td>\n",
              "      <td>2021-06-19</td>\n",
              "      <td>NEWS</td>\n",
              "      <td>Oro för dödliga följdeffekten av corona Svampi...</td>\n",
              "      <td>Oro för dödliga[neg,-2,0.5] följdeffekten av c...</td>\n",
              "      <td>0</td>\n",
              "      <td>1</td>\n",
              "      <td>0</td>\n",
              "      <td>0</td>\n",
              "      <td>10</td>\n",
              "      <td>2021-06</td>\n",
              "    </tr>\n",
              "    <tr>\n",
              "      <th>2159</th>\n",
              "      <td>2160</td>\n",
              "      <td>2021-09-28</td>\n",
              "      <td>PBLMD</td>\n",
              "      <td>Sex månader efter den andra_dosen av Pfizer_va...</td>\n",
              "      <td>Sex månader efter den andra_dosen av Pfizer_va...</td>\n",
              "      <td>0</td>\n",
              "      <td>0</td>\n",
              "      <td>0</td>\n",
              "      <td>0</td>\n",
              "      <td>12</td>\n",
              "      <td>2021-09</td>\n",
              "    </tr>\n",
              "    <tr>\n",
              "      <th>2213</th>\n",
              "      <td>2214</td>\n",
              "      <td>2021-10-06</td>\n",
              "      <td>NEWS</td>\n",
              "      <td>Tiotusentals marscherade återigen genom Amster...</td>\n",
              "      <td>Tiotusentals marscherade återigen genom Amster...</td>\n",
              "      <td>0</td>\n",
              "      <td>0</td>\n",
              "      <td>0</td>\n",
              "      <td>0</td>\n",
              "      <td>15</td>\n",
              "      <td>2021-10</td>\n",
              "    </tr>\n",
              "    <tr>\n",
              "      <th>2269</th>\n",
              "      <td>2270</td>\n",
              "      <td>2021-10-20</td>\n",
              "      <td>NEWS</td>\n",
              "      <td>Över stora delar av Europa drar en ny kraftig ...</td>\n",
              "      <td>Över stora delar av Europa drar en ny[pos,2,0....</td>\n",
              "      <td>2</td>\n",
              "      <td>1</td>\n",
              "      <td>0</td>\n",
              "      <td>0</td>\n",
              "      <td>20</td>\n",
              "      <td>2021-10</td>\n",
              "    </tr>\n",
              "    <tr>\n",
              "      <th>2279</th>\n",
              "      <td>2280</td>\n",
              "      <td>2021-10-22</td>\n",
              "      <td>NEWS</td>\n",
              "      <td>Magnus Gisslén Minnes- och koncentrationssvåri...</td>\n",
              "      <td>Magnus Gisslén Minnes- och koncentrationssvåri...</td>\n",
              "      <td>2</td>\n",
              "      <td>0</td>\n",
              "      <td>0</td>\n",
              "      <td>1</td>\n",
              "      <td>21</td>\n",
              "      <td>2021-10</td>\n",
              "    </tr>\n",
              "    <tr>\n",
              "      <th>2413</th>\n",
              "      <td>2414</td>\n",
              "      <td>2021-11-19</td>\n",
              "      <td>BLOG</td>\n",
              "      <td>URL PCR-bedrägeriet är fastställt i domstol in...</td>\n",
              "      <td>URL PCR-bedrägeriet är fastställt i domstol in...</td>\n",
              "      <td>1</td>\n",
              "      <td>0</td>\n",
              "      <td>0</td>\n",
              "      <td>0</td>\n",
              "      <td>20</td>\n",
              "      <td>2021-11</td>\n",
              "    </tr>\n",
              "    <tr>\n",
              "      <th>2631</th>\n",
              "      <td>2632</td>\n",
              "      <td>2021-12-16</td>\n",
              "      <td>PRDCL</td>\n",
              "      <td>Nu har de första exemplaren av nytrycket av bo...</td>\n",
              "      <td>Nu har de första exemplaren av nytrycket av bo...</td>\n",
              "      <td>0</td>\n",
              "      <td>0</td>\n",
              "      <td>0</td>\n",
              "      <td>0</td>\n",
              "      <td>11</td>\n",
              "      <td>2021-12</td>\n",
              "    </tr>\n",
              "  </tbody>\n",
              "</table>\n",
              "</div>\n",
              "    <div class=\"colab-df-buttons\">\n",
              "\n",
              "  <div class=\"colab-df-container\">\n",
              "    <button class=\"colab-df-convert\" onclick=\"convertToInteractive('df-112cc08e-b7ae-4ff9-987f-863f1b47e946')\"\n",
              "            title=\"Convert this dataframe to an interactive table.\"\n",
              "            style=\"display:none;\">\n",
              "\n",
              "  <svg xmlns=\"http://www.w3.org/2000/svg\" height=\"24px\" viewBox=\"0 -960 960 960\">\n",
              "    <path d=\"M120-120v-720h720v720H120Zm60-500h600v-160H180v160Zm220 220h160v-160H400v160Zm0 220h160v-160H400v160ZM180-400h160v-160H180v160Zm440 0h160v-160H620v160ZM180-180h160v-160H180v160Zm440 0h160v-160H620v160Z\"/>\n",
              "  </svg>\n",
              "    </button>\n",
              "\n",
              "  <style>\n",
              "    .colab-df-container {\n",
              "      display:flex;\n",
              "      gap: 12px;\n",
              "    }\n",
              "\n",
              "    .colab-df-convert {\n",
              "      background-color: #E8F0FE;\n",
              "      border: none;\n",
              "      border-radius: 50%;\n",
              "      cursor: pointer;\n",
              "      display: none;\n",
              "      fill: #1967D2;\n",
              "      height: 32px;\n",
              "      padding: 0 0 0 0;\n",
              "      width: 32px;\n",
              "    }\n",
              "\n",
              "    .colab-df-convert:hover {\n",
              "      background-color: #E2EBFA;\n",
              "      box-shadow: 0px 1px 2px rgba(60, 64, 67, 0.3), 0px 1px 3px 1px rgba(60, 64, 67, 0.15);\n",
              "      fill: #174EA6;\n",
              "    }\n",
              "\n",
              "    .colab-df-buttons div {\n",
              "      margin-bottom: 4px;\n",
              "    }\n",
              "\n",
              "    [theme=dark] .colab-df-convert {\n",
              "      background-color: #3B4455;\n",
              "      fill: #D2E3FC;\n",
              "    }\n",
              "\n",
              "    [theme=dark] .colab-df-convert:hover {\n",
              "      background-color: #434B5C;\n",
              "      box-shadow: 0px 1px 3px 1px rgba(0, 0, 0, 0.15);\n",
              "      filter: drop-shadow(0px 1px 2px rgba(0, 0, 0, 0.3));\n",
              "      fill: #FFFFFF;\n",
              "    }\n",
              "  </style>\n",
              "\n",
              "    <script>\n",
              "      const buttonEl =\n",
              "        document.querySelector('#df-112cc08e-b7ae-4ff9-987f-863f1b47e946 button.colab-df-convert');\n",
              "      buttonEl.style.display =\n",
              "        google.colab.kernel.accessAllowed ? 'block' : 'none';\n",
              "\n",
              "      async function convertToInteractive(key) {\n",
              "        const element = document.querySelector('#df-112cc08e-b7ae-4ff9-987f-863f1b47e946');\n",
              "        const dataTable =\n",
              "          await google.colab.kernel.invokeFunction('convertToInteractive',\n",
              "                                                    [key], {});\n",
              "        if (!dataTable) return;\n",
              "\n",
              "        const docLinkHtml = 'Like what you see? Visit the ' +\n",
              "          '<a target=\"_blank\" href=https://colab.research.google.com/notebooks/data_table.ipynb>data table notebook</a>'\n",
              "          + ' to learn more about interactive tables.';\n",
              "        element.innerHTML = '';\n",
              "        dataTable['output_type'] = 'display_data';\n",
              "        await google.colab.output.renderOutput(dataTable, element);\n",
              "        const docLink = document.createElement('div');\n",
              "        docLink.innerHTML = docLinkHtml;\n",
              "        element.appendChild(docLink);\n",
              "      }\n",
              "    </script>\n",
              "  </div>\n",
              "\n",
              "\n",
              "<div id=\"df-e8efbc58-19a7-43a2-b7e5-c51a04b097b6\">\n",
              "  <button class=\"colab-df-quickchart\" onclick=\"quickchart('df-e8efbc58-19a7-43a2-b7e5-c51a04b097b6')\"\n",
              "            title=\"Suggest charts\"\n",
              "            style=\"display:none;\">\n",
              "\n",
              "<svg xmlns=\"http://www.w3.org/2000/svg\" height=\"24px\"viewBox=\"0 0 24 24\"\n",
              "     width=\"24px\">\n",
              "    <g>\n",
              "        <path d=\"M19 3H5c-1.1 0-2 .9-2 2v14c0 1.1.9 2 2 2h14c1.1 0 2-.9 2-2V5c0-1.1-.9-2-2-2zM9 17H7v-7h2v7zm4 0h-2V7h2v10zm4 0h-2v-4h2v4z\"/>\n",
              "    </g>\n",
              "</svg>\n",
              "  </button>\n",
              "\n",
              "<style>\n",
              "  .colab-df-quickchart {\n",
              "      --bg-color: #E8F0FE;\n",
              "      --fill-color: #1967D2;\n",
              "      --hover-bg-color: #E2EBFA;\n",
              "      --hover-fill-color: #174EA6;\n",
              "      --disabled-fill-color: #AAA;\n",
              "      --disabled-bg-color: #DDD;\n",
              "  }\n",
              "\n",
              "  [theme=dark] .colab-df-quickchart {\n",
              "      --bg-color: #3B4455;\n",
              "      --fill-color: #D2E3FC;\n",
              "      --hover-bg-color: #434B5C;\n",
              "      --hover-fill-color: #FFFFFF;\n",
              "      --disabled-bg-color: #3B4455;\n",
              "      --disabled-fill-color: #666;\n",
              "  }\n",
              "\n",
              "  .colab-df-quickchart {\n",
              "    background-color: var(--bg-color);\n",
              "    border: none;\n",
              "    border-radius: 50%;\n",
              "    cursor: pointer;\n",
              "    display: none;\n",
              "    fill: var(--fill-color);\n",
              "    height: 32px;\n",
              "    padding: 0;\n",
              "    width: 32px;\n",
              "  }\n",
              "\n",
              "  .colab-df-quickchart:hover {\n",
              "    background-color: var(--hover-bg-color);\n",
              "    box-shadow: 0 1px 2px rgba(60, 64, 67, 0.3), 0 1px 3px 1px rgba(60, 64, 67, 0.15);\n",
              "    fill: var(--button-hover-fill-color);\n",
              "  }\n",
              "\n",
              "  .colab-df-quickchart-complete:disabled,\n",
              "  .colab-df-quickchart-complete:disabled:hover {\n",
              "    background-color: var(--disabled-bg-color);\n",
              "    fill: var(--disabled-fill-color);\n",
              "    box-shadow: none;\n",
              "  }\n",
              "\n",
              "  .colab-df-spinner {\n",
              "    border: 2px solid var(--fill-color);\n",
              "    border-color: transparent;\n",
              "    border-bottom-color: var(--fill-color);\n",
              "    animation:\n",
              "      spin 1s steps(1) infinite;\n",
              "  }\n",
              "\n",
              "  @keyframes spin {\n",
              "    0% {\n",
              "      border-color: transparent;\n",
              "      border-bottom-color: var(--fill-color);\n",
              "      border-left-color: var(--fill-color);\n",
              "    }\n",
              "    20% {\n",
              "      border-color: transparent;\n",
              "      border-left-color: var(--fill-color);\n",
              "      border-top-color: var(--fill-color);\n",
              "    }\n",
              "    30% {\n",
              "      border-color: transparent;\n",
              "      border-left-color: var(--fill-color);\n",
              "      border-top-color: var(--fill-color);\n",
              "      border-right-color: var(--fill-color);\n",
              "    }\n",
              "    40% {\n",
              "      border-color: transparent;\n",
              "      border-right-color: var(--fill-color);\n",
              "      border-top-color: var(--fill-color);\n",
              "    }\n",
              "    60% {\n",
              "      border-color: transparent;\n",
              "      border-right-color: var(--fill-color);\n",
              "    }\n",
              "    80% {\n",
              "      border-color: transparent;\n",
              "      border-right-color: var(--fill-color);\n",
              "      border-bottom-color: var(--fill-color);\n",
              "    }\n",
              "    90% {\n",
              "      border-color: transparent;\n",
              "      border-bottom-color: var(--fill-color);\n",
              "    }\n",
              "  }\n",
              "</style>\n",
              "\n",
              "  <script>\n",
              "    async function quickchart(key) {\n",
              "      const quickchartButtonEl =\n",
              "        document.querySelector('#' + key + ' button');\n",
              "      quickchartButtonEl.disabled = true;  // To prevent multiple clicks.\n",
              "      quickchartButtonEl.classList.add('colab-df-spinner');\n",
              "      try {\n",
              "        const charts = await google.colab.kernel.invokeFunction(\n",
              "            'suggestCharts', [key], {});\n",
              "      } catch (error) {\n",
              "        console.error('Error during call to suggestCharts:', error);\n",
              "      }\n",
              "      quickchartButtonEl.classList.remove('colab-df-spinner');\n",
              "      quickchartButtonEl.classList.add('colab-df-quickchart-complete');\n",
              "    }\n",
              "    (() => {\n",
              "      let quickchartButtonEl =\n",
              "        document.querySelector('#df-e8efbc58-19a7-43a2-b7e5-c51a04b097b6 button');\n",
              "      quickchartButtonEl.style.display =\n",
              "        google.colab.kernel.accessAllowed ? 'block' : 'none';\n",
              "    })();\n",
              "  </script>\n",
              "</div>\n",
              "\n",
              "  <div id=\"id_92d07a06-6c87-4775-9728-843edb17b61d\">\n",
              "    <style>\n",
              "      .colab-df-generate {\n",
              "        background-color: #E8F0FE;\n",
              "        border: none;\n",
              "        border-radius: 50%;\n",
              "        cursor: pointer;\n",
              "        display: none;\n",
              "        fill: #1967D2;\n",
              "        height: 32px;\n",
              "        padding: 0 0 0 0;\n",
              "        width: 32px;\n",
              "      }\n",
              "\n",
              "      .colab-df-generate:hover {\n",
              "        background-color: #E2EBFA;\n",
              "        box-shadow: 0px 1px 2px rgba(60, 64, 67, 0.3), 0px 1px 3px 1px rgba(60, 64, 67, 0.15);\n",
              "        fill: #174EA6;\n",
              "      }\n",
              "\n",
              "      [theme=dark] .colab-df-generate {\n",
              "        background-color: #3B4455;\n",
              "        fill: #D2E3FC;\n",
              "      }\n",
              "\n",
              "      [theme=dark] .colab-df-generate:hover {\n",
              "        background-color: #434B5C;\n",
              "        box-shadow: 0px 1px 3px 1px rgba(0, 0, 0, 0.15);\n",
              "        filter: drop-shadow(0px 1px 2px rgba(0, 0, 0, 0.3));\n",
              "        fill: #FFFFFF;\n",
              "      }\n",
              "    </style>\n",
              "    <button class=\"colab-df-generate\" onclick=\"generateWithVariable('valid_sentences')\"\n",
              "            title=\"Generate code using this dataframe.\"\n",
              "            style=\"display:none;\">\n",
              "\n",
              "  <svg xmlns=\"http://www.w3.org/2000/svg\" height=\"24px\"viewBox=\"0 0 24 24\"\n",
              "       width=\"24px\">\n",
              "    <path d=\"M7,19H8.4L18.45,9,17,7.55,7,17.6ZM5,21V16.75L18.45,3.32a2,2,0,0,1,2.83,0l1.4,1.43a1.91,1.91,0,0,1,.58,1.4,1.91,1.91,0,0,1-.58,1.4L9.25,21ZM18.45,9,17,7.55Zm-12,3A5.31,5.31,0,0,0,4.9,8.1,5.31,5.31,0,0,0,1,6.5,5.31,5.31,0,0,0,4.9,4.9,5.31,5.31,0,0,0,6.5,1,5.31,5.31,0,0,0,8.1,4.9,5.31,5.31,0,0,0,12,6.5,5.46,5.46,0,0,0,6.5,12Z\"/>\n",
              "  </svg>\n",
              "    </button>\n",
              "    <script>\n",
              "      (() => {\n",
              "      const buttonEl =\n",
              "        document.querySelector('#id_92d07a06-6c87-4775-9728-843edb17b61d button.colab-df-generate');\n",
              "      buttonEl.style.display =\n",
              "        google.colab.kernel.accessAllowed ? 'block' : 'none';\n",
              "\n",
              "      buttonEl.onclick = () => {\n",
              "        google.colab.notebook.generateWithVariable('valid_sentences');\n",
              "      }\n",
              "      })();\n",
              "    </script>\n",
              "  </div>\n",
              "\n",
              "    </div>\n",
              "  </div>\n"
            ],
            "application/vnd.google.colaboratory.intrinsic+json": {
              "type": "dataframe",
              "variable_name": "valid_sentences",
              "summary": "{\n  \"name\": \"valid_sentences\",\n  \"rows\": 12,\n  \"fields\": [\n    {\n      \"column\": \"id\",\n      \"properties\": {\n        \"dtype\": \"number\",\n        \"std\": 879,\n        \"min\": 262,\n        \"max\": 2632,\n        \"num_unique_values\": 12,\n        \"samples\": [\n          2414,\n          2280,\n          262\n        ],\n        \"semantic_type\": \"\",\n        \"description\": \"\"\n      }\n    },\n    {\n      \"column\": \"date\",\n      \"properties\": {\n        \"dtype\": \"date\",\n        \"min\": \"2021-01-31 00:00:00\",\n        \"max\": \"2021-12-16 00:00:00\",\n        \"num_unique_values\": 11,\n        \"samples\": [\n          \"2021-09-28 00:00:00\",\n          \"2021-01-31 00:00:00\",\n          \"2021-11-19 00:00:00\"\n        ],\n        \"semantic_type\": \"\",\n        \"description\": \"\"\n      }\n    },\n    {\n      \"column\": \"genre\",\n      \"properties\": {\n        \"dtype\": \"category\",\n        \"num_unique_values\": 4,\n        \"samples\": [\n          \"PBLMD\",\n          \"BLOG\",\n          \"NEWS\"\n        ],\n        \"semantic_type\": \"\",\n        \"description\": \"\"\n      }\n    },\n    {\n      \"column\": \"text\",\n      \"properties\": {\n        \"dtype\": \"string\",\n        \"num_unique_values\": 12,\n        \"samples\": [\n          \"URL PCR-bedr\\u00e4geriet \\u00e4r fastst\\u00e4llt i domstol inom EU och myndighetschef & riks\\u00e5klagaren Petra Lundh \\u00e4r v\\u00e4l k\\u00e4nd med dessa fastst\\u00e4llande domar.\",\n          \"Magnus Gissl\\u00e9n Minnes- och koncentrationssv\\u00e5righeter \\u00e4r vanliga flera m\\u00e5nader efter en sv\\u00e5r covid-19-infektion. Det visar en ny stor amerikansk studie som har f\\u00f6ljt_upp patienter.\",\n          \"En d\\u00f6dlig pandemi och ett vaccin som inte genast r\\u00e4cker till alla, utan d\\u00e4r vissa grupper m\\u00e5ste prioriteras.\"\n        ],\n        \"semantic_type\": \"\",\n        \"description\": \"\"\n      }\n    },\n    {\n      \"column\": \"annotated_text\",\n      \"properties\": {\n        \"dtype\": \"string\",\n        \"num_unique_values\": 12,\n        \"samples\": [\n          \"URL PCR-bedr\\u00e4geriet \\u00e4r fastst\\u00e4llt i domstol inom EU och myndighetschef & riks\\u00e5klagaren Petra Lundh \\u00e4r v\\u00e4l[pos,2,1.0] k\\u00e4nd med dessa fastst\\u00e4llande domar.\",\n          \"Magnus Gissl\\u00e9n Minnes- och koncentrationssv\\u00e5righeter \\u00e4r vanliga flera m\\u00e5nader efter en sv\\u00e5r[very-neg,-2,0.75] covid-19-infektion. Det visar en ny[pos,2,0.25] stor[pos,2,0.25] amerikansk studie som har f\\u00f6ljt_upp patienter.\",\n          \"En d\\u00f6dlig[neg,-2,0.5] pandemi[neg,-2,0.5] och ett vaccin som inte[neg,-2,0.25] genast r\\u00e4cker till alla, utan d\\u00e4r vissa grupper m\\u00e5ste prioriteras.\"\n        ],\n        \"semantic_type\": \"\",\n        \"description\": \"\"\n      }\n    },\n    {\n      \"column\": \"pos_count\",\n      \"properties\": {\n        \"dtype\": \"number\",\n        \"std\": 0,\n        \"min\": 0,\n        \"max\": 2,\n        \"num_unique_values\": 3,\n        \"samples\": [\n          0,\n          2,\n          1\n        ],\n        \"semantic_type\": \"\",\n        \"description\": \"\"\n      }\n    },\n    {\n      \"column\": \"neg_count\",\n      \"properties\": {\n        \"dtype\": \"number\",\n        \"std\": 1,\n        \"min\": 0,\n        \"max\": 3,\n        \"num_unique_values\": 4,\n        \"samples\": [\n          0,\n          1,\n          3\n        ],\n        \"semantic_type\": \"\",\n        \"description\": \"\"\n      }\n    },\n    {\n      \"column\": \"very_pos_count\",\n      \"properties\": {\n        \"dtype\": \"number\",\n        \"std\": 0,\n        \"min\": 0,\n        \"max\": 0,\n        \"num_unique_values\": 1,\n        \"samples\": [\n          0\n        ],\n        \"semantic_type\": \"\",\n        \"description\": \"\"\n      }\n    },\n    {\n      \"column\": \"very_neg_count\",\n      \"properties\": {\n        \"dtype\": \"number\",\n        \"std\": 0,\n        \"min\": 0,\n        \"max\": 1,\n        \"num_unique_values\": 2,\n        \"samples\": [\n          1\n        ],\n        \"semantic_type\": \"\",\n        \"description\": \"\"\n      }\n    },\n    {\n      \"column\": \"neutral_count\",\n      \"properties\": {\n        \"dtype\": \"number\",\n        \"std\": 3,\n        \"min\": 10,\n        \"max\": 21,\n        \"num_unique_values\": 8,\n        \"samples\": [\n          20\n        ],\n        \"semantic_type\": \"\",\n        \"description\": \"\"\n      }\n    },\n    {\n      \"column\": \"year_month\",\n      \"properties\": {\n        \"dtype\": \"period[M]\",\n        \"num_unique_values\": 8,\n        \"samples\": [\n          \"2021-02\"\n        ],\n        \"semantic_type\": \"\",\n        \"description\": \"\"\n      }\n    }\n  ]\n}"
            }
          },
          "metadata": {},
          "execution_count": 105
        }
      ]
    },
    {
      "cell_type": "code",
      "source": [
        "import matplotlib.pyplot as plt\n",
        "import seaborn as sns\n",
        "\n",
        "# Step 1: Prepare the data\n",
        "# We already have sentiment_summary that contains pos_count, neg_count, and pos_neg_ratio by year_month\n",
        "df['doc_count'] = 1  # Add a column to represent each document as count 1\n",
        "document_counts = df.groupby('year_month')['doc_count'].count()  # Count of documents per month\n",
        "\n",
        "# Merge document counts with sentiment summary\n",
        "sentiment_summary['doc_count'] = document_counts\n",
        "\n",
        "# Step 2: Compute the pos_neg_ratio\n",
        "sentiment_summary['pos_neg_ratio'] = (\n",
        "    sentiment_summary['pos_count'] / sentiment_summary['neg_count']\n",
        ").replace([float('inf'), -float('inf')], 0)  # Handle division by zero or infinity cases\n",
        "\n",
        "# Negate the ratio if negative\n",
        "sentiment_summary['pos_neg_ratio'] = sentiment_summary['pos_neg_ratio'].where(sentiment_summary['neg_count'] > 0, -sentiment_summary['pos_neg_ratio'])\n",
        "\n",
        "# Step 3: First plot - Sentiment Trend Line Plot (Pos/Neg over time)\n",
        "plt.figure(figsize=(14, 6))\n",
        "\n",
        "# Create the first plot on the left\n",
        "plt.subplot(1, 2, 1)\n",
        "\n",
        "# Convert PeriodIndex to strings for plotting\n",
        "sns.lineplot(x=sentiment_summary.index.astype(str), y=sentiment_summary['pos_count'], label='Positive', color='green', linewidth=2)\n",
        "sns.lineplot(x=sentiment_summary.index.astype(str), y=sentiment_summary['neg_count'], label='Negative', color='red', linewidth=2)\n",
        "\n",
        "# Customize the appearance\n",
        "plt.title('Sentiment Trend Over Time', fontsize=16, fontweight='bold')\n",
        "plt.ylabel('Count of Sentiments', fontsize=12, fontweight='bold')\n",
        "plt.xlabel('Time (Month)', fontsize=12, fontweight='bold')\n",
        "plt.xticks(rotation=45)\n",
        "plt.legend(title='Sentiment Type')\n",
        "plt.grid(True)\n",
        "\n",
        "# Step 4: Annotating each month for pos_count and neg_count\n",
        "for i in range(len(sentiment_summary)):\n",
        "    month_index = sentiment_summary.index[i].strftime('%Y-%m')  # Convert Period to string\n",
        "    pos_value = sentiment_summary['pos_count'].iloc[i]\n",
        "    neg_value = sentiment_summary['neg_count'].iloc[i]\n",
        "\n",
        "    plt.text(month_index, pos_value, f'Pos: {pos_value}', color='green', fontsize=10, ha='center', va='bottom')\n",
        "    plt.text(month_index, neg_value, f'Neg: {neg_value}', color='red', fontsize=10, ha='center', va='top')\n",
        "\n",
        "# Step 5: Second plot - Joint Plot (Document Count and Sentiment)\n",
        "plt.subplot(1, 2, 2)\n",
        "\n",
        "# Convert PeriodIndex to strings for plotting\n",
        "sns.lineplot(x=sentiment_summary.index.astype(str), y=sentiment_summary['doc_count'], color='blue', linewidth=2)\n",
        "plt.title('Documents Over Time with Sentiment Ratio', fontsize=16, fontweight='bold')\n",
        "plt.ylabel('Document Count', fontsize=12, fontweight='bold')\n",
        "plt.xlabel('Time (Month)', fontsize=12, fontweight='bold')\n",
        "plt.xticks(rotation=45)\n",
        "plt.grid(True)\n",
        "\n",
        "# Add the lower scatter/density plot for sentiment ratio vs. document count\n",
        "plt.twinx()  # Create a twin y-axis to overlay the sentiment ratio plot\n",
        "\n",
        "# Convert PeriodIndex to strings for plotting\n",
        "sns.scatterplot(x=sentiment_summary.index.astype(str), y=sentiment_summary['pos_neg_ratio'], color='purple', alpha=0.6)\n",
        "plt.ylabel('Pos/Neg Ratio', fontsize=12)\n",
        "\n",
        "# Adjust layout for better aesthetics\n",
        "plt.tight_layout()\n",
        "plt.show()\n"
      ],
      "metadata": {
        "colab": {
          "base_uri": "https://localhost:8080/",
          "height": 607
        },
        "id": "y95qNPxJ9Ty4",
        "outputId": "fe8daa1f-133d-43d0-9a2a-a5549997e4e4"
      },
      "execution_count": 106,
      "outputs": [
        {
          "output_type": "display_data",
          "data": {
            "text/plain": [
              "<Figure size 1400x600 with 3 Axes>"
            ],
            "image/png": "[encoded data removed]"
          },
          "metadata": {}
        }
      ]
    }
  ]
}